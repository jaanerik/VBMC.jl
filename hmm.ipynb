{
 "cells": [
  {
   "cell_type": "markdown",
   "metadata": {},
   "source": [
    "# Noise is set to 1. for testing purposes"
   ]
  },
  {
   "cell_type": "code",
   "execution_count": null,
   "metadata": {},
   "outputs": [],
   "source": [
    "using RxInfer\n",
    "using TOML\n",
    "using VBMC\n",
    "\n",
    "using Distributions\n",
    "using Random\n",
    "using StatsBase\n",
    "using LogarithmicNumbers\n",
    "using LinearAlgebra\n",
    "using Combinatorics: permutations\n",
    "\n",
    "Random.seed!(1234)\n",
    "if \"test\" in readdir()\n",
    "    cd(\"test\")\n",
    "end\n",
    "\n",
    "function elbo(mcx, mcu)\n",
    "    \"Assumes P1, Pt, Pe as global vars.\"\n",
    "    elbo = 0.\n",
    "    elbo += Iterators.product(1:U, 1:X) .|>\n",
    "    (\n",
    "        ((u,x),) -> log(P1[u,x]*Pe[u,x,hpmm.Y[1]]/(mcx.P1[x] * mcu.P1[u])) * mcx.P1[x] * mcu.P1[u]\n",
    "    ) |> sum\n",
    "    elbo2 = 0.\n",
    "    for t in 2:T\n",
    "        elbo2 += Iterators.product(1:U, 1:X, 1:U, 1:X) .|>\n",
    "        (\n",
    "            ((u,x,uprev,xprev),) -> \n",
    "            begin\n",
    "                qtu = VBMC.quuprev(u, uprev, mcx, t, hpmm.Y[t], Pt, Pe)\n",
    "                qtx = VBMC.qxxprev(x, xprev, mcu, t, hpmm.Y[t], Pt, Pe)\n",
    "                log(\n",
    "                    Pt[u,x,uprev,xprev]*Pe[u,x,hpmm.Y[t]]/(qtu * qtx)\n",
    "                ) * mcx.Pt[x,xprev,t] * mcu.Pt[u,uprev,t]\n",
    "            end\n",
    "        ) |> sum\n",
    "    end\n",
    "    elbo + elbo2\n",
    "end\n",
    "\n",
    "struct EmissionNode{T <: Real} <: ContinuousUnivariateDistribution\n",
    "    y :: T\n",
    "    wt :: T\n",
    "end\n",
    "\n",
    "struct MetaTransition\n",
    "    mat :: Matrix{Float64}\n",
    "    t :: Int\n",
    "end\n",
    "\n",
    "struct HmmTransition{T <: Real} <: DiscreteMultivariateDistribution\n",
    "    wpast :: AbstractArray{T}\n",
    "    wt :: AbstractArray{T}\n",
    "end"
   ]
  },
  {
   "cell_type": "code",
   "execution_count": 17,
   "metadata": {},
   "outputs": [
    {
     "data": {
      "text/plain": [
       "create_model (generic function with 1 method)"
      ]
     },
     "execution_count": 17,
     "metadata": {},
     "output_type": "execute_result"
    }
   ],
   "source": [
    "vars = TOML.parsefile(\"Constants.toml\")\n",
    "T, U, X, Y = vars[\"T\"], vars[\"U\"], vars[\"X\"], vars[\"Y\"]\n",
    "T = 100\n",
    "noise_std = vars[\"noise_std\"]\n",
    "function emissionf(randVal, u, x)\n",
    "    randVal .+ x\n",
    "end\n",
    "function revf(emission, u, x)\n",
    "    emission .- x\n",
    "end #the dot vectorizes, could use X instead\n",
    "emission = Emission(emissionf, revf)\n",
    "\n",
    "function create_model()\n",
    "    P1 = begin\n",
    "        ones(U*X) |>\n",
    "        Dirichlet |>\n",
    "        rand |>\n",
    "        (x -> Categorical(x)) |>\n",
    "        (d -> ReshapedCategorical(d, U, X))\n",
    "    end\n",
    "    Pt = reshape(rand(Dirichlet(ones(U*X)), U * X), (U, X, U, X)) |> TransitionDistribution\n",
    "    Pe = EmissionDistribution{Continuous}(Normal(0, noise_std), emission, U, X)\n",
    "    dist = HpmmDistribution(P1, Pt, Pe)\n",
    "    hpmm = rand(dist, T)\n",
    "    dist, hpmm\n",
    "end"
   ]
  },
  {
   "cell_type": "code",
   "execution_count": 18,
   "metadata": {},
   "outputs": [
    {
     "data": {
      "text/plain": [
       "get_pdf (generic function with 1 method)"
      ]
     },
     "execution_count": 18,
     "metadata": {},
     "output_type": "execute_result"
    }
   ],
   "source": [
    "function find_viterbiu(posteriors_w)\n",
    "    posteriors_w .|> dist -> (sum(reshape(dist.p, U, X), dims=2) |> Iterators.flatten |> collect |> argmax)\n",
    "end\n",
    "# vmpus = find_viterbiu(a.posteriors[:w][20]);\n",
    "function get_digits(val, base) digits(val, base=base, pad=T) .|> x -> x+1 end\n",
    "\n",
    "function get_percentile(path, probabilities)\n",
    "    len = length(probabilities)\n",
    "    pos = length(probabilities[probabilities .<= get_pdf(path)])\n",
    "    pos/len\n",
    "end\n",
    "\n",
    "function get_pdf(xs)\n",
    "    prevalphas = ones(U) .|> ULogarithmic\n",
    "    for t in 1:T\n",
    "        if t == 1\n",
    "            p1 = 0.\n",
    "            for u in 1:U\n",
    "                prevalphas[u] = P1[u,xs[t]] * Pe[u,xs[t],hpmm.Y[t]]\n",
    "            end\n",
    "        else\n",
    "            pts = Iterators.product(1:U, 1:U) .|> ((u,uprev),) -> Pt[u,xs[t],uprev,xs[t-1]] * Pe[u,xs[t],hpmm.Y[t]]\n",
    "            prevalphas = pts' * prevalphas\n",
    "        end\n",
    "    end\n",
    "    prevalphas |> sum\n",
    "end"
   ]
  },
  {
   "cell_type": "markdown",
   "metadata": {},
   "source": [
    "# Variational Message Passing setup"
   ]
  },
  {
   "cell_type": "code",
   "execution_count": 19,
   "metadata": {},
   "outputs": [],
   "source": [
    "function get_x(w)\n",
    "    VBMC.reshapeindex(w, U, X)[2]\n",
    "end\n",
    "function get_u(w)\n",
    "    VBMC.reshapeindex(w, U, X)[1]\n",
    "end\n",
    "\n",
    "@node HmmTransition Stochastic [wt, wp]\n",
    "\n",
    "@rule HmmTransition(:wp, Marginalisation) (q_wt :: Categorical, meta::MetaTransition) = begin\n",
    "    G = q_wt.p\n",
    "    A = meta.mat\n",
    "    ηs = exp.(log.(A)' * G)\n",
    "    νs = ηs ./ sum(ηs)\n",
    "    return Categorical(νs...)\n",
    "end\n",
    "@rule HmmTransition(:wt, Marginalisation) (q_wp :: Categorical, meta::MetaTransition) = begin\n",
    "    F = q_wp.p\n",
    "    A = meta.mat #reshape(Pt.mat, U*X, U*X)\n",
    "    ηs = exp.(log.(A) * F) # .* B # | clamp(⋅,tiny,one) | exp maybe or smth?\n",
    "    νs = ηs ./ sum(ηs)\n",
    "    return Categorical(νs...)\n",
    "end\n",
    "@marginalrule HmmTransition(:wt_wp) (q_wt::Categorical, q_wp::Categorical, meta::MetaTransition) = begin\n",
    "    A = meta.mat\n",
    "    #This is copied from ReactiveMP.jl transition/marginals.jl, however I think this marginalrule is never called\n",
    "    B = Diagonal(probvec(q_wt)) * A * Diagonal(probvec(q_wp))\n",
    "    P = map!(Base.Fix2(/, sum(B)), B, B) # inplace version of B ./ sum(B)\n",
    "    return Contingency(P, Val(false))\n",
    "    # F, G = q_wp.p, q_wt.p\n",
    "    # ηs = exp.(log.(A) * F)\n",
    "    # ps = ηs ./ sum(ηs)\n",
    "    # # ps = ηs .* G\n",
    "    # # ps = ps ./ sum(ps)\n",
    "    # # return (wt = Categorical(ps...), wp = q_wp)\n",
    "    # P = map!(Base.Fix2(/, sum(B)), B, B)\n",
    "\n",
    "    # ηs2 = exp.(log.(A)' * G)\n",
    "    # ps2 = ηs2 ./ sum(ηs2)\n",
    "    # return G' .* (F .* A) |> Iterators.flatten |> collect\n",
    "    # return (wt = Categorical(ps...), wp = Categorical(ps2...))\n",
    "end\n",
    "@average_energy HmmTransition (q_wt::Categorical, q_wp::Categorical, meta::MetaTransition) = begin\n",
    "    A = meta.mat\n",
    "    G, F = q_wp.p, q_wt.p\n",
    "    F' * log.(A) * G\n",
    "end\n",
    "\n",
    "@node EmissionNode Stochastic [y, wt]\n",
    "\n",
    "@rule EmissionNode(:wt, Marginalisation) (q_y::PointMass, ) = begin \n",
    "    B = map(1:U*X) do w pdf(Normal(0,noise_std), q_y.point-get_x(w)) end\n",
    "    return Categorical(B./sum(B)...)\n",
    "end\n",
    "# @rule EmissionNode(:y, Marginalisation) (q_wt :: Categorical, ) = begin\n",
    "#     B = map(1:U*X) do w pdf(Normal(0,noise_std), y-get_x(w)) end\n",
    "#     G = q_wt.p\n",
    "#     return PointMass(exp(log.(B)' * G))\n",
    "# end\n",
    "\n",
    "@marginalrule EmissionNode(:y_wt) (q_wt::Categorical, q_y::PointMass) = begin\n",
    "    B = map(1:U*X) do w pdf(Normal(0,noise_std), y-get_x(w)) end\n",
    "    G = q_wt.p\n",
    "    ps = log(B) .* G\n",
    "    ps = ps./sum(ps)\n",
    "    return (y = q_y, wt = Categorical(ps...)) \n",
    "end\n",
    "@average_energy EmissionNode (q_y::PointMass, q_wt::Categorical) = begin\n",
    "    B = map(1:U*X) do w pdf(Normal(0,noise_std), q_y.point-get_x(w)) end\n",
    "    F = q_wt.p\n",
    "    F' * log.(B)\n",
    "end\n",
    "\n",
    "constraints = @constraints begin\n",
    "    q(w) = q(w[begin])..q(w[end])\n",
    "end\n",
    "\n",
    "init = @initialization begin\n",
    "    # Note T is hardcoded for now\n",
    "    for t in 2:T\n",
    "        q(w[t]) = vague(Categorical, U*X)\n",
    "    end\n",
    "end;"
   ]
  },
  {
   "cell_type": "code",
   "execution_count": 29,
   "metadata": {},
   "outputs": [],
   "source": [
    "# p1 = P1.d.p\n",
    "\n",
    "# @eval @model function hidden_markov_model(y)\n",
    "#     w[1] ~ Categorical(p1)\n",
    "#     y[1] ~ EmissionNode(w[1])\n",
    "#     for t in 2:length(y)\n",
    "#         w[t] ~ HmmTransition(w[t-1]) where { meta = MetaTransition(reshape(Pt.mat, U*X, U*X), t) }\n",
    "#         y[t] ~ EmissionNode(w[t])\n",
    "#     end\n",
    "# end\n",
    "\n",
    "# pathvmp = infer_vmp(hpmm.Y, hidden_markov_model) |> a -> a.posteriors[:w] |> last |> find_viterbi;\n",
    "# # pathbp = find_belief_prop_path();"
   ]
  },
  {
   "cell_type": "code",
   "execution_count": 5,
   "metadata": {},
   "outputs": [
    {
     "data": {
      "text/plain": [
       "(HpmmDistribution(ReshapedCategorical(Categorical{Float64, Vector{Float64}}(\n",
       "support: Base.OneTo(6)\n",
       "p: [0.024394539459170042, 0.15338254375246516, 0.17617329801791798, 0.10970725111237985, 0.23675936086230961, 0.2995830067957574]\n",
       ")\n",
       ", 3, 2, nothing), TransitionDistribution([0.07757085772550631 0.10691600554255486; 0.0837559928742681 0.24878643665538883; 0.0933412046039046 0.3896295025983774;;; 0.13435598648589636 0.0625407873459112; 0.0875991075861795 0.1415939778226005; 0.25510102800233114 0.31880911275708135;;; 0.016794504404259784 0.0732044232648002; 0.19974813961256987 0.15271737311929992; 0.3472900755721375 0.21024548402693272;;;; 0.043591774755137265 0.19399151317488603; 0.14900786232232988 0.21358908677688454; 0.19972784145479283 0.2000919215159696;;; 0.017935345397800298 0.15447288238504406; 0.11593444808327888 0.24502198262269392; 0.14411455863909367 0.32252078287208924;;; 0.01699694042124585 0.22952807072491957; 0.17305280362262807 0.09886505269171775; 0.23863592162671304 0.24292121091277585], 3, 2, nothing), EmissionDistribution{Continuous}(Normal{Float64}(μ=0.0, σ=1.25), Emission(Main.emissionf, Main.revf), 3, 2)), TMM([2, 3, 3, 3, 2, 1, 1, 3, 1, 1, 3, 3, 2, 3, 2, 3, 3, 2, 3, 2], [1, 2, 2, 1, 2, 2, 2, 2, 2, 2, 2, 1, 2, 2, 1, 2, 1, 1, 2, 1], Real[0.1288857066382766, 4.507403615547979, 2.520142939087486, 0.2923639159442577, 5.702525470823502, 1.2042890236972137, 2.6009543637497377, 2.2467495214148716, 3.547208064441489, 0.2850461118155214, 0.8354249899160298, 0.9451086997287016, 1.4373734132047358, 2.9054864895702557, 1.7736047528062235, 1.2714665308532014, -0.15632088112712594, 1.2049692062732271, 1.6295920381036253, 1.8528843775074888]))"
      ]
     },
     "execution_count": 5,
     "metadata": {},
     "output_type": "execute_result"
    }
   ],
   "source": [
    "P1 = begin\n",
    "    Vector(1:U*X) |>\n",
    "    Dirichlet |>\n",
    "    rand |>\n",
    "    (x -> Categorical(x)) |>\n",
    "    (d -> ReshapedCategorical(d, U, X))\n",
    "end\n",
    "Pt = reshape(rand(Dirichlet(1:U*X), U * X), (U, X, U, X)) |> TransitionDistribution\n",
    "Pe = EmissionDistribution{Continuous}(Normal(0, noise_std), emission, U, X)\n",
    "dist = HpmmDistribution(P1, Pt, Pe)\n",
    "hpmm = rand(dist, T)\n",
    "dist, hpmm"
   ]
  },
  {
   "cell_type": "code",
   "execution_count": 30,
   "metadata": {},
   "outputs": [
    {
     "data": {
      "text/plain": [
       "find_viterbi (generic function with 1 method)"
      ]
     },
     "execution_count": 30,
     "metadata": {},
     "output_type": "execute_result"
    }
   ],
   "source": [
    "function infer_vmp(y, model)\n",
    "    infer(\n",
    "        model = model(),\n",
    "        constraints = constraints,\n",
    "        initialization = init,\n",
    "        data = (y = y,),\n",
    "        options = (limit_stack_depth = 500,),\n",
    "        free_energy = true,\n",
    "        showprogress=true,\n",
    "        iterations = 20,\n",
    "        warn = false\n",
    "    )\n",
    "end\n",
    "function find_viterbi(posteriors_w)\n",
    "    posteriors_w .|> dist -> (sum(reshape(dist.p, U, X), dims=1) |> Iterators.flatten |> collect |> argmax)\n",
    "end"
   ]
  },
  {
   "cell_type": "markdown",
   "metadata": {},
   "source": [
    "# Belief prop"
   ]
  },
  {
   "cell_type": "code",
   "execution_count": 22,
   "metadata": {},
   "outputs": [
    {
     "data": {
      "text/plain": [
       "find_belief_prop_path (generic function with 1 method)"
      ]
     },
     "execution_count": 22,
     "metadata": {},
     "output_type": "execute_result"
    }
   ],
   "source": [
    "function find_belief_prop_path()\n",
    "    mcu = MarkovChain(U, T)\n",
    "    mcx = MarkovChain(X, T)\n",
    "\n",
    "    function norm(A::AbstractArray; p = 2)\n",
    "        sum(abs.(A) .^ p)^(1 / p)\n",
    "    end\n",
    "\n",
    "    elboold = 0.\n",
    "    for _ = 1:200\n",
    "        tmpP1, tmpPt = mcx.P1 |> deepcopy, mcx.Pt |> deepcopy\n",
    "        fillalphaX!(mcx, mcu, P1, Pt, Pe, hpmm.Y)\n",
    "        fillbetaX!(mcx, mcu, Pt, Pe, hpmm.Y)\n",
    "        VBMC.fillPtx!(mcx, mcu, Pt, Pe, hpmm.Y)\n",
    "\n",
    "        fillalphaU!(mcu, mcx, P1, Pt, Pe, hpmm.Y)\n",
    "        fillbetaU!(mcu, mcx, Pt, Pe, hpmm.Y)\n",
    "        VBMC.fillPtu!(mcu, mcx, Pt, Pe, hpmm.Y)\n",
    "\n",
    "        elbonew = elbo(mcx ,mcu)\n",
    "        if (elbonew - elboold)/elboold |> abs < 1.e-17\n",
    "            break\n",
    "        end\n",
    "        elboold = elbonew\n",
    "    end\n",
    "    VBMC.viterbi(mcx)\n",
    "end"
   ]
  },
  {
   "cell_type": "markdown",
   "metadata": {},
   "source": [
    "# Experiments"
   ]
  },
  {
   "cell_type": "code",
   "execution_count": 23,
   "metadata": {},
   "outputs": [
    {
     "data": {
      "text/plain": [
       "(HpmmDistribution(ReshapedCategorical(Categorical{Float64, Vector{Float64}}(\n",
       "support: Base.OneTo(6)\n",
       "p: [0.024394539459170042, 0.15338254375246516, 0.17617329801791798, 0.10970725111237985, 0.23675936086230961, 0.2995830067957574]\n",
       ")\n",
       ", 3, 2, nothing), TransitionDistribution([0.07757085772550631 0.10691600554255486; 0.0837559928742681 0.24878643665538883; 0.0933412046039046 0.3896295025983774;;; 0.13435598648589636 0.0625407873459112; 0.0875991075861795 0.1415939778226005; 0.25510102800233114 0.31880911275708135;;; 0.016794504404259784 0.0732044232648002; 0.19974813961256987 0.15271737311929992; 0.3472900755721375 0.21024548402693272;;;; 0.043591774755137265 0.19399151317488603; 0.14900786232232988 0.21358908677688454; 0.19972784145479283 0.2000919215159696;;; 0.017935345397800298 0.15447288238504406; 0.11593444808327888 0.24502198262269392; 0.14411455863909367 0.32252078287208924;;; 0.01699694042124585 0.22952807072491957; 0.17305280362262807 0.09886505269171775; 0.23863592162671304 0.24292121091277585], 3, 2, nothing), EmissionDistribution{Continuous}(Normal{Float64}(μ=0.0, σ=1.25), Emission(Main.emissionf, Main.revf), 3, 2)), TMM([2, 3, 3, 3, 2, 1, 1, 3, 1, 1  …  2, 1, 3, 3, 1, 3, 2, 3, 3, 3], [1, 2, 2, 1, 2, 2, 2, 2, 2, 2  …  1, 2, 1, 2, 1, 1, 1, 1, 2, 2], Real[0.1288857066382766, 4.507403615547979, 2.520142939087486, 0.2923639159442577, 5.702525470823502, 1.2042890236972137, 2.6009543637497377, 2.2467495214148716, 3.547208064441489, 0.2850461118155214  …  -1.739144587814037, 0.9671989105729493, 0.8458991650165261, 1.3566538145882103, -0.9942398175896705, 0.9215675856480492, 2.752960615764602, 1.4707271430066284, 1.5179141881998615, 2.554978561843539]))"
      ]
     },
     "execution_count": 23,
     "metadata": {},
     "output_type": "execute_result"
    }
   ],
   "source": [
    "P1 = begin\n",
    "    Vector(1:U*X) |>\n",
    "    Dirichlet |>\n",
    "    rand |>\n",
    "    (x -> Categorical(x)) |>\n",
    "    (d -> ReshapedCategorical(d, U, X))\n",
    "end\n",
    "Pt = reshape(rand(Dirichlet(1:U*X), U * X), (U, X, U, X)) |> TransitionDistribution\n",
    "Pe = EmissionDistribution{Continuous}(Normal(0, noise_std), emission, U, X)\n",
    "dist = HpmmDistribution(P1, Pt, Pe)\n",
    "hpmm = rand(dist, T)\n",
    "dist, hpmm"
   ]
  },
  {
   "cell_type": "code",
   "execution_count": 26,
   "metadata": {},
   "outputs": [
    {
     "name": "stderr",
     "output_type": "stream",
     "text": [
      "\u001b[32mProgress: 100%|█████████████████████████████████████████| Time: 0:00:00\u001b[39m\n"
     ]
    }
   ],
   "source": [
    "p1 = P1.d.p\n",
    "\n",
    "@eval @model function hidden_markov_model(y)\n",
    "    w[1] ~ Categorical(p1)\n",
    "    y[1] ~ EmissionNode(w[1])\n",
    "    for t in 2:length(y)\n",
    "        w[t] ~ HmmTransition(w[t-1]) where { meta = MetaTransition(reshape(Pt.mat, U*X, U*X), t) }\n",
    "        y[t] ~ EmissionNode(w[t])\n",
    "    end\n",
    "end\n",
    "\n",
    "pathvmp = infer_vmp(hpmm.Y, hidden_markov_model) |> a -> a.posteriors[:w] |> last |> find_viterbi\n",
    "pathbp = find_belief_prop_path();"
   ]
  },
  {
   "cell_type": "markdown",
   "metadata": {},
   "source": [
    "# Results"
   ]
  },
  {
   "cell_type": "code",
   "execution_count": 33,
   "metadata": {},
   "outputs": [],
   "source": [
    "# probabilities = zeros(0) .|> ULogFloat64\n",
    "# maxprob = ULogFloat64(0.)\n",
    "# best_path = zeros(T) .|> Int\n",
    "# for x in 0:(X^T-1)\n",
    "#     xs = get_digits(x, X)\n",
    "#     total_prob = get_pdf(xs)\n",
    "#     if maxprob < total_prob\n",
    "#         maxprob = total_prob\n",
    "#         best_path .= xs\n",
    "#     end\n",
    "#     append!(probabilities, total_prob)\n",
    "# end\n",
    "# @eval probabilities = probabilities;"
   ]
  },
  {
   "cell_type": "code",
   "execution_count": 44,
   "metadata": {},
   "outputs": [
    {
     "data": {
      "text/plain": [
       "1.0"
      ]
     },
     "execution_count": 44,
     "metadata": {},
     "output_type": "execute_result"
    }
   ],
   "source": [
    "xs = get_digits((probabilities |> argmax) - 1, X);\n",
    "get_percentile(pathbp, probabilities)\n"
   ]
  },
  {
   "cell_type": "code",
   "execution_count": 42,
   "metadata": {},
   "outputs": [
    {
     "data": {
      "text/plain": [
       "(3.36e-16, 3.36e-16, 3.36e-16, 2.0e-18)"
      ]
     },
     "execution_count": 42,
     "metadata": {},
     "output_type": "execute_result"
    }
   ],
   "source": [
    "a = best_path |> get_pdf, pathbp |> get_pdf, pathvmp |> get_pdf, naivepath |> get_pdf\n",
    "a .|> float .|> b -> round(b,digits=18)"
   ]
  },
  {
   "cell_type": "code",
   "execution_count": 40,
   "metadata": {},
   "outputs": [],
   "source": [
    "function prob_arg_to_path(prob)\n",
    "    (probabilities .== prob) |> argmax |> i -> get_digits(i-1, X)\n",
    "end\n",
    "function hamming(xs1,xs2) sum(xs1 .!= xs2) end\n",
    "f = x -> abs(x-1) < abs(x-2) ? 1 : 2\n",
    "function last_n(a, N) \n",
    "    a |> reverse |> a -> a[1:N] |> reverse\n",
    "end\n",
    "naivepath = hpmm.Y .|> f;"
   ]
  },
  {
   "cell_type": "code",
   "execution_count": 73,
   "metadata": {},
   "outputs": [],
   "source": [
    "#probabilities |> sort |> l -> last_n(l, 20) .|> prob_arg_to_path .|> l -> hamming(best_path, l)"
   ]
  },
  {
   "cell_type": "code",
   "execution_count": 74,
   "metadata": {},
   "outputs": [
    {
     "data": {
      "text/plain": [
       "(+exp(-213.21076843814436), +exp(-213.39226030862915))"
      ]
     },
     "execution_count": 74,
     "metadata": {},
     "output_type": "execute_result"
    }
   ],
   "source": [
    "pathbp |> get_pdf, pathvmp |> get_pdf"
   ]
  },
  {
   "cell_type": "code",
   "execution_count": 82,
   "metadata": {},
   "outputs": [
    {
     "data": {
      "text/plain": [
       "3.376610416666667"
      ]
     },
     "execution_count": 82,
     "metadata": {},
     "output_type": "execute_result"
    }
   ],
   "source": [
    "3921225 / 1000 * 3.1 / 60 / 60"
   ]
  },
  {
   "cell_type": "code",
   "execution_count": 77,
   "metadata": {},
   "outputs": [],
   "source": [
    "for _ in 1:1000\n",
    "    get_pdf(pathbp)\n",
    "end"
   ]
  },
  {
   "cell_type": "code",
   "execution_count": 100,
   "metadata": {},
   "outputs": [
    {
     "data": {
      "text/plain": [
       "1-element Vector{Int64}:\n",
       " 1"
      ]
     },
     "execution_count": 100,
     "metadata": {},
     "output_type": "execute_result"
    }
   ],
   "source": [
    "combo = Combinatorics.combinations(1:100, 1) |> first"
   ]
  },
  {
   "cell_type": "code",
   "execution_count": 114,
   "metadata": {},
   "outputs": [],
   "source": [
    "combos, vmp_probs, bp_probs, x_probs = zeros(0) |> Vector{Vector{Int}}, zeros(0), zeros(0), zeros(0)\n",
    "change_x = x -> x == 1 ? 2 : 1\n",
    "for combo in Combinatorics.combinations(1:100, 1)\n",
    "    append!(combos, [combo])\n",
    "    newpath_vmp,newpath_bp,newpath_x = zeros(100) .|> Int, zeros(100) .|> Int, zeros(100) .|> Int\n",
    "    newpath_vmp .= pathvmp\n",
    "    newpath_bp .= pathbp\n",
    "    newpath_x .= hpmm.X\n",
    "    newpath_vmp[combo] = newpath_vmp[combo] .|> change_x\n",
    "    newpath_bp[combo] = newpath_bp[combo] .|> change_x\n",
    "    newpath_x[combo] = newpath_x[combo] .|> change_x\n",
    "    append!(vmp_probs, get_pdf(newpath_vmp))\n",
    "    append!(bp_probs, get_pdf(newpath_bp))\n",
    "    append!(x_probs, get_pdf(newpath_x))\n",
    "end\n",
    "\n",
    "for combo in Combinatorics.combinations(1:100, 2)\n",
    "    append!(combos, [combo])\n",
    "    newpath_vmp,newpath_bp,newpath_x = zeros(100) .|> Int, zeros(100) .|> Int, zeros(100) .|> Int\n",
    "    newpath_vmp .= pathvmp\n",
    "    newpath_bp .= pathbp\n",
    "    newpath_x .= hpmm.X\n",
    "    newpath_vmp[combo] = newpath_vmp[combo] .|> change_x\n",
    "    newpath_bp[combo] = newpath_bp[combo] .|> change_x\n",
    "    newpath_x[combo] = newpath_x[combo] .|> change_x\n",
    "    append!(vmp_probs, get_pdf(newpath_vmp))\n",
    "    append!(bp_probs, get_pdf(newpath_bp))\n",
    "    append!(x_probs, get_pdf(newpath_x))\n",
    "end\n",
    "\n",
    "for combo in Combinatorics.combinations(1:100, 3)\n",
    "    append!(combos, [combo])\n",
    "    newpath_vmp,newpath_bp,newpath_x = zeros(100) .|> Int, zeros(100) .|> Int, zeros(100) .|> Int\n",
    "    newpath_vmp .= pathvmp\n",
    "    newpath_bp .= pathbp\n",
    "    newpath_x .= hpmm.X\n",
    "    newpath_vmp[combo] = newpath_vmp[combo] .|> change_x\n",
    "    newpath_bp[combo] = newpath_bp[combo] .|> change_x\n",
    "    newpath_x[combo] = newpath_x[combo] .|> change_x\n",
    "    append!(vmp_probs, get_pdf(newpath_vmp))\n",
    "    append!(bp_probs, get_pdf(newpath_bp))\n",
    "    append!(x_probs, get_pdf(newpath_x))\n",
    "end"
   ]
  },
  {
   "cell_type": "code",
   "execution_count": null,
   "metadata": {},
   "outputs": [],
   "source": [
    "get_percentile(pathvmp, all_neighborhoods), get_percentile(pathbp, all_neighborhoods), get_percentile(hpmm.X, all_neighborhoods)"
   ]
  },
  {
   "cell_type": "code",
   "execution_count": 119,
   "metadata": {},
   "outputs": [
    {
     "data": {
      "text/plain": [
       "(4.4297894663218935e-93, 4.548815314687853e-93, 1.4974498533789258e-100)"
      ]
     },
     "execution_count": 119,
     "metadata": {},
     "output_type": "execute_result"
    }
   ],
   "source": [
    "vmp_probs |> maximum |> float,bp_probs |> maximum |> float,x_probs |> maximum |> float"
   ]
  },
  {
   "cell_type": "code",
   "execution_count": 121,
   "metadata": {},
   "outputs": [
    {
     "data": {
      "text/plain": [
       "(2.5336101193696097e-93, 2.1130942444017528e-93)"
      ]
     },
     "execution_count": 121,
     "metadata": {},
     "output_type": "execute_result"
    }
   ],
   "source": [
    "pathbp |> get_pdf |> float, pathvmp |> get_pdf |> float"
   ]
  },
  {
   "cell_type": "code",
   "execution_count": 124,
   "metadata": {},
   "outputs": [
    {
     "data": {
      "text/plain": [
       "([50, 53, 61], [1, 4, 16])"
      ]
     },
     "execution_count": 124,
     "metadata": {},
     "output_type": "execute_result"
    }
   ],
   "source": [
    "combos[vmp_probs |> argmax], combos[bp_probs |> argmax]"
   ]
  },
  {
   "cell_type": "code",
   "execution_count": 141,
   "metadata": {},
   "outputs": [
    {
     "data": {
      "text/plain": [
       "(0.9970195081288867, 0.9987966089158885, 0.24849226291496504)"
      ]
     },
     "execution_count": 141,
     "metadata": {},
     "output_type": "execute_result"
    }
   ],
   "source": [
    "# combos[5051] #1 2 3\n",
    "onetwo_neighborhoods = vcat(vmp_probs[1:5050], bp_probs[1:5050], x_probs[1:5050], [pathvmp, pathbp, hpmm.X] .|> get_pdf)\n",
    "all_neighborhoods = vcat(vmp_probs, bp_probs, x_probs, [pathvmp, pathbp, hpmm.X] .|> get_pdf)\n",
    "get_percentile(pathvmp, all_neighborhoods), get_percentile(pathbp, all_neighborhoods), get_percentile(hpmm.X, all_neighborhoods)"
   ]
  },
  {
   "cell_type": "code",
   "execution_count": 142,
   "metadata": {},
   "outputs": [
    {
     "data": {
      "text/plain": [
       "(0.9848214874942256, 0.9937306143997888, 0.23579489210057414)"
      ]
     },
     "execution_count": 142,
     "metadata": {},
     "output_type": "execute_result"
    }
   ],
   "source": [
    "get_percentile(pathvmp, onetwo_neighborhoods), get_percentile(pathbp, onetwo_neighborhoods), get_percentile(hpmm.X, onetwo_neighborhoods)"
   ]
  },
  {
   "cell_type": "code",
   "execution_count": null,
   "metadata": {},
   "outputs": [],
   "source": []
  }
 ],
 "metadata": {
  "kernelspec": {
   "display_name": "Julia 1.11.2",
   "language": "julia",
   "name": "julia-1.11"
  },
  "language_info": {
   "file_extension": ".jl",
   "mimetype": "application/julia",
   "name": "julia",
   "version": "1.11.2"
  }
 },
 "nbformat": 4,
 "nbformat_minor": 2
}
