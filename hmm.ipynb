{
 "cells": [
  {
   "cell_type": "code",
   "execution_count": 21,
   "metadata": {},
   "outputs": [],
   "source": [
    "using RxInfer\n",
    "using GraphViz\n",
    "\n",
    "using Test\n",
    "using TOML\n",
    "using BenchmarkTools\n",
    "using VBMC\n",
    "\n",
    "using Distributions\n",
    "using Random\n",
    "using StatsBase\n",
    "using LogarithmicNumbers\n",
    "\n",
    "Random.seed!(123)\n",
    "if \"test\" in readdir()\n",
    "    cd(\"test\")\n",
    "end"
   ]
  },
  {
   "cell_type": "code",
   "execution_count": 2,
   "metadata": {},
   "outputs": [
    {
     "data": {
      "text/plain": [
       "TMM([2, 2, 1, 2, 2, 3, 1, 3, 3, 3], [1, 2, 1, 1, 2, 1, 2, 2, 1, 1], Real[1.9462520540394483, 0.400486398281505, 0.7818534172114023, 0.9439661647964503, 2.772446008942392, 2.1820063231704294, 3.497173221868116, -0.537449378339451, 1.2614883159061654, 0.7062992660066807])"
      ]
     },
     "execution_count": 2,
     "metadata": {},
     "output_type": "execute_result"
    }
   ],
   "source": [
    "vars = TOML.parsefile(\"Constants.toml\")\n",
    "T, U, X, Y = vars[\"T\"], vars[\"U\"], vars[\"X\"], vars[\"Y\"]\n",
    "@test T == 10 && U == 3 && X == 2\n",
    "\n",
    "P1 = begin\n",
    "    Vector(1:U*X) |>\n",
    "    Dirichlet |>\n",
    "    rand |>\n",
    "    (x -> Categorical(x)) |>\n",
    "    (d -> ReshapedCategorical(d, U, X))\n",
    "end\n",
    "\n",
    "#P(·,· | u_prev, x_prev) = Pt[:,:,u_prev,x_prev] sums to 1 for fixed u_prev, x_prev\n",
    "Pt = reshape(rand(Dirichlet(1:U*X), U * X), (U, X, U, X)) |> TransitionDistribution\n",
    "\n",
    "function emissionf(randVal, u, x)\n",
    "    randVal .+ x\n",
    "end\n",
    "function revf(emission, u, x)\n",
    "    emission .- x\n",
    "end #the dot vectorizes, could use X instead\n",
    "emission = Emission(emissionf, revf)\n",
    "\n",
    "Pe = EmissionDistribution{Continuous}(Normal(0, 1), emission, U, X)\n",
    "dist = HpmmDistribution(P1, Pt, Pe)\n",
    "hpmm = rand(dist, T)"
   ]
  },
  {
   "cell_type": "code",
   "execution_count": 3,
   "metadata": {},
   "outputs": [],
   "source": [
    "function get_x(w)\n",
    "    VBMC.reshapeindex(w, U, X)[2]\n",
    "end\n",
    "function get_u(w)\n",
    "    VBMC.reshapeindex(w, U, X)[1]\n",
    "end\n",
    "\n",
    "struct HmmTransition{T <: Real} <: DiscreteMultivariateDistribution\n",
    "    wpast :: AbstractArray{T}\n",
    "    wt :: AbstractArray{T}\n",
    "end\n",
    "\n",
    "@node HmmTransition Stochastic [wt, wp]\n",
    "\n",
    "@rule HmmTransition(:wp, Marginalisation) (q_wt :: Categorical,) = begin\n",
    "    G = q_wt.p\n",
    "    A = reshape(Pt.mat, U*X, U*X)\n",
    "    ηs = exp.(log.(A)' * G)\n",
    "    νs = ηs ./ sum(ηs)\n",
    "    return Categorical(νs...)\n",
    "end\n",
    "@rule HmmTransition(:wt, Marginalisation) (q_wp :: Categorical,) = begin\n",
    "    F = q_wp.p\n",
    "    A = reshape(Pt.mat, U*X, U*X)\n",
    "    ηs = exp.(log.(A) * F) # .* B # | clamp(⋅,tiny,one) | exp maybe or smth?\n",
    "    νs = ηs ./ sum(ηs)\n",
    "    return Categorical(νs...)\n",
    "end\n",
    "@marginalrule HmmTransition(:wt_wp) (q_wt::Categorical, q_wp::Categorical) = begin\n",
    "    F, G = q_wp.p, q_wt.p\n",
    "    A = reshape(Pt.mat, U*X, U*X)\n",
    "    ηs = exp.(log.(A) * F) # .* B\n",
    "    ps = ηs .* G\n",
    "    ps = ps ./ sum(ps)\n",
    "    return (wt = Categorical(ps...), wp = q_wp) #leave q_wpast as is?\n",
    "end\n",
    "@average_energy HmmTransition (q_wt::Categorical, q_wp::Categorical) = begin\n",
    "    A = reshape(Pt.mat, U*X, U*X)\n",
    "    G, F = q_wp.p, q_wt.p\n",
    "    F' * log.(A) * G\n",
    "end"
   ]
  },
  {
   "cell_type": "code",
   "execution_count": 4,
   "metadata": {},
   "outputs": [],
   "source": [
    "struct EmissionNode{T <: Real} <: ContinuousUnivariateDistribution\n",
    "    y :: T\n",
    "    wt :: T\n",
    "end\n",
    "\n",
    "@node EmissionNode Stochastic [y, wt]\n",
    "\n",
    "@rule EmissionNode(:wt, Marginalisation) (q_y::PointMass, ) = begin \n",
    "    B = map(1:U*X) do w pdf(Normal(0,1), q_y.point-get_x(w)+1) end\n",
    "    return Categorical(B./sum(B)...)\n",
    "end\n",
    "@rule EmissionNode(:y, Marginalisation) (q_wt :: Categorical, ) = begin\n",
    "    B = map(1:U*X) do w pdf(Normal(0,1), y-get_x(w)+1) end\n",
    "    G = q_wt.p\n",
    "    return PointMass(exp(log.(B)' * G))\n",
    "end\n",
    "\n",
    "@marginalrule EmissionNode(:y_wt) (q_wt::Categorical, q_y::PointMass) = begin\n",
    "    B = map(1:U*X) do w pdf(Normal(0,1), y-get_x(w)+1) end\n",
    "    G = q_wt.p\n",
    "    ps = log(B) .* G\n",
    "    ps = ps./sum(ps)\n",
    "    return (y = q_y, wt = Categorical(ps...)) #leave q_wpast as is?\n",
    "end\n",
    "@average_energy EmissionNode (q_y::PointMass, q_wt::Categorical) = begin\n",
    "    B = map(1:U*X) do w pdf(Normal(0,1), q_y.point-get_x(w)+1) end\n",
    "    F = q_wt.p\n",
    "    F' * log.(B)\n",
    "end"
   ]
  },
  {
   "cell_type": "code",
   "execution_count": 5,
   "metadata": {},
   "outputs": [],
   "source": [
    "using RxInfer\n",
    "B = 1:U*X .|> w -> pdf(Normal(0,1), hpmm.Y[1]-get_x(w))\n",
    "p1 = P1.d.p .* B\n",
    "p1 = p1./sum(p1)\n",
    "p1 = round.(p1,digits=3)\n",
    "\n",
    "\n",
    "@model function hidden_markov_model(y)\n",
    "    w[1] ~ Categorical(p1)\n",
    "    y[1] ~ EmissionNode(w[1])\n",
    "    for t in 2:length(y)\n",
    "        w[t] ~ HmmTransition(w[t-1]) \n",
    "        y[t] ~ EmissionNode(w[t])\n",
    "    end\n",
    "end\n",
    "\n",
    "hidden_markov_constraints = @constraints begin\n",
    "    q(w) = q(w[begin])..q(w[end])\n",
    "end\n",
    "\n",
    "init = @initialization begin\n",
    "    # Note T is hardcoded for now\n",
    "    for t in 1:T\n",
    "        q(w[t]) = vague(Categorical, U*X)\n",
    "    end\n",
    "end;"
   ]
  },
  {
   "cell_type": "code",
   "execution_count": 6,
   "metadata": {},
   "outputs": [
    {
     "data": {
      "image/svg+xml": [
       "<?xml version=\"1.0\" encoding=\"UTF-8\" standalone=\"no\"?>\n",
       "<!DOCTYPE svg PUBLIC \"-//W3C//DTD SVG 1.1//EN\"\n",
       " \"http://www.w3.org/Graphics/SVG/1.1/DTD/svg11.dtd\">\n",
       "<!-- Generated by graphviz version 2.50.0 (20211204.2007)\n",
       " -->\n",
       "<!-- Title: G Pages: 1 -->\n",
       "<svg width=\"360pt\" height=\"73pt\"\n",
       " viewBox=\"0.00 0.00 360.00 72.83\" xmlns=\"http://www.w3.org/2000/svg\" xmlns:xlink=\"http://www.w3.org/1999/xlink\">\n",
       "<g id=\"graph0\" class=\"graph\" transform=\"scale(0.16 0.16) rotate(0) translate(4 454.16)\">\n",
       "<title>G</title>\n",
       "<polygon fill=\"white\" stroke=\"transparent\" points=\"-4,4 -4,-454.16 2260.58,-454.16 2260.58,4 -4,4\"/>\n",
       "<!-- w_1:nothing -->\n",
       "<g id=\"node1\" class=\"node\">\n",
       "<title>w_1:nothing</title>\n",
       "<ellipse fill=\"none\" stroke=\"black\" cx=\"341.58\" cy=\"-324.58\" rx=\"18\" ry=\"18\"/>\n",
       "<text text-anchor=\"start\" x=\"335.08\" y=\"-322.48\" font-family=\"Times,serif\" font-size=\"12.00\">w</text>\n",
       "<text text-anchor=\"start\" x=\"345.08\" y=\"-322.48\" font-family=\"Times,serif\" baseline-shift=\"sub\" font-size=\"6.00\">1</text>\n",
       "</g>\n",
       "<!-- Categorical{P} where P&lt;:Real_3 -->\n",
       "<g id=\"node3\" class=\"node\">\n",
       "<title>Categorical{P} where P&lt;:Real_3</title>\n",
       "<polygon fill=\"lightgray\" stroke=\"black\" points=\"217.08,-163 54.08,-163 54.08,0 217.08,0 217.08,-163\"/>\n",
       "<text text-anchor=\"middle\" x=\"135.58\" y=\"-78.4\" font-family=\"Times,serif\" font-size=\"12.00\">Categorical{P} where P&lt;:Real</text>\n",
       "</g>\n",
       "<!-- w_1:nothing&#45;&#45;Categorical{P} where P&lt;:Real_3 -->\n",
       "<g id=\"edge1\" class=\"edge\">\n",
       "<title>w_1:nothing&#45;&#45;Categorical{P} where P&lt;:Real_3</title>\n",
       "<path fill=\"none\" stroke=\"black\" d=\"M342.45,-306.23C342.84,-280.1 339.85,-230.36 314.58,-199 290.37,-168.96 268.42,-183.26 235.58,-163 229.51,-159.26 223.39,-155.19 217.34,-150.94\"/>\n",
       "</g>\n",
       "<!-- EmissionNode_5 -->\n",
       "<g id=\"node5\" class=\"node\">\n",
       "<title>EmissionNode_5</title>\n",
       "<polygon fill=\"lightgray\" stroke=\"black\" points=\"330.58,-124.5 244.58,-124.5 244.58,-38.5 330.58,-38.5 330.58,-124.5\"/>\n",
       "<text text-anchor=\"middle\" x=\"287.58\" y=\"-78.4\" font-family=\"Times,serif\" font-size=\"12.00\">EmissionNode</text>\n",
       "</g>\n",
       "<!-- w_1:nothing&#45;&#45;EmissionNode_5 -->\n",
       "<g id=\"edge2\" class=\"edge\">\n",
       "<title>w_1:nothing&#45;&#45;EmissionNode_5</title>\n",
       "<path fill=\"none\" stroke=\"black\" d=\"M337.99,-306.64C332.89,-282.65 323.2,-237.44 314.58,-199 309.04,-174.28 302.65,-146.67 297.47,-124.53\"/>\n",
       "</g>\n",
       "<!-- HmmTransition_7 -->\n",
       "<g id=\"node7\" class=\"node\">\n",
       "<title>HmmTransition_7</title>\n",
       "<polygon fill=\"lightgray\" stroke=\"black\" points=\"440.08,-127 349.08,-127 349.08,-36 440.08,-36 440.08,-127\"/>\n",
       "<text text-anchor=\"middle\" x=\"394.58\" y=\"-78.4\" font-family=\"Times,serif\" font-size=\"12.00\">HmmTransition</text>\n",
       "</g>\n",
       "<!-- w_1:nothing&#45;&#45;HmmTransition_7 -->\n",
       "<g id=\"edge3\" class=\"edge\">\n",
       "<title>w_1:nothing&#45;&#45;HmmTransition_7</title>\n",
       "<path fill=\"none\" stroke=\"black\" d=\"M345.31,-306.63C353.41,-269.76 372.87,-181.26 384.76,-127.15\"/>\n",
       "</g>\n",
       "<!-- constvar_2:[0.031, 0.011, 0.062, 0.246, 0.37, 0.28] -->\n",
       "<g id=\"node2\" class=\"node\">\n",
       "<title>constvar_2:[0.031, 0.011, 0.062, 0.246, 0.37, 0.28]</title>\n",
       "<ellipse fill=\"none\" stroke=\"black\" cx=\"125.58\" cy=\"-324.58\" rx=\"125.66\" ry=\"125.66\"/>\n",
       "<text text-anchor=\"middle\" x=\"125.58\" y=\"-321.48\" font-family=\"Times,serif\" font-size=\"12.00\">[0.031, 0.011, 0.062, 0.246, 0.37, 0.28]</text>\n",
       "</g>\n",
       "<!-- constvar_2:[0.031, 0.011, 0.062, 0.246, 0.37, 0.28]&#45;&#45;Categorical{P} where P&lt;:Real_3 -->\n",
       "<g id=\"edge4\" class=\"edge\">\n",
       "<title>constvar_2:[0.031, 0.011, 0.062, 0.246, 0.37, 0.28]&#45;&#45;Categorical{P} where P&lt;:Real_3</title>\n",
       "<path fill=\"none\" stroke=\"black\" d=\"M130.76,-198.8C131.26,-186.74 131.75,-174.73 132.23,-163.27\"/>\n",
       "</g>\n",
       "<!-- y_4:nothing -->\n",
       "<g id=\"node4\" class=\"node\">\n",
       "<title>y_4:nothing</title>\n",
       "<ellipse fill=\"none\" stroke=\"black\" cx=\"287.58\" cy=\"-324.58\" rx=\"18\" ry=\"18\"/>\n",
       "<text text-anchor=\"start\" x=\"282.58\" y=\"-322.48\" font-family=\"Times,serif\" font-size=\"12.00\">y</text>\n",
       "<text text-anchor=\"start\" x=\"289.58\" y=\"-322.48\" font-family=\"Times,serif\" baseline-shift=\"sub\" font-size=\"6.00\">1</text>\n",
       "</g>\n",
       "<!-- y_4:nothing&#45;&#45;EmissionNode_5 -->\n",
       "<g id=\"edge5\" class=\"edge\">\n",
       "<title>y_4:nothing&#45;&#45;EmissionNode_5</title>\n",
       "<path fill=\"none\" stroke=\"black\" d=\"M287.58,-306.24C287.58,-268.56 287.58,-178.29 287.58,-124.64\"/>\n",
       "</g>\n",
       "<!-- w_6:nothing -->\n",
       "<g id=\"node6\" class=\"node\">\n",
       "<title>w_6:nothing</title>\n",
       "<ellipse fill=\"none\" stroke=\"black\" cx=\"528.58\" cy=\"-324.58\" rx=\"18\" ry=\"18\"/>\n",
       "<text text-anchor=\"start\" x=\"522.08\" y=\"-322.48\" font-family=\"Times,serif\" font-size=\"12.00\">w</text>\n",
       "<text text-anchor=\"start\" x=\"532.08\" y=\"-322.48\" font-family=\"Times,serif\" baseline-shift=\"sub\" font-size=\"6.00\">2</text>\n",
       "</g>\n",
       "<!-- w_6:nothing&#45;&#45;HmmTransition_7 -->\n",
       "<g id=\"edge6\" class=\"edge\">\n",
       "<title>w_6:nothing&#45;&#45;HmmTransition_7</title>\n",
       "<path fill=\"none\" stroke=\"black\" d=\"M528.72,-306.34C528.12,-280.79 523.84,-232.3 501.58,-199 485.96,-175.63 469.39,-182.94 449.58,-163 439.08,-152.44 429.3,-139.62 420.98,-127.35\"/>\n",
       "</g>\n",
       "<!-- EmissionNode_9 -->\n",
       "<g id=\"node9\" class=\"node\">\n",
       "<title>EmissionNode_9</title>\n",
       "<polygon fill=\"lightgray\" stroke=\"black\" points=\"544.58,-124.5 458.58,-124.5 458.58,-38.5 544.58,-38.5 544.58,-124.5\"/>\n",
       "<text text-anchor=\"middle\" x=\"501.58\" y=\"-78.4\" font-family=\"Times,serif\" font-size=\"12.00\">EmissionNode</text>\n",
       "</g>\n",
       "<!-- w_6:nothing&#45;&#45;EmissionNode_9 -->\n",
       "<g id=\"edge7\" class=\"edge\">\n",
       "<title>w_6:nothing&#45;&#45;EmissionNode_9</title>\n",
       "<path fill=\"none\" stroke=\"black\" d=\"M526.68,-306.63C522.49,-269.22 512.35,-178.67 506.32,-124.81\"/>\n",
       "</g>\n",
       "<!-- HmmTransition_11 -->\n",
       "<g id=\"node11\" class=\"node\">\n",
       "<title>HmmTransition_11</title>\n",
       "<polygon fill=\"lightgray\" stroke=\"black\" points=\"654.08,-127 563.08,-127 563.08,-36 654.08,-36 654.08,-127\"/>\n",
       "<text text-anchor=\"middle\" x=\"608.58\" y=\"-78.4\" font-family=\"Times,serif\" font-size=\"12.00\">HmmTransition</text>\n",
       "</g>\n",
       "<!-- w_6:nothing&#45;&#45;HmmTransition_11 -->\n",
       "<g id=\"edge8\" class=\"edge\">\n",
       "<title>w_6:nothing&#45;&#45;HmmTransition_11</title>\n",
       "<path fill=\"none\" stroke=\"black\" d=\"M533.95,-307.39C546.04,-270.97 575.72,-181.52 593.8,-127.04\"/>\n",
       "</g>\n",
       "<!-- y_8:nothing -->\n",
       "<g id=\"node8\" class=\"node\">\n",
       "<title>y_8:nothing</title>\n",
       "<ellipse fill=\"none\" stroke=\"black\" cx=\"474.58\" cy=\"-324.58\" rx=\"18\" ry=\"18\"/>\n",
       "<text text-anchor=\"start\" x=\"469.58\" y=\"-322.48\" font-family=\"Times,serif\" font-size=\"12.00\">y</text>\n",
       "<text text-anchor=\"start\" x=\"476.58\" y=\"-322.48\" font-family=\"Times,serif\" baseline-shift=\"sub\" font-size=\"6.00\">2</text>\n",
       "</g>\n",
       "<!-- y_8:nothing&#45;&#45;EmissionNode_9 -->\n",
       "<g id=\"edge9\" class=\"edge\">\n",
       "<title>y_8:nothing&#45;&#45;EmissionNode_9</title>\n",
       "<path fill=\"none\" stroke=\"black\" d=\"M476.48,-306.63C480.67,-269.22 490.81,-178.67 496.84,-124.81\"/>\n",
       "</g>\n",
       "<!-- w_10:nothing -->\n",
       "<g id=\"node10\" class=\"node\">\n",
       "<title>w_10:nothing</title>\n",
       "<ellipse fill=\"none\" stroke=\"black\" cx=\"742.58\" cy=\"-324.58\" rx=\"18\" ry=\"18\"/>\n",
       "<text text-anchor=\"start\" x=\"736.08\" y=\"-322.48\" font-family=\"Times,serif\" font-size=\"12.00\">w</text>\n",
       "<text text-anchor=\"start\" x=\"746.08\" y=\"-322.48\" font-family=\"Times,serif\" baseline-shift=\"sub\" font-size=\"6.00\">3</text>\n",
       "</g>\n",
       "<!-- w_10:nothing&#45;&#45;HmmTransition_11 -->\n",
       "<g id=\"edge10\" class=\"edge\">\n",
       "<title>w_10:nothing&#45;&#45;HmmTransition_11</title>\n",
       "<path fill=\"none\" stroke=\"black\" d=\"M742.72,-306.34C742.12,-280.79 737.84,-232.3 715.58,-199 699.96,-175.63 683.39,-182.94 663.58,-163 653.08,-152.44 643.3,-139.62 634.98,-127.35\"/>\n",
       "</g>\n",
       "<!-- EmissionNode_13 -->\n",
       "<g id=\"node13\" class=\"node\">\n",
       "<title>EmissionNode_13</title>\n",
       "<polygon fill=\"lightgray\" stroke=\"black\" points=\"758.58,-124.5 672.58,-124.5 672.58,-38.5 758.58,-38.5 758.58,-124.5\"/>\n",
       "<text text-anchor=\"middle\" x=\"715.58\" y=\"-78.4\" font-family=\"Times,serif\" font-size=\"12.00\">EmissionNode</text>\n",
       "</g>\n",
       "<!-- w_10:nothing&#45;&#45;EmissionNode_13 -->\n",
       "<g id=\"edge11\" class=\"edge\">\n",
       "<title>w_10:nothing&#45;&#45;EmissionNode_13</title>\n",
       "<path fill=\"none\" stroke=\"black\" d=\"M740.68,-306.63C736.49,-269.22 726.35,-178.67 720.32,-124.81\"/>\n",
       "</g>\n",
       "<!-- HmmTransition_15 -->\n",
       "<g id=\"node15\" class=\"node\">\n",
       "<title>HmmTransition_15</title>\n",
       "<polygon fill=\"lightgray\" stroke=\"black\" points=\"868.08,-127 777.08,-127 777.08,-36 868.08,-36 868.08,-127\"/>\n",
       "<text text-anchor=\"middle\" x=\"822.58\" y=\"-78.4\" font-family=\"Times,serif\" font-size=\"12.00\">HmmTransition</text>\n",
       "</g>\n",
       "<!-- w_10:nothing&#45;&#45;HmmTransition_15 -->\n",
       "<g id=\"edge12\" class=\"edge\">\n",
       "<title>w_10:nothing&#45;&#45;HmmTransition_15</title>\n",
       "<path fill=\"none\" stroke=\"black\" d=\"M747.95,-307.39C760.04,-270.97 789.72,-181.52 807.8,-127.04\"/>\n",
       "</g>\n",
       "<!-- y_12:nothing -->\n",
       "<g id=\"node12\" class=\"node\">\n",
       "<title>y_12:nothing</title>\n",
       "<ellipse fill=\"none\" stroke=\"black\" cx=\"688.58\" cy=\"-324.58\" rx=\"18\" ry=\"18\"/>\n",
       "<text text-anchor=\"start\" x=\"683.58\" y=\"-322.48\" font-family=\"Times,serif\" font-size=\"12.00\">y</text>\n",
       "<text text-anchor=\"start\" x=\"690.58\" y=\"-322.48\" font-family=\"Times,serif\" baseline-shift=\"sub\" font-size=\"6.00\">3</text>\n",
       "</g>\n",
       "<!-- y_12:nothing&#45;&#45;EmissionNode_13 -->\n",
       "<g id=\"edge13\" class=\"edge\">\n",
       "<title>y_12:nothing&#45;&#45;EmissionNode_13</title>\n",
       "<path fill=\"none\" stroke=\"black\" d=\"M690.48,-306.63C694.67,-269.22 704.81,-178.67 710.84,-124.81\"/>\n",
       "</g>\n",
       "<!-- w_14:nothing -->\n",
       "<g id=\"node14\" class=\"node\">\n",
       "<title>w_14:nothing</title>\n",
       "<ellipse fill=\"none\" stroke=\"black\" cx=\"956.58\" cy=\"-324.58\" rx=\"18\" ry=\"18\"/>\n",
       "<text text-anchor=\"start\" x=\"950.08\" y=\"-322.48\" font-family=\"Times,serif\" font-size=\"12.00\">w</text>\n",
       "<text text-anchor=\"start\" x=\"960.08\" y=\"-322.48\" font-family=\"Times,serif\" baseline-shift=\"sub\" font-size=\"6.00\">4</text>\n",
       "</g>\n",
       "<!-- w_14:nothing&#45;&#45;HmmTransition_15 -->\n",
       "<g id=\"edge14\" class=\"edge\">\n",
       "<title>w_14:nothing&#45;&#45;HmmTransition_15</title>\n",
       "<path fill=\"none\" stroke=\"black\" d=\"M956.72,-306.34C956.12,-280.79 951.84,-232.3 929.58,-199 913.96,-175.63 897.39,-182.94 877.58,-163 867.08,-152.44 857.3,-139.62 848.98,-127.35\"/>\n",
       "</g>\n",
       "<!-- EmissionNode_17 -->\n",
       "<g id=\"node17\" class=\"node\">\n",
       "<title>EmissionNode_17</title>\n",
       "<polygon fill=\"lightgray\" stroke=\"black\" points=\"972.58,-124.5 886.58,-124.5 886.58,-38.5 972.58,-38.5 972.58,-124.5\"/>\n",
       "<text text-anchor=\"middle\" x=\"929.58\" y=\"-78.4\" font-family=\"Times,serif\" font-size=\"12.00\">EmissionNode</text>\n",
       "</g>\n",
       "<!-- w_14:nothing&#45;&#45;EmissionNode_17 -->\n",
       "<g id=\"edge15\" class=\"edge\">\n",
       "<title>w_14:nothing&#45;&#45;EmissionNode_17</title>\n",
       "<path fill=\"none\" stroke=\"black\" d=\"M954.68,-306.63C950.49,-269.22 940.35,-178.67 934.32,-124.81\"/>\n",
       "</g>\n",
       "<!-- HmmTransition_19 -->\n",
       "<g id=\"node19\" class=\"node\">\n",
       "<title>HmmTransition_19</title>\n",
       "<polygon fill=\"lightgray\" stroke=\"black\" points=\"1082.08,-127 991.08,-127 991.08,-36 1082.08,-36 1082.08,-127\"/>\n",
       "<text text-anchor=\"middle\" x=\"1036.58\" y=\"-78.4\" font-family=\"Times,serif\" font-size=\"12.00\">HmmTransition</text>\n",
       "</g>\n",
       "<!-- w_14:nothing&#45;&#45;HmmTransition_19 -->\n",
       "<g id=\"edge16\" class=\"edge\">\n",
       "<title>w_14:nothing&#45;&#45;HmmTransition_19</title>\n",
       "<path fill=\"none\" stroke=\"black\" d=\"M961.95,-307.39C974.04,-270.97 1003.72,-181.52 1021.8,-127.04\"/>\n",
       "</g>\n",
       "<!-- y_16:nothing -->\n",
       "<g id=\"node16\" class=\"node\">\n",
       "<title>y_16:nothing</title>\n",
       "<ellipse fill=\"none\" stroke=\"black\" cx=\"902.58\" cy=\"-324.58\" rx=\"18\" ry=\"18\"/>\n",
       "<text text-anchor=\"start\" x=\"897.58\" y=\"-322.48\" font-family=\"Times,serif\" font-size=\"12.00\">y</text>\n",
       "<text text-anchor=\"start\" x=\"904.58\" y=\"-322.48\" font-family=\"Times,serif\" baseline-shift=\"sub\" font-size=\"6.00\">4</text>\n",
       "</g>\n",
       "<!-- y_16:nothing&#45;&#45;EmissionNode_17 -->\n",
       "<g id=\"edge17\" class=\"edge\">\n",
       "<title>y_16:nothing&#45;&#45;EmissionNode_17</title>\n",
       "<path fill=\"none\" stroke=\"black\" d=\"M904.48,-306.63C908.67,-269.22 918.81,-178.67 924.84,-124.81\"/>\n",
       "</g>\n",
       "<!-- w_18:nothing -->\n",
       "<g id=\"node18\" class=\"node\">\n",
       "<title>w_18:nothing</title>\n",
       "<ellipse fill=\"none\" stroke=\"black\" cx=\"1170.58\" cy=\"-324.58\" rx=\"18\" ry=\"18\"/>\n",
       "<text text-anchor=\"start\" x=\"1164.08\" y=\"-322.48\" font-family=\"Times,serif\" font-size=\"12.00\">w</text>\n",
       "<text text-anchor=\"start\" x=\"1174.08\" y=\"-322.48\" font-family=\"Times,serif\" baseline-shift=\"sub\" font-size=\"6.00\">5</text>\n",
       "</g>\n",
       "<!-- w_18:nothing&#45;&#45;HmmTransition_19 -->\n",
       "<g id=\"edge18\" class=\"edge\">\n",
       "<title>w_18:nothing&#45;&#45;HmmTransition_19</title>\n",
       "<path fill=\"none\" stroke=\"black\" d=\"M1170.72,-306.34C1170.12,-280.79 1165.84,-232.3 1143.58,-199 1127.96,-175.63 1111.39,-182.94 1091.58,-163 1081.08,-152.44 1071.3,-139.62 1062.98,-127.35\"/>\n",
       "</g>\n",
       "<!-- EmissionNode_21 -->\n",
       "<g id=\"node21\" class=\"node\">\n",
       "<title>EmissionNode_21</title>\n",
       "<polygon fill=\"lightgray\" stroke=\"black\" points=\"1186.58,-124.5 1100.58,-124.5 1100.58,-38.5 1186.58,-38.5 1186.58,-124.5\"/>\n",
       "<text text-anchor=\"middle\" x=\"1143.58\" y=\"-78.4\" font-family=\"Times,serif\" font-size=\"12.00\">EmissionNode</text>\n",
       "</g>\n",
       "<!-- w_18:nothing&#45;&#45;EmissionNode_21 -->\n",
       "<g id=\"edge19\" class=\"edge\">\n",
       "<title>w_18:nothing&#45;&#45;EmissionNode_21</title>\n",
       "<path fill=\"none\" stroke=\"black\" d=\"M1168.68,-306.63C1164.49,-269.22 1154.35,-178.67 1148.32,-124.81\"/>\n",
       "</g>\n",
       "<!-- HmmTransition_23 -->\n",
       "<g id=\"node23\" class=\"node\">\n",
       "<title>HmmTransition_23</title>\n",
       "<polygon fill=\"lightgray\" stroke=\"black\" points=\"1296.08,-127 1205.08,-127 1205.08,-36 1296.08,-36 1296.08,-127\"/>\n",
       "<text text-anchor=\"middle\" x=\"1250.58\" y=\"-78.4\" font-family=\"Times,serif\" font-size=\"12.00\">HmmTransition</text>\n",
       "</g>\n",
       "<!-- w_18:nothing&#45;&#45;HmmTransition_23 -->\n",
       "<g id=\"edge20\" class=\"edge\">\n",
       "<title>w_18:nothing&#45;&#45;HmmTransition_23</title>\n",
       "<path fill=\"none\" stroke=\"black\" d=\"M1175.95,-307.39C1188.04,-270.97 1217.72,-181.52 1235.8,-127.04\"/>\n",
       "</g>\n",
       "<!-- y_20:nothing -->\n",
       "<g id=\"node20\" class=\"node\">\n",
       "<title>y_20:nothing</title>\n",
       "<ellipse fill=\"none\" stroke=\"black\" cx=\"1116.58\" cy=\"-324.58\" rx=\"18\" ry=\"18\"/>\n",
       "<text text-anchor=\"start\" x=\"1111.58\" y=\"-322.48\" font-family=\"Times,serif\" font-size=\"12.00\">y</text>\n",
       "<text text-anchor=\"start\" x=\"1118.58\" y=\"-322.48\" font-family=\"Times,serif\" baseline-shift=\"sub\" font-size=\"6.00\">5</text>\n",
       "</g>\n",
       "<!-- y_20:nothing&#45;&#45;EmissionNode_21 -->\n",
       "<g id=\"edge21\" class=\"edge\">\n",
       "<title>y_20:nothing&#45;&#45;EmissionNode_21</title>\n",
       "<path fill=\"none\" stroke=\"black\" d=\"M1118.48,-306.63C1122.67,-269.22 1132.81,-178.67 1138.84,-124.81\"/>\n",
       "</g>\n",
       "<!-- w_22:nothing -->\n",
       "<g id=\"node22\" class=\"node\">\n",
       "<title>w_22:nothing</title>\n",
       "<ellipse fill=\"none\" stroke=\"black\" cx=\"1384.58\" cy=\"-324.58\" rx=\"18\" ry=\"18\"/>\n",
       "<text text-anchor=\"start\" x=\"1378.08\" y=\"-322.48\" font-family=\"Times,serif\" font-size=\"12.00\">w</text>\n",
       "<text text-anchor=\"start\" x=\"1388.08\" y=\"-322.48\" font-family=\"Times,serif\" baseline-shift=\"sub\" font-size=\"6.00\">6</text>\n",
       "</g>\n",
       "<!-- w_22:nothing&#45;&#45;HmmTransition_23 -->\n",
       "<g id=\"edge22\" class=\"edge\">\n",
       "<title>w_22:nothing&#45;&#45;HmmTransition_23</title>\n",
       "<path fill=\"none\" stroke=\"black\" d=\"M1384.72,-306.34C1384.12,-280.79 1379.84,-232.3 1357.58,-199 1341.96,-175.63 1325.39,-182.94 1305.58,-163 1295.08,-152.44 1285.3,-139.62 1276.98,-127.35\"/>\n",
       "</g>\n",
       "<!-- EmissionNode_25 -->\n",
       "<g id=\"node25\" class=\"node\">\n",
       "<title>EmissionNode_25</title>\n",
       "<polygon fill=\"lightgray\" stroke=\"black\" points=\"1400.58,-124.5 1314.58,-124.5 1314.58,-38.5 1400.58,-38.5 1400.58,-124.5\"/>\n",
       "<text text-anchor=\"middle\" x=\"1357.58\" y=\"-78.4\" font-family=\"Times,serif\" font-size=\"12.00\">EmissionNode</text>\n",
       "</g>\n",
       "<!-- w_22:nothing&#45;&#45;EmissionNode_25 -->\n",
       "<g id=\"edge23\" class=\"edge\">\n",
       "<title>w_22:nothing&#45;&#45;EmissionNode_25</title>\n",
       "<path fill=\"none\" stroke=\"black\" d=\"M1382.68,-306.63C1378.49,-269.22 1368.35,-178.67 1362.32,-124.81\"/>\n",
       "</g>\n",
       "<!-- HmmTransition_27 -->\n",
       "<g id=\"node27\" class=\"node\">\n",
       "<title>HmmTransition_27</title>\n",
       "<polygon fill=\"lightgray\" stroke=\"black\" points=\"1510.08,-127 1419.08,-127 1419.08,-36 1510.08,-36 1510.08,-127\"/>\n",
       "<text text-anchor=\"middle\" x=\"1464.58\" y=\"-78.4\" font-family=\"Times,serif\" font-size=\"12.00\">HmmTransition</text>\n",
       "</g>\n",
       "<!-- w_22:nothing&#45;&#45;HmmTransition_27 -->\n",
       "<g id=\"edge24\" class=\"edge\">\n",
       "<title>w_22:nothing&#45;&#45;HmmTransition_27</title>\n",
       "<path fill=\"none\" stroke=\"black\" d=\"M1389.95,-307.39C1402.04,-270.97 1431.72,-181.52 1449.8,-127.04\"/>\n",
       "</g>\n",
       "<!-- y_24:nothing -->\n",
       "<g id=\"node24\" class=\"node\">\n",
       "<title>y_24:nothing</title>\n",
       "<ellipse fill=\"none\" stroke=\"black\" cx=\"1330.58\" cy=\"-324.58\" rx=\"18\" ry=\"18\"/>\n",
       "<text text-anchor=\"start\" x=\"1325.58\" y=\"-322.48\" font-family=\"Times,serif\" font-size=\"12.00\">y</text>\n",
       "<text text-anchor=\"start\" x=\"1332.58\" y=\"-322.48\" font-family=\"Times,serif\" baseline-shift=\"sub\" font-size=\"6.00\">6</text>\n",
       "</g>\n",
       "<!-- y_24:nothing&#45;&#45;EmissionNode_25 -->\n",
       "<g id=\"edge25\" class=\"edge\">\n",
       "<title>y_24:nothing&#45;&#45;EmissionNode_25</title>\n",
       "<path fill=\"none\" stroke=\"black\" d=\"M1332.48,-306.63C1336.67,-269.22 1346.81,-178.67 1352.84,-124.81\"/>\n",
       "</g>\n",
       "<!-- w_26:nothing -->\n",
       "<g id=\"node26\" class=\"node\">\n",
       "<title>w_26:nothing</title>\n",
       "<ellipse fill=\"none\" stroke=\"black\" cx=\"1598.58\" cy=\"-324.58\" rx=\"18\" ry=\"18\"/>\n",
       "<text text-anchor=\"start\" x=\"1592.08\" y=\"-322.48\" font-family=\"Times,serif\" font-size=\"12.00\">w</text>\n",
       "<text text-anchor=\"start\" x=\"1602.08\" y=\"-322.48\" font-family=\"Times,serif\" baseline-shift=\"sub\" font-size=\"6.00\">7</text>\n",
       "</g>\n",
       "<!-- w_26:nothing&#45;&#45;HmmTransition_27 -->\n",
       "<g id=\"edge26\" class=\"edge\">\n",
       "<title>w_26:nothing&#45;&#45;HmmTransition_27</title>\n",
       "<path fill=\"none\" stroke=\"black\" d=\"M1598.72,-306.34C1598.12,-280.79 1593.84,-232.3 1571.58,-199 1555.96,-175.63 1539.39,-182.94 1519.58,-163 1509.08,-152.44 1499.3,-139.62 1490.98,-127.35\"/>\n",
       "</g>\n",
       "<!-- EmissionNode_29 -->\n",
       "<g id=\"node29\" class=\"node\">\n",
       "<title>EmissionNode_29</title>\n",
       "<polygon fill=\"lightgray\" stroke=\"black\" points=\"1614.58,-124.5 1528.58,-124.5 1528.58,-38.5 1614.58,-38.5 1614.58,-124.5\"/>\n",
       "<text text-anchor=\"middle\" x=\"1571.58\" y=\"-78.4\" font-family=\"Times,serif\" font-size=\"12.00\">EmissionNode</text>\n",
       "</g>\n",
       "<!-- w_26:nothing&#45;&#45;EmissionNode_29 -->\n",
       "<g id=\"edge27\" class=\"edge\">\n",
       "<title>w_26:nothing&#45;&#45;EmissionNode_29</title>\n",
       "<path fill=\"none\" stroke=\"black\" d=\"M1596.68,-306.63C1592.49,-269.22 1582.35,-178.67 1576.32,-124.81\"/>\n",
       "</g>\n",
       "<!-- HmmTransition_31 -->\n",
       "<g id=\"node31\" class=\"node\">\n",
       "<title>HmmTransition_31</title>\n",
       "<polygon fill=\"lightgray\" stroke=\"black\" points=\"1724.08,-127 1633.08,-127 1633.08,-36 1724.08,-36 1724.08,-127\"/>\n",
       "<text text-anchor=\"middle\" x=\"1678.58\" y=\"-78.4\" font-family=\"Times,serif\" font-size=\"12.00\">HmmTransition</text>\n",
       "</g>\n",
       "<!-- w_26:nothing&#45;&#45;HmmTransition_31 -->\n",
       "<g id=\"edge28\" class=\"edge\">\n",
       "<title>w_26:nothing&#45;&#45;HmmTransition_31</title>\n",
       "<path fill=\"none\" stroke=\"black\" d=\"M1603.95,-307.39C1616.04,-270.97 1645.72,-181.52 1663.8,-127.04\"/>\n",
       "</g>\n",
       "<!-- y_28:nothing -->\n",
       "<g id=\"node28\" class=\"node\">\n",
       "<title>y_28:nothing</title>\n",
       "<ellipse fill=\"none\" stroke=\"black\" cx=\"1544.58\" cy=\"-324.58\" rx=\"18\" ry=\"18\"/>\n",
       "<text text-anchor=\"start\" x=\"1539.58\" y=\"-322.48\" font-family=\"Times,serif\" font-size=\"12.00\">y</text>\n",
       "<text text-anchor=\"start\" x=\"1546.58\" y=\"-322.48\" font-family=\"Times,serif\" baseline-shift=\"sub\" font-size=\"6.00\">7</text>\n",
       "</g>\n",
       "<!-- y_28:nothing&#45;&#45;EmissionNode_29 -->\n",
       "<g id=\"edge29\" class=\"edge\">\n",
       "<title>y_28:nothing&#45;&#45;EmissionNode_29</title>\n",
       "<path fill=\"none\" stroke=\"black\" d=\"M1546.48,-306.63C1550.67,-269.22 1560.81,-178.67 1566.84,-124.81\"/>\n",
       "</g>\n",
       "<!-- w_30:nothing -->\n",
       "<g id=\"node30\" class=\"node\">\n",
       "<title>w_30:nothing</title>\n",
       "<ellipse fill=\"none\" stroke=\"black\" cx=\"1812.58\" cy=\"-324.58\" rx=\"18\" ry=\"18\"/>\n",
       "<text text-anchor=\"start\" x=\"1806.08\" y=\"-322.48\" font-family=\"Times,serif\" font-size=\"12.00\">w</text>\n",
       "<text text-anchor=\"start\" x=\"1816.08\" y=\"-322.48\" font-family=\"Times,serif\" baseline-shift=\"sub\" font-size=\"6.00\">8</text>\n",
       "</g>\n",
       "<!-- w_30:nothing&#45;&#45;HmmTransition_31 -->\n",
       "<g id=\"edge30\" class=\"edge\">\n",
       "<title>w_30:nothing&#45;&#45;HmmTransition_31</title>\n",
       "<path fill=\"none\" stroke=\"black\" d=\"M1812.72,-306.34C1812.12,-280.79 1807.84,-232.3 1785.58,-199 1769.96,-175.63 1753.39,-182.94 1733.58,-163 1723.08,-152.44 1713.3,-139.62 1704.98,-127.35\"/>\n",
       "</g>\n",
       "<!-- EmissionNode_33 -->\n",
       "<g id=\"node33\" class=\"node\">\n",
       "<title>EmissionNode_33</title>\n",
       "<polygon fill=\"lightgray\" stroke=\"black\" points=\"1828.58,-124.5 1742.58,-124.5 1742.58,-38.5 1828.58,-38.5 1828.58,-124.5\"/>\n",
       "<text text-anchor=\"middle\" x=\"1785.58\" y=\"-78.4\" font-family=\"Times,serif\" font-size=\"12.00\">EmissionNode</text>\n",
       "</g>\n",
       "<!-- w_30:nothing&#45;&#45;EmissionNode_33 -->\n",
       "<g id=\"edge31\" class=\"edge\">\n",
       "<title>w_30:nothing&#45;&#45;EmissionNode_33</title>\n",
       "<path fill=\"none\" stroke=\"black\" d=\"M1810.68,-306.63C1806.49,-269.22 1796.35,-178.67 1790.32,-124.81\"/>\n",
       "</g>\n",
       "<!-- HmmTransition_35 -->\n",
       "<g id=\"node35\" class=\"node\">\n",
       "<title>HmmTransition_35</title>\n",
       "<polygon fill=\"lightgray\" stroke=\"black\" points=\"1938.08,-127 1847.08,-127 1847.08,-36 1938.08,-36 1938.08,-127\"/>\n",
       "<text text-anchor=\"middle\" x=\"1892.58\" y=\"-78.4\" font-family=\"Times,serif\" font-size=\"12.00\">HmmTransition</text>\n",
       "</g>\n",
       "<!-- w_30:nothing&#45;&#45;HmmTransition_35 -->\n",
       "<g id=\"edge32\" class=\"edge\">\n",
       "<title>w_30:nothing&#45;&#45;HmmTransition_35</title>\n",
       "<path fill=\"none\" stroke=\"black\" d=\"M1817.95,-307.39C1830.04,-270.97 1859.72,-181.52 1877.8,-127.04\"/>\n",
       "</g>\n",
       "<!-- y_32:nothing -->\n",
       "<g id=\"node32\" class=\"node\">\n",
       "<title>y_32:nothing</title>\n",
       "<ellipse fill=\"none\" stroke=\"black\" cx=\"1758.58\" cy=\"-324.58\" rx=\"18\" ry=\"18\"/>\n",
       "<text text-anchor=\"start\" x=\"1753.58\" y=\"-322.48\" font-family=\"Times,serif\" font-size=\"12.00\">y</text>\n",
       "<text text-anchor=\"start\" x=\"1760.58\" y=\"-322.48\" font-family=\"Times,serif\" baseline-shift=\"sub\" font-size=\"6.00\">8</text>\n",
       "</g>\n",
       "<!-- y_32:nothing&#45;&#45;EmissionNode_33 -->\n",
       "<g id=\"edge33\" class=\"edge\">\n",
       "<title>y_32:nothing&#45;&#45;EmissionNode_33</title>\n",
       "<path fill=\"none\" stroke=\"black\" d=\"M1760.48,-306.63C1764.67,-269.22 1774.81,-178.67 1780.84,-124.81\"/>\n",
       "</g>\n",
       "<!-- w_34:nothing -->\n",
       "<g id=\"node34\" class=\"node\">\n",
       "<title>w_34:nothing</title>\n",
       "<ellipse fill=\"none\" stroke=\"black\" cx=\"2025.58\" cy=\"-324.58\" rx=\"18\" ry=\"18\"/>\n",
       "<text text-anchor=\"start\" x=\"2019.08\" y=\"-322.48\" font-family=\"Times,serif\" font-size=\"12.00\">w</text>\n",
       "<text text-anchor=\"start\" x=\"2029.08\" y=\"-322.48\" font-family=\"Times,serif\" baseline-shift=\"sub\" font-size=\"6.00\">9</text>\n",
       "</g>\n",
       "<!-- w_34:nothing&#45;&#45;HmmTransition_35 -->\n",
       "<g id=\"edge34\" class=\"edge\">\n",
       "<title>w_34:nothing&#45;&#45;HmmTransition_35</title>\n",
       "<path fill=\"none\" stroke=\"black\" d=\"M2025.68,-306.37C2025.03,-280.85 2020.69,-232.4 1998.58,-199 1983.26,-175.87 1967.05,-182.77 1947.58,-163 1937.13,-152.39 1927.36,-139.56 1919.05,-127.29\"/>\n",
       "</g>\n",
       "<!-- EmissionNode_37 -->\n",
       "<g id=\"node37\" class=\"node\">\n",
       "<title>EmissionNode_37</title>\n",
       "<polygon fill=\"lightgray\" stroke=\"black\" points=\"2042.58,-124.5 1956.58,-124.5 1956.58,-38.5 2042.58,-38.5 2042.58,-124.5\"/>\n",
       "<text text-anchor=\"middle\" x=\"1999.58\" y=\"-78.4\" font-family=\"Times,serif\" font-size=\"12.00\">EmissionNode</text>\n",
       "</g>\n",
       "<!-- w_34:nothing&#45;&#45;EmissionNode_37 -->\n",
       "<g id=\"edge35\" class=\"edge\">\n",
       "<title>w_34:nothing&#45;&#45;EmissionNode_37</title>\n",
       "<path fill=\"none\" stroke=\"black\" d=\"M2023.75,-306.63C2019.72,-269.22 2009.95,-178.67 2004.14,-124.81\"/>\n",
       "</g>\n",
       "<!-- HmmTransition_39 -->\n",
       "<g id=\"node39\" class=\"node\">\n",
       "<title>HmmTransition_39</title>\n",
       "<polygon fill=\"lightgray\" stroke=\"black\" points=\"2152.08,-127 2061.08,-127 2061.08,-36 2152.08,-36 2152.08,-127\"/>\n",
       "<text text-anchor=\"middle\" x=\"2106.58\" y=\"-78.4\" font-family=\"Times,serif\" font-size=\"12.00\">HmmTransition</text>\n",
       "</g>\n",
       "<!-- w_34:nothing&#45;&#45;HmmTransition_39 -->\n",
       "<g id=\"edge36\" class=\"edge\">\n",
       "<title>w_34:nothing&#45;&#45;HmmTransition_39</title>\n",
       "<path fill=\"none\" stroke=\"black\" d=\"M2031.02,-307.39C2043.26,-270.97 2073.31,-181.52 2091.61,-127.04\"/>\n",
       "</g>\n",
       "<!-- y_36:nothing -->\n",
       "<g id=\"node36\" class=\"node\">\n",
       "<title>y_36:nothing</title>\n",
       "<ellipse fill=\"none\" stroke=\"black\" cx=\"1971.58\" cy=\"-324.58\" rx=\"18\" ry=\"18\"/>\n",
       "<text text-anchor=\"start\" x=\"1966.58\" y=\"-322.48\" font-family=\"Times,serif\" font-size=\"12.00\">y</text>\n",
       "<text text-anchor=\"start\" x=\"1973.58\" y=\"-322.48\" font-family=\"Times,serif\" baseline-shift=\"sub\" font-size=\"6.00\">9</text>\n",
       "</g>\n",
       "<!-- y_36:nothing&#45;&#45;EmissionNode_37 -->\n",
       "<g id=\"edge37\" class=\"edge\">\n",
       "<title>y_36:nothing&#45;&#45;EmissionNode_37</title>\n",
       "<path fill=\"none\" stroke=\"black\" d=\"M1973.55,-306.63C1977.89,-269.22 1988.41,-178.67 1994.67,-124.81\"/>\n",
       "</g>\n",
       "<!-- w_38:nothing -->\n",
       "<g id=\"node38\" class=\"node\">\n",
       "<title>w_38:nothing</title>\n",
       "<ellipse fill=\"none\" stroke=\"black\" cx=\"2132.58\" cy=\"-324.58\" rx=\"19.17\" ry=\"19.17\"/>\n",
       "<text text-anchor=\"start\" x=\"2125.08\" y=\"-322.48\" font-family=\"Times,serif\" font-size=\"12.00\">w</text>\n",
       "<text text-anchor=\"start\" x=\"2135.08\" y=\"-322.48\" font-family=\"Times,serif\" baseline-shift=\"sub\" font-size=\"6.00\">10</text>\n",
       "</g>\n",
       "<!-- w_38:nothing&#45;&#45;HmmTransition_39 -->\n",
       "<g id=\"edge38\" class=\"edge\">\n",
       "<title>w_38:nothing&#45;&#45;HmmTransition_39</title>\n",
       "<path fill=\"none\" stroke=\"black\" d=\"M2130.63,-305.46C2126.57,-267.9 2117.16,-180.6 2111.39,-127.06\"/>\n",
       "</g>\n",
       "<!-- EmissionNode_41 -->\n",
       "<g id=\"node41\" class=\"node\">\n",
       "<title>EmissionNode_41</title>\n",
       "<polygon fill=\"lightgray\" stroke=\"black\" points=\"2256.58,-124.5 2170.58,-124.5 2170.58,-38.5 2256.58,-38.5 2256.58,-124.5\"/>\n",
       "<text text-anchor=\"middle\" x=\"2213.58\" y=\"-78.4\" font-family=\"Times,serif\" font-size=\"12.00\">EmissionNode</text>\n",
       "</g>\n",
       "<!-- w_38:nothing&#45;&#45;EmissionNode_41 -->\n",
       "<g id=\"edge39\" class=\"edge\">\n",
       "<title>w_38:nothing&#45;&#45;EmissionNode_41</title>\n",
       "<path fill=\"none\" stroke=\"black\" d=\"M2138.41,-306.24C2151.06,-268.56 2181.39,-178.29 2199.42,-124.64\"/>\n",
       "</g>\n",
       "<!-- y_40:nothing -->\n",
       "<g id=\"node40\" class=\"node\">\n",
       "<title>y_40:nothing</title>\n",
       "<ellipse fill=\"none\" stroke=\"black\" cx=\"2213.58\" cy=\"-324.58\" rx=\"18\" ry=\"18\"/>\n",
       "<text text-anchor=\"start\" x=\"2207.58\" y=\"-322.48\" font-family=\"Times,serif\" font-size=\"12.00\">y</text>\n",
       "<text text-anchor=\"start\" x=\"2214.58\" y=\"-322.48\" font-family=\"Times,serif\" baseline-shift=\"sub\" font-size=\"6.00\">10</text>\n",
       "</g>\n",
       "<!-- y_40:nothing&#45;&#45;EmissionNode_41 -->\n",
       "<g id=\"edge40\" class=\"edge\">\n",
       "<title>y_40:nothing&#45;&#45;EmissionNode_41</title>\n",
       "<path fill=\"none\" stroke=\"black\" d=\"M2213.58,-306.24C2213.58,-268.56 2213.58,-178.29 2213.58,-124.64\"/>\n",
       "</g>\n",
       "</g>\n",
       "</svg>\n"
      ],
      "text/plain": [
       "\"graph G {\\n    layout=dot;\\n    overlap =false;\\n    size=\\\"5.0,5.0!\\\";\\n    node [shape=circle, fontsize=12];\\n    \\\"w_1:nothing\\\" [shape=circle, label=<w<SUB><FONT POINT-SIZE=\\\"6\\\">1</FONT></SUB>>];\\n    \\\"constvar_2:[0.031, 0.011, 0.062, 0.246, 0.37, 0.28]\\\" [shape=circle, label=\\\"\"\u001b[93m\u001b[1m ⋯ 5467 bytes ⋯ \u001b[22m\u001b[39m\" [len=1.0];\\n    \\\"w_34:nothing\\\" -- \\\"HmmTransition_39\\\" [len=1.0];\\n    \\\"y_36:nothing\\\" -- \\\"EmissionNode_37\\\" [len=1.0];\\n    \\\"w_38:nothing\\\" -- \\\"HmmTransition_39\\\" [len=1.0];\\n    \\\"w_38:nothing\\\" -- \\\"EmissionNode_41\\\" [len=1.0];\\n    \\\"y_40:nothing\\\" -- \\\"EmissionNode_41\\\" [len=1.0];\\n}\""
      ]
     },
     "execution_count": 6,
     "metadata": {},
     "output_type": "execute_result"
    }
   ],
   "source": [
    "model_generator = hidden_markov_model() | (y = hpmm.Y,)\n",
    "model_to_plot = RxInfer.getmodel(RxInfer.create_model(model_generator))\n",
    "GraphViz.load(model_to_plot, strategy = :simple, layout=\"dot\", width=5.,height=5.)"
   ]
  },
  {
   "cell_type": "code",
   "execution_count": 7,
   "metadata": {},
   "outputs": [
    {
     "name": "stderr",
     "output_type": "stream",
     "text": [
      "\u001b[32mProgress: 100%|█████████████████████████████████████████| Time: 0:00:01\u001b[39m\n"
     ]
    },
    {
     "data": {
      "text/plain": [
       "Inference results:\n",
       "  Posteriors       | available for (w)\n",
       "  Free Energy:     | Real[-46.9501, -46.1856, -45.8682, -45.7966, -45.7724, -45.7645, -45.7618, -45.7608, -45.7604, -45.7602, -45.7601, -45.7601, -45.7601, -45.7601, -45.7601, -45.7601, -45.7601, -45.7601, -45.7601, -45.7601]\n"
      ]
     },
     "execution_count": 7,
     "metadata": {},
     "output_type": "execute_result"
    }
   ],
   "source": [
    "base_time = time()\n",
    "a = infer(\n",
    "    model = hidden_markov_model(),\n",
    "    constraints = hidden_markov_constraints,\n",
    "    initialization = init,\n",
    "    data = (y = hpmm.Y[1:T],),\n",
    "    options = (limit_stack_depth = 500,),\n",
    "    free_energy = true,\n",
    "    showprogress=true,\n",
    "    iterations = 20,    \n",
    "    warn = false,\n",
    "    callbacks = (\n",
    "        on_marginal_update = (model, name, update) -> begin\n",
    "            open(\"txts/$(string(time()-base_time)).txt\",\"a\") do io\n",
    "                println(io,\"$(update)\")\n",
    "            end\n",
    "        end,\n",
    "    )\n",
    ")"
   ]
  },
  {
   "cell_type": "code",
   "execution_count": 8,
   "metadata": {},
   "outputs": [
    {
     "data": {
      "text/plain": [
       "find_viterbi (generic function with 1 method)"
      ]
     },
     "execution_count": 8,
     "metadata": {},
     "output_type": "execute_result"
    }
   ],
   "source": [
    "function find_viterbi(posteriors_w)\n",
    "    posteriors_w .|> dist -> (sum(reshape(dist.p, U, X), dims=1) |> Iterators.flatten |> collect |> argmax)\n",
    "end"
   ]
  },
  {
   "cell_type": "code",
   "execution_count": 9,
   "metadata": {},
   "outputs": [],
   "source": [
    "function find_viterbiu(posteriors_w)\n",
    "    posteriors_w .|> dist -> (sum(reshape(dist.p, U, X), dims=2) |> Iterators.flatten |> collect |> argmax)\n",
    "end\n",
    "vmpus = find_viterbiu(a.posteriors[:w][20]);"
   ]
  },
  {
   "cell_type": "code",
   "execution_count": 10,
   "metadata": {},
   "outputs": [],
   "source": [
    "# probabilities = zeros(0) .|> ULogFloat64\n",
    "# maxprob = ULogFloat64(0.)\n",
    "# for (u,x) in Iterators.product(0:U^T, 0:X^T)\n",
    "#     us, xs = get_digits(u, U), get_digits(x, X)\n",
    "#     # println(us)\n",
    "#     # println(xs)\n",
    "#     # break\n",
    "#     total_prob = ULogarithmic(1.)\n",
    "#     for t in 1:T\n",
    "#         if t == 1\n",
    "#             total_prob *= P1[us[1],xs[1]]\n",
    "#         else\n",
    "#             total_prob *= Pt[us[t],xs[t],us[t-1],xs[t-1]]\n",
    "#         end\n",
    "#         total_prob *= Pe[us[t],xs[t],hpmm.Y[t]]\n",
    "#     end\n",
    "#     append!(probabilities, total_prob)\n",
    "# end"
   ]
  },
  {
   "cell_type": "code",
   "execution_count": 11,
   "metadata": {},
   "outputs": [
    {
     "name": "stdout",
     "output_type": "stream",
     "text": [
      "[1, 1, 1, 1, 1, 1, 1, 1, 1, 1]+exp(-19.535596525407534)\n",
      "[2, 1, 1, 1, 1, 1, 1, 1, 1, 1]+exp(-16.981419336640613)\n",
      "[2, 1, 2, 1, 1, 1, 1, 1, 1, 1]+exp(-16.412976483344725)\n",
      "[2, 1, 1, 2, 1, 1, 1, 1, 1, 1]+exp(-16.250863735759676)\n",
      "[2, 1, 1, 1, 2, 1, 1, 1, 1, 1]+exp(-14.422383891613736)\n",
      "[2, 1, 2, 1, 2, 1, 1, 1, 1, 1]+exp(-13.853941038317844)\n",
      "[2, 1, 1, 1, 2, 2, 1, 1, 1, 1]+exp(-13.087233459966848)\n",
      "[2, 1, 2, 1, 2, 2, 1, 1, 1, 1]+exp(-12.518790606670956)\n",
      "[2, 1, 1, 1, 2, 1, 2, 1, 1, 1]+exp(-11.13862123366113)\n",
      "[2, 1, 2, 1, 2, 1, 2, 1, 1, 1]+exp(-10.570178380365238)\n",
      "[2, 1, 1, 1, 2, 2, 2, 1, 1, 1]+exp(-10.436916129622272)\n",
      "[2, 1, 2, 1, 2, 2, 2, 1, 1, 1]+exp(-9.86847327632638)\n",
      "[2, 1, 2, 1, 2, 1, 2, 1, 2, 1]+exp(-9.522100628374583)\n",
      "[2, 1, 1, 1, 2, 2, 2, 1, 2, 1]+exp(-9.388838377631616)\n",
      "[2, 1, 2, 1, 2, 2, 2, 1, 2, 1]+exp(-8.820395524335725)\n"
     ]
    }
   ],
   "source": [
    "function get_digits(val, base) digits(val, base=base, pad=T) .|> x -> x+1 end\n",
    "\n",
    "function get_pdf(xs)\n",
    "    total_prob = ULogarithmic(1.)\n",
    "    for t in 1:T\n",
    "        if t == 1\n",
    "            p1 = 0.\n",
    "            for u in 1:U\n",
    "                p1 += P1[u,xs[t]] * Pe[u,xs[t],hpmm.Y[t]]\n",
    "            end\n",
    "            total_prob *= p1\n",
    "        else\n",
    "            pt = 0.\n",
    "            for (u, uprev) in Iterators.product(1:U, 1:U)\n",
    "                pt += Pt[u,xs[t],uprev,xs[t-1]] * Pe[u,xs[t],hpmm.Y[t]]\n",
    "            end\n",
    "            total_prob *= pt\n",
    "        end\n",
    "    end\n",
    "    total_prob\n",
    "end\n",
    "\n",
    "probabilities = zeros(0) .|> ULogFloat64\n",
    "maxprob = ULogFloat64(0.)\n",
    "for x in 0:(X^T-1)\n",
    "    xs = get_digits(x, X)\n",
    "    total_prob = get_pdf(xs)\n",
    "    if maxprob < total_prob\n",
    "        println(xs, total_prob)\n",
    "        maxprob = total_prob\n",
    "    end\n",
    "    append!(probabilities, total_prob)\n",
    "end"
   ]
  },
  {
   "cell_type": "code",
   "execution_count": 12,
   "metadata": {},
   "outputs": [
    {
     "data": {
      "text/plain": [
       "false"
      ]
     },
     "execution_count": 12,
     "metadata": {},
     "output_type": "execute_result"
    }
   ],
   "source": [
    "best_path = [2, 1, 2, 1, 2, 2, 2, 1, 2, 1]\n",
    "analyser = HpmmAnalyser(hpmm, dist) \n",
    "\n",
    "pdf(analyser; X = hpmm.X) > pdf(analyser; X = best_path) #usually false"
   ]
  },
  {
   "cell_type": "code",
   "execution_count": 13,
   "metadata": {},
   "outputs": [
    {
     "data": {
      "text/plain": [
       "0.49609375"
      ]
     },
     "execution_count": 13,
     "metadata": {},
     "output_type": "execute_result"
    }
   ],
   "source": [
    "len = length(probabilities)\n",
    "pos = length(probabilities[probabilities .<= get_pdf(hpmm.X)])\n",
    "pos/len"
   ]
  },
  {
   "cell_type": "code",
   "execution_count": 30,
   "metadata": {},
   "outputs": [
    {
     "data": {
      "text/plain": [
       "0.98828125"
      ]
     },
     "execution_count": 30,
     "metadata": {},
     "output_type": "execute_result"
    }
   ],
   "source": [
    "vmpxs = find_viterbi(a.posteriors[:w][20])\n",
    "len = length(probabilities)\n",
    "pos = length(probabilities[probabilities .<= get_pdf(vmpxs)])\n",
    "pos/len"
   ]
  },
  {
   "cell_type": "code",
   "execution_count": 15,
   "metadata": {},
   "outputs": [
    {
     "data": {
      "text/plain": [
       "1.0"
      ]
     },
     "execution_count": 15,
     "metadata": {},
     "output_type": "execute_result"
    }
   ],
   "source": [
    "len = length(probabilities)\n",
    "pos = length(probabilities[probabilities .<= get_pdf(best_path)])\n",
    "pos/len"
   ]
  },
  {
   "cell_type": "code",
   "execution_count": 16,
   "metadata": {},
   "outputs": [
    {
     "data": {
      "text/plain": [
       "(+exp(-9.900718588036147), +exp(-14.890027857925046), +exp(-8.820395524335725))"
      ]
     },
     "execution_count": 16,
     "metadata": {},
     "output_type": "execute_result"
    }
   ],
   "source": [
    "get_pdf(vmpxs), get_pdf(hpmm.X), get_pdf(best_path)"
   ]
  },
  {
   "cell_type": "code",
   "execution_count": 17,
   "metadata": {},
   "outputs": [
    {
     "data": {
      "text/plain": [
       "(exp(-5.315727186006743), exp(-8.721437377355702), exp(-6.249992237747996))"
      ]
     },
     "execution_count": 17,
     "metadata": {},
     "output_type": "execute_result"
    }
   ],
   "source": [
    "pdf(analyser; X = vmpxs), pdf(analyser; X = hpmm.X), pdf(analyser; X = best_path)"
   ]
  },
  {
   "cell_type": "markdown",
   "metadata": {},
   "source": [
    "# Belief prop"
   ]
  },
  {
   "cell_type": "code",
   "execution_count": 18,
   "metadata": {},
   "outputs": [
    {
     "data": {
      "text/plain": [
       "elbo (generic function with 1 method)"
      ]
     },
     "execution_count": 18,
     "metadata": {},
     "output_type": "execute_result"
    }
   ],
   "source": [
    "function elbo(mcx, mcu)\n",
    "    elbo = 0.\n",
    "    elbo += Iterators.product(1:U, 1:X) .|>\n",
    "    (\n",
    "        ((u,x),) -> log(P1[u,x]*Pe[u,x,hpmm.Y[1]]/(mcx.P1[x] * mcu.P1[u])) * mcx.P1[x] * mcu.P1[u]\n",
    "    ) |> sum\n",
    "    elbo2 = 0.\n",
    "    for t in 2:T\n",
    "        elbo2 += Iterators.product(1:U, 1:X, 1:U, 1:X) .|>\n",
    "        (\n",
    "            ((u,x,uprev,xprev),) -> \n",
    "            begin\n",
    "                qtu = VBMC.quuprev(u, uprev, mcx, t, hpmm.Y[t], Pt, Pe)\n",
    "                qtx = VBMC.qxxprev(x, xprev, mcu, t, hpmm.Y[t], Pt, Pe)\n",
    "                log(\n",
    "                    Pt[u,x,uprev,xprev]*Pe[u,x,hpmm.Y[t]]/(qtu * qtx)\n",
    "                ) * mcx.Pt[x,xprev,t] * mcu.Pt[u,uprev,t]\n",
    "            end\n",
    "        ) |> sum\n",
    "    end\n",
    "    elbo + elbo2\n",
    "end"
   ]
  },
  {
   "cell_type": "code",
   "execution_count": 22,
   "metadata": {},
   "outputs": [
    {
     "name": "stdout",
     "output_type": "stream",
     "text": [
      "73.58947540004965\n",
      "3556.6323228712445\n",
      "97.61051584665572\n",
      "-0.4400328693226353\n",
      "-1.0896691766652389\n",
      "-1.1172932218651839\n",
      "-1.1041000711572782\n",
      "-1.1104880544710185\n",
      "-1.1074484797292108\n",
      "-1.1089070131031724\n",
      "-1.108209935461926\n",
      "-1.1085437307583785\n",
      "-1.1083840397251374\n",
      "-1.1084604711196289\n",
      "-1.108423897184559\n",
      "-1.1084414002982923\n",
      "-1.1084330242722553\n",
      "-1.1084370326693367\n",
      "-1.108435114448173\n",
      "-1.1084360324190263\n",
      "-1.1084355931222336\n",
      "-1.1084358033489312\n",
      "-1.1084357027444418\n",
      "-1.1084357508889076\n",
      "-1.1084357278491963\n",
      "-1.1084357388749022\n",
      "-1.1084357335985522\n",
      "-1.1084357361236077\n",
      "-1.108435734915256\n",
      "-1.1084357354935401\n",
      "-1.1084357352168115\n",
      "-1.108435735349152\n",
      "-1.1084357352858558\n",
      "-1.1084357353162038\n",
      "-1.1084357353016576\n",
      "-1.1084357353085788\n",
      "-1.1084357353052616\n"
     ]
    }
   ],
   "source": [
    "mcu = MarkovChain(U, T)\n",
    "mcx = MarkovChain(X, T)\n",
    "\n",
    "function norm(A::AbstractArray; p = 2)\n",
    "    sum(abs.(A) .^ p)^(1 / p)\n",
    "end\n",
    "\n",
    "val = 1.0\n",
    "for _ = 1:200\n",
    "    tmpP1, tmpPt = mcx.P1 |> deepcopy, mcx.Pt |> deepcopy\n",
    "    fillalphaX!(mcx, mcu, P1, Pt, Pe, hpmm.Y)\n",
    "    fillbetaX!(mcx, mcu, Pt, Pe, hpmm.Y)\n",
    "    VBMC.fillPtx!(mcx, mcu, Pt, Pe, hpmm.Y)\n",
    "\n",
    "    fillalphaU!(mcu, mcx, P1, Pt, Pe, hpmm.Y)\n",
    "    fillbetaU!(mcu, mcx, Pt, Pe, hpmm.Y)\n",
    "    VBMC.fillPtu!(mcu, mcx, Pt, Pe, hpmm.Y)\n",
    "\n",
    "    signeda = mcx.Pt .|> Logarithmic\n",
    "    signedb = tmpPt .|> Logarithmic\n",
    "    val = norm(signeda .- signedb)\n",
    "    println(elbo(mcx ,mcu) |> Float64)\n",
    "    if val < 1.0e-14\n",
    "        break\n",
    "    end\n",
    "end"
   ]
  },
  {
   "cell_type": "code",
   "execution_count": 25,
   "metadata": {},
   "outputs": [
    {
     "data": {
      "text/plain": [
       "(+exp(-9.900718588036147), +exp(-14.890027857925046), +exp(-8.820395524335725), +exp(-8.820395524335725))"
      ]
     },
     "execution_count": 25,
     "metadata": {},
     "output_type": "execute_result"
    }
   ],
   "source": [
    "get_pdf(vmpxs), get_pdf(hpmm.X), get_pdf(best_path), get_pdf(VBMC.viterbi(mcx))"
   ]
  },
  {
   "cell_type": "code",
   "execution_count": 26,
   "metadata": {},
   "outputs": [
    {
     "data": {
      "text/plain": [
       "1.0"
      ]
     },
     "execution_count": 26,
     "metadata": {},
     "output_type": "execute_result"
    }
   ],
   "source": [
    "vmpxs = VBMC.viterbi(mcx)\n",
    "len = length(probabilities)\n",
    "pos = length(probabilities[probabilities .<= get_pdf(vmpxs)])\n",
    "pos/len"
   ]
  },
  {
   "cell_type": "code",
   "execution_count": 27,
   "metadata": {},
   "outputs": [
    {
     "data": {
      "text/plain": [
       "1.0"
      ]
     },
     "execution_count": 27,
     "metadata": {},
     "output_type": "execute_result"
    }
   ],
   "source": [
    "pos = length(probabilities[probabilities .<= get_pdf(VBMC.viterbi(mcx))])\n",
    "pos/len"
   ]
  },
  {
   "cell_type": "markdown",
   "metadata": {},
   "source": [
    "## ELBOs"
   ]
  },
  {
   "cell_type": "code",
   "execution_count": 22,
   "metadata": {},
   "outputs": [
    {
     "data": {
      "text/plain": [
       "total_elbo (generic function with 1 method)"
      ]
     },
     "execution_count": 22,
     "metadata": {},
     "output_type": "execute_result"
    }
   ],
   "source": [
    "function get_digits(val, base) digits(val, base=base, pad=T) .|> x -> x+1 end\n",
    "\n",
    "function get_pdf(xs, us)\n",
    "    total_prob = ULogarithmic(1.)\n",
    "    for t in 1:T\n",
    "        if t == 1\n",
    "            total_prob *= P1[us[t],xs[t]] * Pe[us[t],xs[t],hpmm.Y[t]]\n",
    "        else\n",
    "            total_prob *= Pt[us[t],xs[t],us[t-1],xs[t-1]] * Pe[us[t],xs[t],hpmm.Y[t]]\n",
    "        end\n",
    "    end\n",
    "    total_prob\n",
    "end\n",
    "\n",
    "function get_elbo(mcu, mcx, us, xs)\n",
    "    total_elbo = ULogarithmic(1.)\n",
    "    qux = ULogarithmic(1.)\n",
    "    puxy = get_pdf(xs, us)\n",
    "    for t in 1:T\n",
    "        if t == 1\n",
    "            qux *= mcu.P1[us[t]] * mcx.P1[xs[t]]\n",
    "        else\n",
    "            qux *= mcu.Pt[us[t],us[t-1], t] * mcx.Pt[xs[t],xs[t-1], t]\n",
    "        end\n",
    "    end\n",
    "    qux*log(puxy/qux)\n",
    "end\n",
    "\n",
    "function total_elbo(mcu, mcx)\n",
    "    te = ULogarithmic(0.)\n",
    "    for (x,u) in Iterators.product(0:(X^T-1), 0:(U^T-1))\n",
    "        xs = get_digits(x, X)\n",
    "        us = get_digits(u, U)\n",
    "        e = get_elbo(mcu, mcx, us, xs)\n",
    "        te += e\n",
    "    end\n",
    "    te\n",
    "end\n"
   ]
  },
  {
   "cell_type": "code",
   "execution_count": 30,
   "metadata": {},
   "outputs": [
    {
     "data": {
      "text/plain": [
       "3.4867207242569914e-16"
      ]
     },
     "execution_count": 30,
     "metadata": {},
     "output_type": "execute_result"
    }
   ],
   "source": [
    "get_pdf(vmpxs, vmpus) |> Float64"
   ]
  },
  {
   "cell_type": "code",
   "execution_count": 29,
   "metadata": {},
   "outputs": [
    {
     "data": {
      "text/plain": [
       "1.5578445538015466e-15"
      ]
     },
     "execution_count": 29,
     "metadata": {},
     "output_type": "execute_result"
    }
   ],
   "source": [
    "get_pdf(hpmm.X, hpmm.U) |> Float64"
   ]
  },
  {
   "cell_type": "code",
   "execution_count": 32,
   "metadata": {},
   "outputs": [
    {
     "data": {
      "text/plain": [
       "8.730009286727867e-16"
      ]
     },
     "execution_count": 32,
     "metadata": {},
     "output_type": "execute_result"
    }
   ],
   "source": [
    "get_pdf(VBMC.viterbi(mcx), VBMC.viterbi(mcu)) |> Float64"
   ]
  },
  {
   "cell_type": "markdown",
   "metadata": {},
   "source": []
  }
 ],
 "metadata": {
  "kernelspec": {
   "display_name": "Julia 1.11.2",
   "language": "julia",
   "name": "julia-1.11"
  },
  "language_info": {
   "file_extension": ".jl",
   "mimetype": "application/julia",
   "name": "julia",
   "version": "1.11.2"
  }
 },
 "nbformat": 4,
 "nbformat_minor": 2
}
