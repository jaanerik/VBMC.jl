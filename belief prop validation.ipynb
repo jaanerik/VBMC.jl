{
 "cells": [
  {
   "cell_type": "code",
   "execution_count": 113,
   "metadata": {},
   "outputs": [],
   "source": [
    "using RxInfer\n",
    "using GraphViz\n",
    "\n",
    "using Test\n",
    "using TOML\n",
    "using BenchmarkTools\n",
    "using VBMC\n",
    "\n",
    "using Distributions\n",
    "using Random\n",
    "using StatsBase\n",
    "using LogarithmicNumbers\n",
    "\n",
    "Random.seed!(123)\n",
    "if \"test\" in readdir()\n",
    "    cd(\"test\")\n",
    "end"
   ]
  },
  {
   "cell_type": "code",
   "execution_count": 114,
   "metadata": {},
   "outputs": [
    {
     "data": {
      "text/plain": [
       "elbo (generic function with 1 method)"
      ]
     },
     "execution_count": 114,
     "metadata": {},
     "output_type": "execute_result"
    }
   ],
   "source": [
    "function elbo(mcx, mcu)\n",
    "    \"Assumes P1, Pt, Pe as global vars.\"\n",
    "    elbo = 0.\n",
    "    elbo += Iterators.product(1:U, 1:X) .|>\n",
    "    (\n",
    "        ((u,x),) -> log(P1[u,x]*Pe[u,x,hpmm.Y[1]]/(mcx.P1[x] * mcu.P1[u])) * mcx.P1[x] * mcu.P1[u]\n",
    "    ) |> sum\n",
    "    elbo2 = 0.\n",
    "    for t in 2:T\n",
    "        elbo2 += Iterators.product(1:U, 1:X, 1:U, 1:X) .|>\n",
    "        (\n",
    "            ((u,x,uprev,xprev),) -> \n",
    "            begin\n",
    "                qtu = VBMC.quuprev(u, uprev, mcx, t, hpmm.Y[t], Pt, Pe)\n",
    "                qtx = VBMC.qxxprev(x, xprev, mcu, t, hpmm.Y[t], Pt, Pe)\n",
    "                log(\n",
    "                    Pt[u,x,uprev,xprev]*Pe[u,x,hpmm.Y[t]]/(qtu * qtx)\n",
    "                ) * mcx.Pt[x,xprev,t] * mcu.Pt[u,uprev,t]\n",
    "            end\n",
    "        ) |> sum\n",
    "    end\n",
    "    elbo + elbo2\n",
    "end"
   ]
  },
  {
   "cell_type": "code",
   "execution_count": 329,
   "metadata": {},
   "outputs": [
    {
     "data": {
      "text/plain": [
       "TMM([1, 2], [2, 2], Real[1.8846442427557517, 1.9521787559521258])"
      ]
     },
     "execution_count": 329,
     "metadata": {},
     "output_type": "execute_result"
    }
   ],
   "source": [
    "vars = TOML.parsefile(\"Constants.toml\")\n",
    "T, U, X, Y = 2, vars[\"U\"], vars[\"X\"], vars[\"Y\"]\n",
    "# @test T == 2 && U == 3 && X == 2\n",
    "\n",
    "P1 = begin\n",
    "    Vector(1:U*X) |>\n",
    "    Dirichlet |>\n",
    "    rand |>\n",
    "    (x -> Categorical(x)) |>\n",
    "    (d -> ReshapedCategorical(d, U, X))\n",
    "end\n",
    "\n",
    "#P(·,· | u_prev, x_prev) = Pt[:,:,u_prev,x_prev] sums to 1 for fixed u_prev, x_prev\n",
    "Pt = reshape(rand(Dirichlet(1:U*X), U * X), (U, X, U, X)) |> TransitionDistribution\n",
    "\n",
    "function emissionf(randVal, u, x)\n",
    "    randVal .+ x\n",
    "end\n",
    "function revf(emission, u, x)\n",
    "    emission .- x\n",
    "end #the dot vectorizes, could use X instead\n",
    "emission = Emission(emissionf, revf)\n",
    "\n",
    "Pe = EmissionDistribution{Continuous}(Normal(0, 0.1), emission, U, X)\n",
    "dist = HpmmDistribution(P1, Pt, Pe)\n",
    "hpmm = rand(dist, T)"
   ]
  },
  {
   "cell_type": "code",
   "execution_count": 330,
   "metadata": {},
   "outputs": [
    {
     "data": {
      "text/plain": [
       "engT2 (generic function with 1 method)"
      ]
     },
     "execution_count": 330,
     "metadata": {},
     "output_type": "execute_result"
    }
   ],
   "source": [
    "function engT2(mcx, mcu)\n",
    "    energy = 0.\n",
    "\n",
    "    energy += Iterators.product(1:U, 1:X) .|>\n",
    "    (\n",
    "        ((u,x),) -> log(P1[u,x]*Pe[u,x,hpmm.Y[1]]) * mcx.P1[x] * mcu.P1[u]\n",
    "    ) |>\n",
    "    sum\n",
    "\n",
    "    energy2 = 0.\n",
    "    for t in 2:T\n",
    "        energy2 += Iterators.product(1:U, 1:X, 1:U, 1:X) .|>\n",
    "        (\n",
    "            ((u,x,uprev,xprev),) -> log(Pt[u,x,uprev,xprev]*Pe[u,x,hpmm.Y[t]]) * mcx.Pt[x,xprev,t] * mcu.Pt[u,uprev,t]\n",
    "        ) |>\n",
    "        sum\n",
    "    end\n",
    "    energy += energy2\n",
    "    # println(\"energytotal \", energy |> Float64)\n",
    "    energy\n",
    "end"
   ]
  },
  {
   "cell_type": "code",
   "execution_count": 331,
   "metadata": {},
   "outputs": [
    {
     "data": {
      "text/plain": [
       "elbo (generic function with 1 method)"
      ]
     },
     "execution_count": 331,
     "metadata": {},
     "output_type": "execute_result"
    }
   ],
   "source": [
    "function eng(mcx, mcu)\n",
    "    energy = 0.\n",
    "\n",
    "    energy += Iterators.product(1:U, 1:X) .|>\n",
    "    (\n",
    "        ((u,x),) -> log(P1[u,x]*Pe[u,x,hpmm.Y[1]]) * mcx.P1[x] * mcu.P1[u]\n",
    "    ) |>\n",
    "    sum\n",
    "\n",
    "    # println(\"Energy 1 \", energy |> Float64)\n",
    "\n",
    "    energy2 = 0.\n",
    "    for t in 2:T\n",
    "        energy2 += Iterators.product(1:U, 1:X, 1:U, 1:X) .|>\n",
    "        (\n",
    "            ((u,x,uprev,xprev),) -> log(Pt[u,x,uprev,xprev]*Pe[u,x,hpmm.Y[t]]) * mcx.Pt[x,xprev,t] * mcu.Pt[u,uprev,t]\n",
    "        ) |>\n",
    "        sum\n",
    "    end\n",
    "    energy += energy2\n",
    "    # println(\"Energy 2 \", energy2 |> Float64)\n",
    "    # println(\"energytotal \", energy |> Float64)\n",
    "    energy\n",
    "end\n",
    "function entx(mc, mcu)\n",
    "    negent = 0.\n",
    "    negent += 1:mc.Z .|>\n",
    "    (\n",
    "        z -> log(mc.P1[z]) * mc.P1[z]\n",
    "    ) |>\n",
    "    sum\n",
    "    negent2 = 0.\n",
    "    for t in 2:T\n",
    "        negent2 += Iterators.product(1:mc.Z, 1:mc.Z) .|> (\n",
    "            ((z,zprev),) -> \n",
    "            begin\n",
    "                qt = VBMC.qxxprev(z, zprev, mcu, t, hpmm.Y[t], Pt, Pe)\n",
    "                mc.alpha[zprev,t-1] * qt * log(qt) * mc.beta[z, t]\n",
    "            end\n",
    "        ) |>\n",
    "        sum\n",
    "    end\n",
    "    negent += negent2\n",
    "    -negent\n",
    "end\n",
    "function entu(mc, mcx)\n",
    "    negent = 0.\n",
    "    negent += 1:mc.Z .|>\n",
    "    (\n",
    "        z -> log(mc.P1[z]) * mc.P1[z]\n",
    "    ) |>\n",
    "    sum\n",
    "    negent2 = 0.\n",
    "    for t in 2:T\n",
    "        negent2 += Iterators.product(1:mc.Z, 1:mc.Z) .|> (\n",
    "            ((z,zprev),) -> \n",
    "            begin\n",
    "                qt = VBMC.quuprev(z, zprev, mcx, t, hpmm.Y[t], Pt, Pe)\n",
    "                mc.alpha[zprev,t-1] * qt * log(qt) * mc.beta[z, t]\n",
    "            end\n",
    "        ) |>\n",
    "        sum\n",
    "    end\n",
    "    negent += negent2\n",
    "    -negent\n",
    "end\n",
    "function elbo(mcx, mcu)\n",
    "    elbo = 0.\n",
    "\n",
    "    elbo += Iterators.product(1:U, 1:X) .|>\n",
    "    (\n",
    "        ((u,x),) -> log(P1[u,x]*Pe[u,x,hpmm.Y[1]]/(mcx.P1[x] * mcu.P1[u])) * mcx.P1[x] * mcu.P1[u]\n",
    "    ) |>\n",
    "    sum\n",
    "\n",
    "    elbo2 = 0.\n",
    "    for t in 2:T\n",
    "        elbo2 += Iterators.product(1:U, 1:X, 1:U, 1:X) .|>\n",
    "        (\n",
    "            ((u,x,uprev,xprev),) -> \n",
    "            begin\n",
    "                qtu = VBMC.quuprev(u, uprev, mcx, t, hpmm.Y[t], Pt, Pe)\n",
    "                qtx = VBMC.qxxprev(x, xprev, mcu, t, hpmm.Y[t], Pt, Pe)\n",
    "                log(\n",
    "                    Pt[u,x,uprev,xprev]*Pe[u,x,hpmm.Y[t]]/(qtu * qtx)\n",
    "                ) * mcx.Pt[x,xprev,t] * mcu.Pt[u,uprev,t]\n",
    "            end\n",
    "        ) |>\n",
    "        sum\n",
    "    end\n",
    "    elbo += elbo2\n",
    "    elbo\n",
    "end"
   ]
  },
  {
   "cell_type": "code",
   "execution_count": 332,
   "metadata": {},
   "outputs": [
    {
     "data": {
      "text/plain": [
       "elbo2 (generic function with 1 method)"
      ]
     },
     "execution_count": 332,
     "metadata": {},
     "output_type": "execute_result"
    }
   ],
   "source": [
    "function elbo2(mcx, mcu)\n",
    "    elbo = 0.\n",
    "\n",
    "    elbo += Iterators.product(1:U, 1:X) .|>\n",
    "    (\n",
    "        ((u,x),) -> log(P1[u,x]*Pe[u,x,hpmm.Y[1]]/(mcx.P1[x] * mcu.P1[u])) * mcx.P1[x] * mcu.P1[u]\n",
    "    ) |>\n",
    "    sum\n",
    "\n",
    "    elbo2 = 0.\n",
    "    for t in 2:T\n",
    "        elbo2 += Iterators.product(1:U, 1:X, 1:U, 1:X) .|>\n",
    "        (\n",
    "            ((u,x,uprev,xprev),) -> \n",
    "            begin\n",
    "                qtu = VBMC.quuprev(u, uprev, mcx, t, hpmm.Y[t], Pt, Pe)\n",
    "                qtx = VBMC.qxxprev(x, xprev, mcu, t, hpmm.Y[t], Pt, Pe)\n",
    "                log(\n",
    "                    Pt[u,x,uprev,xprev]*Pe[u,x,hpmm.Y[t]]/(qtu * qtx)\n",
    "                ) * mcx.alpha[xprev, t-1] * qtx * mcx.beta[x, t] * mcu.alpha[uprev, t-1] * qtu * mcu.beta[u, t]\n",
    "            end\n",
    "        ) |>\n",
    "        sum\n",
    "    end\n",
    "    elbo += elbo2\n",
    "    elbo\n",
    "end"
   ]
  },
  {
   "cell_type": "code",
   "execution_count": 391,
   "metadata": {},
   "outputs": [
    {
     "name": "stdout",
     "output_type": "stream",
     "text": [
      "1.740431386962883\n",
      "1.7438492967914212\n",
      "1.744625859555342\n",
      "1.7448022294635266\n"
     ]
    }
   ],
   "source": [
    "T = 2\n",
    "\n",
    "mcu = MarkovChain(U, T)\n",
    "mcx = MarkovChain(X, T)\n",
    "elbos = zeros(0)\n",
    "\n",
    "function norm(A::AbstractArray; p = 2)\n",
    "    sum(abs.(A) .^ p)^(1 / p)\n",
    "end\n",
    "\n",
    "val = 1.0\n",
    "for _ = 1:4\n",
    "    # println(elbo(mcx, mcu))\n",
    "\n",
    "    fillalphaX!(mcx, mcu, P1, Pt, Pe, hpmm.Y)\n",
    "    fillbetaX!(mcx, mcu, Pt, Pe, hpmm.Y)\n",
    "    VBMC.fillPtx!(mcx, mcu, Pt, Pe, hpmm.Y)\n",
    "\n",
    "    fillalphaU!(mcu, mcx, P1, Pt, Pe, hpmm.Y)\n",
    "    fillbetaU!(mcu, mcx, Pt, Pe, hpmm.Y)\n",
    "    VBMC.fillPtu!(mcu, mcx, Pt, Pe, hpmm.Y)\n",
    "    println(elbo(mcx, mcu) |> Float64)\n",
    "    # if val < 1.0e-14\n",
    "        # break\n",
    "    # end\n",
    "end"
   ]
  },
  {
   "cell_type": "code",
   "execution_count": 392,
   "metadata": {},
   "outputs": [
    {
     "name": "stdout",
     "output_type": "stream",
     "text": [
      "\u001b[91m\u001b[1mTest Failed\u001b[22m\u001b[39m at \u001b[39m\u001b[1mIn[392]:1\u001b[22m\n",
      "  Expression: (mcx.beta.mat[:, 1] .* mcx.alpha.mat[:, 1] |> sum) |> Float64 ≈ (mcx.beta.mat[:, 2] .* mcx.alpha.mat[:, 2] |> sum) |> Float64\n",
      "   Evaluated: 0.9999999999999998 ≈ 0.99999957637562\n",
      "\n"
     ]
    },
    {
     "ename": "LoadError",
     "evalue": "\u001b[91mThere was an error during testing\u001b[39m",
     "output_type": "error",
     "traceback": [
      "\u001b[91mThere was an error during testing\u001b[39m",
      "",
      "Stacktrace:",
      " [1] record(ts::Test.FallbackTestSet, t::Union{Test.Error, Test.Fail})",
      "   @ Test ~/.julia/juliaup/julia-1.11.2+0.aarch64.apple.darwin14/share/julia/stdlib/v1.11/Test/src/Test.jl:1026",
      " [2] do_test(result::Test.ExecutionResult, orig_expr::Any)",
      "   @ Test ~/.julia/juliaup/julia-1.11.2+0.aarch64.apple.darwin14/share/julia/stdlib/v1.11/Test/src/Test.jl:712",
      " [3] macro expansion",
      "   @ ~/.julia/juliaup/julia-1.11.2+0.aarch64.apple.darwin14/share/julia/stdlib/v1.11/Test/src/Test.jl:679 [inlined]",
      " [4] top-level scope",
      "   @ In[392]:1"
     ]
    }
   ],
   "source": [
    "@test ((mcx.beta.mat[:,1] .* mcx.alpha.mat[:,1]) |> sum) |> Float64 ≈ ((mcx.beta.mat[:,2] .* mcx.alpha.mat[:,2]) |> sum) |> Float64\n",
    "@test (mcx.beta.mat[:,1] .* mcx.alpha.mat[:,1]) |> sum |> Float64 ≈ 1.\n",
    "@test (mcx.beta.mat[:,2] .* mcx.alpha.mat[:,2]) |> sum |> Float64 ≈ 1."
   ]
  },
  {
   "cell_type": "code",
   "execution_count": 393,
   "metadata": {},
   "outputs": [
    {
     "data": {
      "text/plain": [
       "exp(-14.435951016536873)"
      ]
     },
     "execution_count": 393,
     "metadata": {},
     "output_type": "execute_result"
    }
   ],
   "source": [
    "(mcu.alpha.mat[:,1] .* mcu.beta.mat[:,1] |> sum) - (mcu.alpha[:, 2] |> sum )"
   ]
  },
  {
   "cell_type": "code",
   "execution_count": 394,
   "metadata": {},
   "outputs": [
    {
     "data": {
      "text/plain": [
       "exp(-5.377076919832469e-7)"
      ]
     },
     "execution_count": 394,
     "metadata": {},
     "output_type": "execute_result"
    }
   ],
   "source": [
    "mcu.alpha[:, 2] |> sum "
   ]
  },
  {
   "cell_type": "code",
   "execution_count": 395,
   "metadata": {},
   "outputs": [
    {
     "name": "stdout",
     "output_type": "stream",
     "text": [
      "\u001b[91m\u001b[1mTest Failed\u001b[22m\u001b[39m at \u001b[39m\u001b[1mIn[395]:1\u001b[22m\n",
      "  Expression: (mcu.beta.mat[:, 1] .* mcu.alpha.mat[:, 1] |> sum) |> Float64 ≈ (mcu.beta.mat[:, 2] .* mcu.alpha.mat[:, 2] |> sum) |> Float64\n",
      "   Evaluated: 1.0000000000000002 ≈ 0.9999994622924526\n",
      "\n"
     ]
    },
    {
     "ename": "LoadError",
     "evalue": "\u001b[91mThere was an error during testing\u001b[39m",
     "output_type": "error",
     "traceback": [
      "\u001b[91mThere was an error during testing\u001b[39m",
      "",
      "Stacktrace:",
      " [1] record(ts::Test.FallbackTestSet, t::Union{Test.Error, Test.Fail})",
      "   @ Test ~/.julia/juliaup/julia-1.11.2+0.aarch64.apple.darwin14/share/julia/stdlib/v1.11/Test/src/Test.jl:1026",
      " [2] do_test(result::Test.ExecutionResult, orig_expr::Any)",
      "   @ Test ~/.julia/juliaup/julia-1.11.2+0.aarch64.apple.darwin14/share/julia/stdlib/v1.11/Test/src/Test.jl:712",
      " [3] macro expansion",
      "   @ ~/.julia/juliaup/julia-1.11.2+0.aarch64.apple.darwin14/share/julia/stdlib/v1.11/Test/src/Test.jl:679 [inlined]",
      " [4] top-level scope",
      "   @ In[395]:1"
     ]
    }
   ],
   "source": [
    "@test (mcu.beta.mat[:,1] .* mcu.alpha.mat[:,1]) |> sum |> Float64 ≈ (mcu.beta.mat[:,2] .* mcu.alpha.mat[:,2]) |> sum |> Float64\n",
    "@test (mcu.beta.mat[:,1] .* mcu.alpha.mat[:,1]) |> sum  ≈ 1.\n",
    "@test (mcu.beta.mat[:,2] .* mcu.alpha.mat[:,2]) |> sum  ≈ 1."
   ]
  },
  {
   "cell_type": "code",
   "execution_count": 275,
   "metadata": {},
   "outputs": [
    {
     "data": {
      "text/plain": [
       "(exp(1.7763568394002505e-15), exp(34.004843733842804))"
      ]
     },
     "execution_count": 275,
     "metadata": {},
     "output_type": "execute_result"
    }
   ],
   "source": [
    "(mcu.beta.mat[:,1] .* mcu.alpha.mat[:,1]) |> sum, (mcu.beta.mat[:,2] .* mcu.alpha.mat[:,2]) |> sum"
   ]
  },
  {
   "cell_type": "code",
   "execution_count": 292,
   "metadata": {},
   "outputs": [
    {
     "data": {
      "text/plain": [
       "exp(-451.6880146156002)"
      ]
     },
     "execution_count": 292,
     "metadata": {},
     "output_type": "execute_result"
    }
   ],
   "source": [
    "VBMC.p1u(1, mcx.Z, P1, mcx.P1, Y[1], Pe)"
   ]
  },
  {
   "cell_type": "code",
   "execution_count": 293,
   "metadata": {},
   "outputs": [
    {
     "data": {
      "text/plain": [
       "3-element Vector{Float64}:\n",
       " 6.829481149007878e-197\n",
       " 2.3317543299886406e-197\n",
       " 1.3515123121225329e-196"
      ]
     },
     "execution_count": 293,
     "metadata": {},
     "output_type": "execute_result"
    }
   ],
   "source": [
    "mcu.alpha.mat[:, 1] = 1:mcu.Z .|> (u -> VBMC.p1u(u, mcx.Z, P1, mcx.P1, Y[1], Pe))\n",
    "mcu.alpha.mat[:, 1] .|> Float64"
   ]
  },
  {
   "cell_type": "code",
   "execution_count": 277,
   "metadata": {},
   "outputs": [
    {
     "data": {
      "text/plain": [
       "exp(1.7763568394002505e-15)"
      ]
     },
     "execution_count": 277,
     "metadata": {},
     "output_type": "execute_result"
    }
   ],
   "source": [
    "(mcu.alpha[:,1] .* mcu.beta[:,1]) |> sum"
   ]
  },
  {
   "cell_type": "code",
   "execution_count": 53,
   "metadata": {},
   "outputs": [
    {
     "name": "stdout",
     "output_type": "stream",
     "text": [
      "[1, 1]+exp(-4.46746581556419)\n",
      "[2, 1]+exp(-1.9132886267972715)\n",
      "[1, 2]+exp(-4.683821365046635)\n",
      "[2, 2]+exp(-2.7630895038877474)\n"
     ]
    }
   ],
   "source": [
    "function get_pdf(xs)\n",
    "    total_prob = ULogarithmic(1.)\n",
    "    for t in 1:T\n",
    "        if t == 1\n",
    "            p1 = 0.\n",
    "            for u in 1:U\n",
    "                p1 += P1[u,xs[t]] * Pe[u,xs[t],hpmm.Y[t]]\n",
    "            end\n",
    "            total_prob *= p1\n",
    "        else\n",
    "            pt = 0.\n",
    "            for (u, uprev) in Iterators.product(1:U, 1:U)\n",
    "                pt += Pt[u,xs[t],uprev,xs[t-1]] * Pe[u,xs[t],hpmm.Y[t]]\n",
    "            end\n",
    "            total_prob *= pt\n",
    "        end\n",
    "    end\n",
    "    total_prob\n",
    "end\n",
    "\n",
    "probabilities = zeros(0) .|> ULogFloat64\n",
    "maxprob = ULogFloat64(0.)\n",
    "for x in 0:(X^T-1)\n",
    "    xs = get_digits(x, X)\n",
    "    total_prob = get_pdf(xs)\n",
    "    println(xs, total_prob)\n",
    "    if maxprob < total_prob\n",
    "        maxprob = total_prob\n",
    "    end\n",
    "    append!(probabilities, total_prob)\n",
    "end"
   ]
  },
  {
   "cell_type": "code",
   "execution_count": null,
   "metadata": {},
   "outputs": [],
   "source": []
  }
 ],
 "metadata": {
  "kernelspec": {
   "display_name": "Julia 1.11.2",
   "language": "julia",
   "name": "julia-1.11"
  },
  "language_info": {
   "file_extension": ".jl",
   "mimetype": "application/julia",
   "name": "julia",
   "version": "1.11.2"
  }
 },
 "nbformat": 4,
 "nbformat_minor": 2
}
