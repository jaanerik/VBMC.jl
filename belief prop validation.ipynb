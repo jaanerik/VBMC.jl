{
 "cells": [
  {
   "cell_type": "code",
   "execution_count": 1,
   "metadata": {},
   "outputs": [],
   "source": [
    "using RxInfer\n",
    "using GraphViz\n",
    "\n",
    "using Test\n",
    "using TOML\n",
    "using BenchmarkTools\n",
    "using VBMC\n",
    "\n",
    "using Distributions\n",
    "using Random\n",
    "using StatsBase\n",
    "using LogarithmicNumbers\n",
    "\n",
    "Random.seed!(123)\n",
    "if \"test\" in readdir()\n",
    "    cd(\"test\")\n",
    "end"
   ]
  },
  {
   "cell_type": "code",
   "execution_count": 2,
   "metadata": {},
   "outputs": [
    {
     "data": {
      "text/plain": [
       "TMM([2, 2], [1, 2], Real[1.9462520540394483, 0.400486398281505])"
      ]
     },
     "execution_count": 2,
     "metadata": {},
     "output_type": "execute_result"
    }
   ],
   "source": [
    "vars = TOML.parsefile(\"Constants.toml\")\n",
    "T, U, X, Y = 2, vars[\"U\"], vars[\"X\"], vars[\"Y\"]\n",
    "# @test T == 2 && U == 3 && X == 2\n",
    "\n",
    "P1 = begin\n",
    "    Vector(1:U*X) |>\n",
    "    Dirichlet |>\n",
    "    rand |>\n",
    "    (x -> Categorical(x)) |>\n",
    "    (d -> ReshapedCategorical(d, U, X))\n",
    "end\n",
    "\n",
    "#P(·,· | u_prev, x_prev) = Pt[:,:,u_prev,x_prev] sums to 1 for fixed u_prev, x_prev\n",
    "Pt = reshape(rand(Dirichlet(1:U*X), U * X), (U, X, U, X)) |> TransitionDistribution\n",
    "\n",
    "function emissionf(randVal, u, x)\n",
    "    randVal .+ x\n",
    "end\n",
    "function revf(emission, u, x)\n",
    "    emission .- x\n",
    "end #the dot vectorizes, could use X instead\n",
    "emission = Emission(emissionf, revf)\n",
    "\n",
    "Pe = EmissionDistribution{Continuous}(Normal(0, 1), emission, U, X)\n",
    "dist = HpmmDistribution(P1, Pt, Pe)\n",
    "hpmm = rand(dist, T)"
   ]
  },
  {
   "cell_type": "code",
   "execution_count": 3,
   "metadata": {},
   "outputs": [
    {
     "data": {
      "text/plain": [
       "engT2 (generic function with 1 method)"
      ]
     },
     "execution_count": 3,
     "metadata": {},
     "output_type": "execute_result"
    }
   ],
   "source": [
    "function engT2(mcx, mcu)\n",
    "    energy = 0.\n",
    "\n",
    "    energy += Iterators.product(1:U, 1:X) .|>\n",
    "    (\n",
    "        ((u,x),) -> log(P1[u,x]*Pe[u,x,hpmm.Y[1]]) * mcx.P1[x] * mcu.P1[u]\n",
    "    ) |>\n",
    "    sum\n",
    "\n",
    "    energy2 = 0.\n",
    "    for t in 2:T\n",
    "        energy2 += Iterators.product(1:U, 1:X, 1:U, 1:X) .|>\n",
    "        (\n",
    "            ((u,x,uprev,xprev),) -> log(Pt[u,x,uprev,xprev]*Pe[u,x,hpmm.Y[t]]) * mcx.Pt[x,xprev,t] * mcu.Pt[u,uprev,t]\n",
    "        ) |>\n",
    "        sum\n",
    "    end\n",
    "    energy += energy2\n",
    "    # println(\"energytotal \", energy |> Float64)\n",
    "    energy\n",
    "end"
   ]
  },
  {
   "cell_type": "code",
   "execution_count": null,
   "metadata": {},
   "outputs": [
    {
     "data": {
      "text/plain": [
       "elbo (generic function with 1 method)"
      ]
     },
     "execution_count": 4,
     "metadata": {},
     "output_type": "execute_result"
    }
   ],
   "source": [
    "function eng(mcx, mcu)\n",
    "    energy = 0.\n",
    "\n",
    "    energy += Iterators.product(1:U, 1:X) .|>\n",
    "    (\n",
    "        ((u,x),) -> log(P1[u,x]*Pe[u,x,hpmm.Y[1]]) * mcx.P1[x] * mcu.P1[u]\n",
    "    ) |>\n",
    "    sum\n",
    "\n",
    "    # println(\"Energy 1 \", energy |> Float64)\n",
    "\n",
    "    energy2 = 0.\n",
    "    for t in 2:T\n",
    "        energy2 += Iterators.product(1:U, 1:X, 1:U, 1:X) .|>\n",
    "        (\n",
    "            ((u,x,uprev,xprev),) -> log(Pt[u,x,uprev,xprev]*Pe[u,x,hpmm.Y[t]]) * mcx.Pt[x,xprev,t] * mcu.Pt[u,uprev,t]\n",
    "        ) |>\n",
    "        sum\n",
    "    end\n",
    "    energy += energy2\n",
    "    # println(\"Energy 2 \", energy2 |> Float64)\n",
    "    # println(\"energytotal \", energy |> Float64)\n",
    "    energy\n",
    "end\n",
    "function entx(mc, mcu)\n",
    "    negent = 0.\n",
    "    negent += 1:mc.Z .|>\n",
    "    (\n",
    "        z -> log(mc.P1[z]) * mc.P1[z]\n",
    "    ) |>\n",
    "    sum\n",
    "    negent2 = 0.\n",
    "    for t in 2:T\n",
    "        negent2 += Iterators.product(1:mc.Z, 1:mc.Z) .|> (\n",
    "            ((z,zprev),) -> \n",
    "            begin\n",
    "                qt = VBMC.qxxprev(z, zprev, mcu, t, hpmm.Y[t], Pt, Pe)\n",
    "                mc.alpha[zprev,t-1] * qt * log(qt) * mc.beta[z, t]\n",
    "            end\n",
    "        ) |>\n",
    "        sum\n",
    "    end\n",
    "    negent += negent2\n",
    "    -negent\n",
    "end\n",
    "function entu(mc, mcx)\n",
    "    negent = 0.\n",
    "    negent += 1:mc.Z .|>\n",
    "    (\n",
    "        z -> log(mc.P1[z]) * mc.P1[z]\n",
    "    ) |>\n",
    "    sum\n",
    "    negent2 = 0.\n",
    "    for t in 2:T\n",
    "        negent2 += Iterators.product(1:mc.Z, 1:mc.Z) .|> (\n",
    "            ((z,zprev),) -> \n",
    "            begin\n",
    "                qt = VBMC.quuprev(z, zprev, mcx, t, hpmm.Y[t], Pt, Pe)\n",
    "                mc.alpha[zprev,t-1] * qt * log(qt) * mc.beta[z, t]\n",
    "            end\n",
    "        ) |>\n",
    "        sum\n",
    "    end\n",
    "    negent += negent2\n",
    "    -negent\n",
    "end\n",
    "function elbo(mcx, mcu)\n",
    "    elbo = 0.\n",
    "\n",
    "    elbo += Iterators.product(1:U, 1:X) .|>\n",
    "    (\n",
    "        ((u,x),) -> log(P1[u,x]*Pe[u,x,hpmm.Y[1]]/(mcx.P1[x] * mcu.P1[u])) * mcx.P1[x] * mcu.P1[u]\n",
    "    ) |>\n",
    "    sum\n",
    "\n",
    "    println(\"Elbo1 \", elbo |> Float64)\n",
    "\n",
    "    elbo2 = 0.\n",
    "    for t in 2:T\n",
    "        elbo2 += Iterators.product(1:U, 1:X, 1:U, 1:X) .|>\n",
    "        (\n",
    "            ((u,x,uprev,xprev),) -> \n",
    "            begin\n",
    "                qtu = VBMC.quuprev(u, uprev, mcx, t, hpmm.Y[t], Pt, Pe)\n",
    "                qtx = VBMC.qxxprev(x, xprev, mcu, t, hpmm.Y[t], Pt, Pe)\n",
    "                log(\n",
    "                    Pt[u,x,uprev,xprev]*Pe[u,x,hpmm.Y[t]]/(qtu * qtx)\n",
    "                ) * mcx.Pt[x,xprev,t] * mcu.Pt[u,uprev,t]\n",
    "            end\n",
    "        ) |>\n",
    "        sum\n",
    "    end\n",
    "    println(\"Elbo2 \", elbo2 |> Float64)\n",
    "    elbo += elbo2\n",
    "    # println(\"elbototal \", elbo |> Float64)\n",
    "    elbo\n",
    "end"
   ]
  },
  {
   "cell_type": "code",
   "execution_count": 5,
   "metadata": {},
   "outputs": [
    {
     "data": {
      "text/plain": [
       "elbo2 (generic function with 1 method)"
      ]
     },
     "execution_count": 5,
     "metadata": {},
     "output_type": "execute_result"
    }
   ],
   "source": [
    "function elbo2(mcx, mcu)\n",
    "    elbo = 0.\n",
    "\n",
    "    elbo += Iterators.product(1:U, 1:X) .|>\n",
    "    (\n",
    "        ((u,x),) -> log(P1[u,x]*Pe[u,x,hpmm.Y[1]]/(mcx.P1[x] * mcu.P1[u])) * mcx.P1[x] * mcu.P1[u]\n",
    "    ) |>\n",
    "    sum\n",
    "\n",
    "    println(\"Elbo 1 \", elbo |> Float64)\n",
    "\n",
    "    elbo2 = 0.\n",
    "    for t in 2:T\n",
    "        elbo2 += Iterators.product(1:U, 1:X, 1:U, 1:X) .|>\n",
    "        (\n",
    "            ((u,x,uprev,xprev),) -> \n",
    "            begin\n",
    "                qtu = VBMC.quuprev(u, uprev, mcx, t, hpmm.Y[t], Pt, Pe)\n",
    "                qtx = VBMC.qxxprev(x, xprev, mcu, t, hpmm.Y[t], Pt, Pe)\n",
    "                log(\n",
    "                    Pt[u,x,uprev,xprev]*Pe[u,x,hpmm.Y[t]]/(qtu * qtx)\n",
    "                ) * mcx.alpha[xprev, t] * qtx * mcx.beta[x, t] * mcu.alpha[uprev, t] * qtu * mcu.beta[u, t]\n",
    "            end\n",
    "        ) |>\n",
    "        sum\n",
    "    end\n",
    "    println(\"Elbo 2 \", elbo2 |> Float64)\n",
    "    elbo += elbo2\n",
    "    # println(\"elbototal \", elbo |> Float64)\n",
    "    elbo\n",
    "end"
   ]
  },
  {
   "cell_type": "code",
   "execution_count": 6,
   "metadata": {},
   "outputs": [
    {
     "name": "stdout",
     "output_type": "stream",
     "text": [
      "elbomanual terms -0.007 0.01 0.0\n",
      "elbomanual 0.002282548278445081\n",
      "elbofunction 0.01550808840596067\n",
      "===\n",
      "elbomanual terms -0.0 0.0 0.0\n",
      "elbomanual 2.8350688199328317e-6\n",
      "elbofunction 2.8733930811314854e-6\n",
      "===\n"
     ]
    }
   ],
   "source": [
    "T = 2\n",
    "\n",
    "mcu = MarkovChain(U, T)\n",
    "mcx = MarkovChain(X, T)\n",
    "\n",
    "function norm(A::AbstractArray; p = 2)\n",
    "    sum(abs.(A) .^ p)^(1 / p)\n",
    "end\n",
    "\n",
    "val = 1.0\n",
    "for _ = 1:2\n",
    "    tmpP1, tmpPt = mcx.P1 |> deepcopy, mcx.Pt |> deepcopy\n",
    "\n",
    "    fillalphaX!(mcx, mcu, P1, Pt, Pe, hpmm.Y)\n",
    "    fillbetaX!(mcx, mcu, Pt, Pe, hpmm.Y)\n",
    "    VBMC.fillPtx!(mcx, mcu, Pt, Pe, hpmm.Y)\n",
    "\n",
    "    fillalphaU!(mcu, mcx, P1, Pt, Pe, hpmm.Y)\n",
    "    fillbetaU!(mcu, mcx, Pt, Pe, hpmm.Y)\n",
    "    VBMC.fillPtu!(mcu, mcx, Pt, Pe, hpmm.Y)\n",
    "\n",
    "    signeda = mcx.Pt .|> Logarithmic\n",
    "    signedb = tmpPt .|> Logarithmic\n",
    "    val = norm(signeda .- signedb)\n",
    "\n",
    "    println(\"elbomanual terms \", round(eng(mcx, mcu), digits=3), \" \", round(VBMC.norm(mcu) * entx(mcx, mcu),digits=3), \" \", round(VBMC.norm(mcx)*entu(mcu, mcx), digits=3))\n",
    "    println(\"elbomanual \", Float64(eng(mcx, mcu) + VBMC.norm(mcu) * entx(mcx,mcu) + VBMC.norm(mcx) * entu(mcu,mcx)))\n",
    "    println(\"elbofunction \", elbo(mcx, mcu) |> Float64)\n",
    "    println(\"===\")\n",
    "    # println(total_elbo(mcu, mcx) |> Float64)\n",
    "    if val < 1.0e-14\n",
    "        break\n",
    "    end\n",
    "end"
   ]
  },
  {
   "cell_type": "code",
   "execution_count": 7,
   "metadata": {},
   "outputs": [
    {
     "name": "stdout",
     "output_type": "stream",
     "text": [
      "Elbo 1 1.923283271415242e-6\n",
      "Elbo 2 1.0201538962417292e-10\n"
     ]
    },
    {
     "data": {
      "text/plain": [
       "1.9233852868048645e-6"
      ]
     },
     "execution_count": 7,
     "metadata": {},
     "output_type": "execute_result"
    }
   ],
   "source": [
    "elbo2(mcx, mcu) |> Float64"
   ]
  },
  {
   "cell_type": "code",
   "execution_count": 39,
   "metadata": {},
   "outputs": [
    {
     "data": {
      "text/plain": [
       "6.644322043954148e-8"
      ]
     },
     "execution_count": 39,
     "metadata": {},
     "output_type": "execute_result"
    }
   ],
   "source": [
    "a = -1.2803196203480313e-8 + 7.51389305709447e-8 * (mcu.P1 |> sum) + 1.0986122880593954 * (mcx.P1 |> sum)\n",
    "a |> Float64"
   ]
  },
  {
   "cell_type": "code",
   "execution_count": null,
   "metadata": {},
   "outputs": [
    {
     "name": "stdout",
     "output_type": "stream",
     "text": [
      "Entropy 1 1.0986122880593954\n",
      "Entropy 2 -9.88751053354595\n"
     ]
    },
    {
     "data": {
      "text/plain": [
       "-exp(2.173489362030741)"
      ]
     },
     "execution_count": 41,
     "metadata": {},
     "output_type": "execute_result"
    }
   ],
   "source": [
    "ent(mcu)"
   ]
  },
  {
   "cell_type": "code",
   "execution_count": null,
   "metadata": {},
   "outputs": [],
   "source": [
    "b = -1.6360277518668169e-9 + 2.1338078139101344e-10 + -9.88751053354595"
   ]
  },
  {
   "cell_type": "code",
   "execution_count": 9,
   "metadata": {},
   "outputs": [
    {
     "data": {
      "text/plain": [
       "exp(-17.09257918624566)"
      ]
     },
     "execution_count": 9,
     "metadata": {},
     "output_type": "execute_result"
    }
   ],
   "source": [
    "VBMC.norm(mcx) |> ULogFloat64 #, sum(mcx.alpha[:, 2] .* mcx.beta[:, 2] .|> Float64), sum(mcx.alpha[:, 1] .* mcx.beta[:, 1] .|> Float64)"
   ]
  },
  {
   "cell_type": "code",
   "execution_count": 11,
   "metadata": {},
   "outputs": [
    {
     "data": {
      "text/plain": [
       "mcnorm (generic function with 1 method)"
      ]
     },
     "execution_count": 11,
     "metadata": {},
     "output_type": "execute_result"
    }
   ],
   "source": [
    "function get_digits(val, base) digits(val, base=base, pad=T) .|> x -> x+1 end\n",
    "\n",
    "function get_qpdf(xs, mc)\n",
    "    total_prob = 1.\n",
    "    for t in 1:T\n",
    "        if t == 1\n",
    "            total_prob *= mc.P1[xs[t]] |> Float64\n",
    "        else\n",
    "            total_prob *= mc.Pt[xs[t],xs[t-1],t]/ (mc.alpha[xs[t-1],t]*mc.beta[xs[t-1],t]) |> Float64\n",
    "        end\n",
    "    end\n",
    "    total_prob\n",
    "end\n",
    "\n",
    "function mcnorm(mc)\n",
    "    summa = 0. \n",
    "    for z in 0:(mc.Z^T-1)\n",
    "        zs = get_digits(z, mc.Z)\n",
    "        total_prob = get_qpdf(zs, mc)\n",
    "        summa += total_prob\n",
    "    end\n",
    "    summa\n",
    "end"
   ]
  },
  {
   "cell_type": "markdown",
   "metadata": {},
   "source": [
    "## energytotal - negenttotal - negenttotal = elbomanual"
   ]
  },
  {
   "cell_type": "code",
   "execution_count": null,
   "metadata": {},
   "outputs": [
    {
     "name": "stdout",
     "output_type": "stream",
     "text": [
      "[1, 1]+exp(-4.46746581556419)\n",
      "[2, 1]+exp(-1.9132886267972715)\n",
      "[1, 2]+exp(-4.683821365046635)\n",
      "[2, 2]+exp(-2.7630895038877474)\n"
     ]
    }
   ],
   "source": [
    "function get_pdf(xs)\n",
    "    total_prob = ULogarithmic(1.)\n",
    "    for t in 1:T\n",
    "        if t == 1\n",
    "            p1 = 0.\n",
    "            for u in 1:U\n",
    "                p1 += P1[u,xs[t]] * Pe[u,xs[t],hpmm.Y[t]]\n",
    "            end\n",
    "            total_prob *= p1\n",
    "        else\n",
    "            pt = 0.\n",
    "            for (u, uprev) in Iterators.product(1:U, 1:U)\n",
    "                pt += Pt[u,xs[t],uprev,xs[t-1]] * Pe[u,xs[t],hpmm.Y[t]]\n",
    "            end\n",
    "            total_prob *= pt\n",
    "        end\n",
    "    end\n",
    "    total_prob\n",
    "end\n",
    "\n",
    "probabilities = zeros(0) .|> ULogFloat64\n",
    "maxprob = ULogFloat64(0.)\n",
    "for x in 0:(X^T-1)\n",
    "    xs = get_digits(x, X)\n",
    "    total_prob = get_pdf(xs)\n",
    "    println(xs, total_prob)\n",
    "    if maxprob < total_prob\n",
    "        maxprob = total_prob\n",
    "    end\n",
    "    append!(probabilities, total_prob)\n",
    "end"
   ]
  }
 ],
 "metadata": {
  "kernelspec": {
   "display_name": "Julia 1.11.2",
   "language": "julia",
   "name": "julia-1.11"
  },
  "language_info": {
   "file_extension": ".jl",
   "mimetype": "application/julia",
   "name": "julia",
   "version": "1.11.2"
  }
 },
 "nbformat": 4,
 "nbformat_minor": 2
}
