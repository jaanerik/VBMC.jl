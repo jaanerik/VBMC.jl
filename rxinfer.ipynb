{
 "cells": [
  {
   "cell_type": "code",
   "execution_count": 1,
   "metadata": {},
   "outputs": [
    {
     "name": "stderr",
     "output_type": "stream",
     "text": [
      "\u001b[36m\u001b[1m[ \u001b[22m\u001b[39m\u001b[36m\u001b[1mInfo: \u001b[22m\u001b[39mPrecompiling VBMC [1064e537-9ee1-43d8-887b-42e480a72de7] (cache misses: include_dependency fsize change (2), mismatched flags (16))\n"
     ]
    }
   ],
   "source": [
    "using RxInfer\n",
    "using GraphViz\n",
    "\n",
    "using Test\n",
    "using TOML\n",
    "using BenchmarkTools\n",
    "using VBMC\n",
    "\n",
    "using Distributions\n",
    "using Random\n",
    "using StatsBase\n",
    "using LogarithmicNumbers\n",
    "\n",
    "Random.seed!(1234)\n",
    "if \"test\" in readdir()\n",
    "    cd(\"test\")\n",
    "end"
   ]
  },
  {
   "cell_type": "code",
   "execution_count": 2,
   "metadata": {},
   "outputs": [
    {
     "data": {
      "text/plain": [
       "TMM([2, 3, 3, 3, 2, 1, 1, 3, 1, 1], [1, 2, 2, 1, 2, 2, 2, 2, 2, 2], Real[0.30310856531062125, 4.005922892438383, 2.416114351269989, 0.43389113275540614, 4.962020376658801, 1.3634312189577709, 2.48076349099979, 2.197399617131897, 3.237766451553191, 0.6280368894524171])"
      ]
     },
     "execution_count": 2,
     "metadata": {},
     "output_type": "execute_result"
    }
   ],
   "source": [
    "vars = TOML.parsefile(\"Constants.toml\")\n",
    "T, U, X, Y = vars[\"T\"], vars[\"U\"], vars[\"X\"], vars[\"Y\"]\n",
    "@test T == 10 && U == 3 && X == 2\n",
    "\n",
    "P1 = begin\n",
    "    Vector(1:U*X) |>\n",
    "    Dirichlet |>\n",
    "    rand |>\n",
    "    (x -> Categorical(x)) |>\n",
    "    (d -> ReshapedCategorical(d, U, X))\n",
    "end\n",
    "\n",
    "#P(·,· | u_prev, x_prev) = Pt[:,:,u_prev,x_prev] sums to 1 for fixed u_prev, x_prev\n",
    "Pt = reshape(rand(Dirichlet(1:U*X), U * X), (U, X, U, X)) |> TransitionDistribution\n",
    "\n",
    "function emissionf(randVal, u, x)\n",
    "    randVal .+ x\n",
    "end\n",
    "function revf(emission, u, x)\n",
    "    emission .- x\n",
    "end #the dot vectorizes, could use X instead\n",
    "emission = Emission(emissionf, revf)\n",
    "\n",
    "Pe = EmissionDistribution{Continuous}(Normal(0, 1), emission, U, X)\n",
    "dist = HpmmDistribution(P1, Pt, Pe)\n",
    "hpmm = rand(dist, T)"
   ]
  },
  {
   "cell_type": "code",
   "execution_count": 3,
   "metadata": {},
   "outputs": [
    {
     "data": {
      "text/plain": [
       "6×6 Matrix{Float64}:\n",
       " 0.0775709  0.134356   0.0167945  0.0435918  0.0179353  0.0169969\n",
       " 0.083756   0.0875991  0.199748   0.149008   0.115934   0.173053\n",
       " 0.0933412  0.255101   0.34729    0.199728   0.144115   0.238636\n",
       " 0.106916   0.0625408  0.0732044  0.193992   0.154473   0.229528\n",
       " 0.248786   0.141594   0.152717   0.213589   0.245022   0.0988651\n",
       " 0.38963    0.318809   0.210245   0.200092   0.322521   0.242921"
      ]
     },
     "execution_count": 3,
     "metadata": {},
     "output_type": "execute_result"
    }
   ],
   "source": [
    "A = reshape(Pt.mat, U*X, U*X)"
   ]
  },
  {
   "cell_type": "code",
   "execution_count": 4,
   "metadata": {},
   "outputs": [],
   "source": [
    "function get_x(w)\n",
    "    VBMC.reshapeindex(w, U, X)[2]\n",
    "end\n",
    "function get_u(w)\n",
    "    VBMC.reshapeindex(w, U, X)[1]\n",
    "end\n",
    "\n",
    "# struct Start{T <: Real} <:  DiscreteMultivariateDistribution\n",
    "#     w :: AbstractArray{T}\n",
    "#     y :: T\n",
    "# end\n",
    "\n",
    "struct MarkovTransition{T <: Real} <: DiscreteMultivariateDistribution\n",
    "    wpast :: AbstractArray{T}\n",
    "    wt :: AbstractArray{T}\n",
    "    y :: T\n",
    "end\n",
    "\n",
    "# @node Start Stochastic [w, y]\n",
    "\n",
    "@node MarkovTransition Stochastic [wt, wpast, y]\n",
    "\n",
    "#rules towards y\n",
    "@rule MarkovTransition(:y, Marginalisation) (q_wpast :: Categorical, q_wt :: Categorical) = PointMass(y)\n",
    "\n",
    "#rules towards w_past\n",
    "@rule MarkovTransition(:wpast, Marginalisation) (q_y :: PointMass, q_wt :: Categorical) = begin\n",
    "    G = q_wt.p\n",
    "    A = Pt.mat\n",
    "    ηs = exp(log(A)' * G)\n",
    "    νs = ηs ./ sum(ηs)\n",
    "    return Categorical(νs...)\n",
    "end\n",
    "\n",
    "#rules towards w_t\n",
    "@rule MarkovTransition(:wt, Marginalisation) (q_y :: PointMass, q_wpast :: Categorical) = begin\n",
    "    F = q_wpast.p\n",
    "    A = Pt.mat\n",
    "    B = 1:length(q_w.p) .|> w -> pdf(Normal(0,1), q_y.point-get_x(w))\n",
    "    ηs = exp.(log.(A) * F) .* B # | clamp(⋅,tiny,one) | exp maybe or smth?\n",
    "    νs = ηs ./ sum(ηs)\n",
    "    return Categorical(νs...)\n",
    "end\n",
    "\n",
    "\n",
    "@marginalrule MarkovTransition(:wt_wpast_y) (q_wt::Categorical, q_wpast::Categorical, q_y::PointMass) = begin\n",
    "    F = q_wpast.p\n",
    "    A = Pt.mat\n",
    "    B = 1:length(q_w.p) .|> w -> pdf(Normal(0,1), q_y.point-get_x(w))\n",
    "    ηs = exp.(log.(A) * F) .* B\n",
    "    \n",
    "    G = q_wt.p\n",
    "    ps = ηs .* G\n",
    "    ps = ps ./ sum(ps)\n",
    "\n",
    "    return (wt = Categorical(ps...), wpast = q_wpast, y = q_y) #leave q_wpast as is?\n",
    "end\n",
    "\n",
    "@average_energy MarkovTransition (q_y::PointMass, q_wpast::Categorical, q_wt::Categorical) = begin\n",
    "    A = Pt.mat\n",
    "    B = 1:length(q_w.p) .|> w -> pdf(Normal(0,1), q_y.point-get_x(w))\n",
    "    G, F = q_wpast.p, q_wt.p\n",
    "\n",
    "    #<E(wt | w_prevt)>_q_prewt,q_wt + <E(y | wt)>_q_y,q_wt\n",
    "    #F' * ln A * G + (ln B)' * F ish\n",
    "    F' * log.(A) * G + log.(B)' * F\n",
    "end"
   ]
  },
  {
   "cell_type": "code",
   "execution_count": 5,
   "metadata": {},
   "outputs": [],
   "source": [
    "using RxInfer\n",
    "B = 1:U*X .|> w -> pdf(Normal(0,1), hpmm.Y[1]-get_x(w))\n",
    "p1 = P1.d.p .* B\n",
    "p1 = p1./sum(p1)\n",
    "p1 = round.(p1,digits=3)\n",
    "\n",
    "@model function hidden_markov_model(y, T)\n",
    "    wpast ~ Categorical(p1)\n",
    "    wt ~ MarkovTransition(wpast, y[2]) \n",
    "    # w[3] ~ MarkovTransition(w[2], y[3]) \n",
    "end\n",
    "\n",
    "@model function hidden_markov_model(y, T)\n",
    "    wpast ~ Categorical(p1)\n",
    "    wt ~ MarkovTransition(wpast) \n",
    "    y[2] ~ EmissionNode(wt)\n",
    "    # w[3] ~ MarkovTransition(w[2], y[3]) \n",
    "end"
   ]
  },
  {
   "cell_type": "code",
   "execution_count": 6,
   "metadata": {},
   "outputs": [
    {
     "ename": "LoadError",
     "evalue": "`MarkovTransition` has `2` input interfaces `(:wpast, :y)`, but `1` arguments provided.",
     "output_type": "error",
     "traceback": [
      "`MarkovTransition` has `2` input interfaces `(:wpast, :y)`, but `1` arguments provided.",
      "",
      "Stacktrace:",
      "  [1] error(s::String)",
      "    @ Base ./error.jl:35",
      "  [2] default_parametrization(backend::RxInfer.ReactiveMPGraphPPLBackend{Static.False}, ::GraphPPL.Atomic, ::Val{(:wpast, :y)}, something::Type, rhs::Tuple{GraphPPL.ProxyLabel{GraphPPL.VariableRef{GraphPPL.Model{MetaGraphsNext.MetaGraph{Int64, Graphs.SimpleGraphs.SimpleGraph{Int64}, GraphPPL.NodeLabel, GraphPPL.NodeData, GraphPPL.EdgeLabel, GraphPPL.Context, MetaGraphsNext.var\"#4#8\", Float64}, GraphPPL.PluginsCollection{Tuple{}}, RxInfer.ReactiveMPGraphPPLBackend{Static.False}, String}, GraphPPL.Context, GraphPPL.NodeCreationOptions{Nothing}, Tuple{Nothing}, Nothing, GraphPPL.NodeLabel}, Nothing, Static.False}})",
      "    @ RxInfer ~/.julia/packages/RxInfer/dt0ny/src/model/graphppl.jl:220",
      "  [3] default_parametrization(backend::RxInfer.ReactiveMPGraphPPLBackend{Static.False}, nodetype::GraphPPL.Atomic, something::Type{MarkovTransition}, rhs::Tuple{GraphPPL.ProxyLabel{GraphPPL.VariableRef{GraphPPL.Model{MetaGraphsNext.MetaGraph{Int64, Graphs.SimpleGraphs.SimpleGraph{Int64}, GraphPPL.NodeLabel, GraphPPL.NodeData, GraphPPL.EdgeLabel, GraphPPL.Context, MetaGraphsNext.var\"#4#8\", Float64}, GraphPPL.PluginsCollection{Tuple{}}, RxInfer.ReactiveMPGraphPPLBackend{Static.False}, String}, GraphPPL.Context, GraphPPL.NodeCreationOptions{Nothing}, Tuple{Nothing}, Nothing, GraphPPL.NodeLabel}, Nothing, Static.False}})",
      "    @ RxInfer ~/.julia/packages/RxInfer/dt0ny/src/model/graphppl.jl:214",
      "  [4] default_parametrization(model::GraphPPL.Model{MetaGraphsNext.MetaGraph{Int64, Graphs.SimpleGraphs.SimpleGraph{Int64}, GraphPPL.NodeLabel, GraphPPL.NodeData, GraphPPL.EdgeLabel, GraphPPL.Context, MetaGraphsNext.var\"#4#8\", Float64}, GraphPPL.PluginsCollection{Tuple{}}, RxInfer.ReactiveMPGraphPPLBackend{Static.False}, String}, nodetype::GraphPPL.Atomic, fform::Type{MarkovTransition}, rhs::Tuple{GraphPPL.ProxyLabel{GraphPPL.VariableRef{GraphPPL.Model{MetaGraphsNext.MetaGraph{Int64, Graphs.SimpleGraphs.SimpleGraph{Int64}, GraphPPL.NodeLabel, GraphPPL.NodeData, GraphPPL.EdgeLabel, GraphPPL.Context, MetaGraphsNext.var\"#4#8\", Float64}, GraphPPL.PluginsCollection{Tuple{}}, RxInfer.ReactiveMPGraphPPLBackend{Static.False}, String}, GraphPPL.Context, GraphPPL.NodeCreationOptions{Nothing}, Tuple{Nothing}, Nothing, GraphPPL.NodeLabel}, Nothing, Static.False}})",
      "    @ GraphPPL ~/.julia/packages/GraphPPL/xPNyo/src/graph_engine.jl:1867",
      "  [5] make_node!(materialize::Static.True, node_type::GraphPPL.Atomic, behaviour::GraphPPL.Stochastic, model::GraphPPL.Model{MetaGraphsNext.MetaGraph{Int64, Graphs.SimpleGraphs.SimpleGraph{Int64}, GraphPPL.NodeLabel, GraphPPL.NodeData, GraphPPL.EdgeLabel, GraphPPL.Context, MetaGraphsNext.var\"#4#8\", Float64}, GraphPPL.PluginsCollection{Tuple{}}, RxInfer.ReactiveMPGraphPPLBackend{Static.False}, String}, ctx::GraphPPL.Context, options::GraphPPL.NodeCreationOptions{@NamedTuple{created_by::var\"#65#70\"}}, fform::Type{MarkovTransition}, lhs_interface::GraphPPL.ProxyLabel{GraphPPL.VariableRef{GraphPPL.Model{MetaGraphsNext.MetaGraph{Int64, Graphs.SimpleGraphs.SimpleGraph{Int64}, GraphPPL.NodeLabel, GraphPPL.NodeData, GraphPPL.EdgeLabel, GraphPPL.Context, MetaGraphsNext.var\"#4#8\", Float64}, GraphPPL.PluginsCollection{Tuple{}}, RxInfer.ReactiveMPGraphPPLBackend{Static.False}, String}, GraphPPL.Context, GraphPPL.NodeCreationOptions{Nothing}, Tuple{Nothing}, Nothing, GraphPPL.NodeLabel}, Nothing, Static.True}, rhs_interfaces::Tuple{GraphPPL.ProxyLabel{GraphPPL.VariableRef{GraphPPL.Model{MetaGraphsNext.MetaGraph{Int64, Graphs.SimpleGraphs.SimpleGraph{Int64}, GraphPPL.NodeLabel, GraphPPL.NodeData, GraphPPL.EdgeLabel, GraphPPL.Context, MetaGraphsNext.var\"#4#8\", Float64}, GraphPPL.PluginsCollection{Tuple{}}, RxInfer.ReactiveMPGraphPPLBackend{Static.False}, String}, GraphPPL.Context, GraphPPL.NodeCreationOptions{Nothing}, Tuple{Nothing}, Nothing, GraphPPL.NodeLabel}, Nothing, Static.False}})",
      "    @ GraphPPL ~/.julia/packages/GraphPPL/xPNyo/src/graph_engine.jl:1991",
      "  [6] make_node!(::GraphPPL.Atomic, ::GraphPPL.Stochastic, model::GraphPPL.Model{MetaGraphsNext.MetaGraph{Int64, Graphs.SimpleGraphs.SimpleGraph{Int64}, GraphPPL.NodeLabel, GraphPPL.NodeData, GraphPPL.EdgeLabel, GraphPPL.Context, MetaGraphsNext.var\"#4#8\", Float64}, GraphPPL.PluginsCollection{Tuple{}}, RxInfer.ReactiveMPGraphPPLBackend{Static.False}, String}, ctx::GraphPPL.Context, options::GraphPPL.NodeCreationOptions{@NamedTuple{created_by::var\"#65#70\"}}, fform::Type{MarkovTransition}, lhs_interface::GraphPPL.ProxyLabel{GraphPPL.VariableRef{GraphPPL.Model{MetaGraphsNext.MetaGraph{Int64, Graphs.SimpleGraphs.SimpleGraph{Int64}, GraphPPL.NodeLabel, GraphPPL.NodeData, GraphPPL.EdgeLabel, GraphPPL.Context, MetaGraphsNext.var\"#4#8\", Float64}, GraphPPL.PluginsCollection{Tuple{}}, RxInfer.ReactiveMPGraphPPLBackend{Static.False}, String}, GraphPPL.Context, GraphPPL.NodeCreationOptions{Nothing}, Tuple{Nothing}, Nothing, GraphPPL.NodeLabel}, Nothing, Static.True}, rhs_interfaces::Tuple{GraphPPL.ProxyLabel{GraphPPL.VariableRef{GraphPPL.Model{MetaGraphsNext.MetaGraph{Int64, Graphs.SimpleGraphs.SimpleGraph{Int64}, GraphPPL.NodeLabel, GraphPPL.NodeData, GraphPPL.EdgeLabel, GraphPPL.Context, MetaGraphsNext.var\"#4#8\", Float64}, GraphPPL.PluginsCollection{Tuple{}}, RxInfer.ReactiveMPGraphPPLBackend{Static.False}, String}, GraphPPL.Context, GraphPPL.NodeCreationOptions{Nothing}, Tuple{Nothing}, Nothing, GraphPPL.NodeLabel}, Nothing, Static.False}})",
      "    @ GraphPPL ~/.julia/packages/GraphPPL/xPNyo/src/graph_engine.jl:1965",
      "  [7] make_node!(::GraphPPL.Atomic, model::GraphPPL.Model{MetaGraphsNext.MetaGraph{Int64, Graphs.SimpleGraphs.SimpleGraph{Int64}, GraphPPL.NodeLabel, GraphPPL.NodeData, GraphPPL.EdgeLabel, GraphPPL.Context, MetaGraphsNext.var\"#4#8\", Float64}, GraphPPL.PluginsCollection{Tuple{}}, RxInfer.ReactiveMPGraphPPLBackend{Static.False}, String}, ctx::GraphPPL.Context, options::GraphPPL.NodeCreationOptions{@NamedTuple{created_by::var\"#65#70\"}}, fform::Type{MarkovTransition}, lhs_interface::GraphPPL.ProxyLabel{GraphPPL.VariableRef{GraphPPL.Model{MetaGraphsNext.MetaGraph{Int64, Graphs.SimpleGraphs.SimpleGraph{Int64}, GraphPPL.NodeLabel, GraphPPL.NodeData, GraphPPL.EdgeLabel, GraphPPL.Context, MetaGraphsNext.var\"#4#8\", Float64}, GraphPPL.PluginsCollection{Tuple{}}, RxInfer.ReactiveMPGraphPPLBackend{Static.False}, String}, GraphPPL.Context, GraphPPL.NodeCreationOptions{Nothing}, Tuple{Nothing}, Nothing, GraphPPL.NodeLabel}, Nothing, Static.True}, rhs_interfaces::Tuple{GraphPPL.ProxyLabel{GraphPPL.VariableRef{GraphPPL.Model{MetaGraphsNext.MetaGraph{Int64, Graphs.SimpleGraphs.SimpleGraph{Int64}, GraphPPL.NodeLabel, GraphPPL.NodeData, GraphPPL.EdgeLabel, GraphPPL.Context, MetaGraphsNext.var\"#4#8\", Float64}, GraphPPL.PluginsCollection{Tuple{}}, RxInfer.ReactiveMPGraphPPLBackend{Static.False}, String}, GraphPPL.Context, GraphPPL.NodeCreationOptions{Nothing}, Tuple{Nothing}, Nothing, GraphPPL.NodeLabel}, Nothing, Static.False}})",
      "    @ GraphPPL ~/.julia/packages/GraphPPL/xPNyo/src/graph_engine.jl:1916",
      "  [8] make_node!(model::GraphPPL.Model{MetaGraphsNext.MetaGraph{Int64, Graphs.SimpleGraphs.SimpleGraph{Int64}, GraphPPL.NodeLabel, GraphPPL.NodeData, GraphPPL.EdgeLabel, GraphPPL.Context, MetaGraphsNext.var\"#4#8\", Float64}, GraphPPL.PluginsCollection{Tuple{}}, RxInfer.ReactiveMPGraphPPLBackend{Static.False}, String}, ctx::GraphPPL.Context, options::GraphPPL.NodeCreationOptions{@NamedTuple{created_by::var\"#65#70\"}}, fform::Type{MarkovTransition}, lhs_interface::GraphPPL.ProxyLabel{GraphPPL.VariableRef{GraphPPL.Model{MetaGraphsNext.MetaGraph{Int64, Graphs.SimpleGraphs.SimpleGraph{Int64}, GraphPPL.NodeLabel, GraphPPL.NodeData, GraphPPL.EdgeLabel, GraphPPL.Context, MetaGraphsNext.var\"#4#8\", Float64}, GraphPPL.PluginsCollection{Tuple{}}, RxInfer.ReactiveMPGraphPPLBackend{Static.False}, String}, GraphPPL.Context, GraphPPL.NodeCreationOptions{Nothing}, Tuple{Nothing}, Nothing, GraphPPL.NodeLabel}, Nothing, Static.True}, rhs_interfaces::Tuple{GraphPPL.ProxyLabel{GraphPPL.VariableRef{GraphPPL.Model{MetaGraphsNext.MetaGraph{Int64, Graphs.SimpleGraphs.SimpleGraph{Int64}, GraphPPL.NodeLabel, GraphPPL.NodeData, GraphPPL.EdgeLabel, GraphPPL.Context, MetaGraphsNext.var\"#4#8\", Float64}, GraphPPL.PluginsCollection{Tuple{}}, RxInfer.ReactiveMPGraphPPLBackend{Static.False}, String}, GraphPPL.Context, GraphPPL.NodeCreationOptions{Nothing}, Tuple{Nothing}, Nothing, GraphPPL.NodeLabel}, Nothing, Static.False}})",
      "    @ GraphPPL ~/.julia/packages/GraphPPL/xPNyo/src/graph_engine.jl:1902",
      "  [9] macro expansion",
      "    @ ~/.julia/packages/GraphPPL/xPNyo/src/model_macro.jl:557 [inlined]",
      " [10] macro expansion",
      "    @ ./In[5]:15 [inlined]",
      " [11] add_terminated_submodel!(__model__::GraphPPL.Model{MetaGraphsNext.MetaGraph{Int64, Graphs.SimpleGraphs.SimpleGraph{Int64}, GraphPPL.NodeLabel, GraphPPL.NodeData, GraphPPL.EdgeLabel, GraphPPL.Context, MetaGraphsNext.var\"#4#8\", Float64}, GraphPPL.PluginsCollection{Tuple{}}, RxInfer.ReactiveMPGraphPPLBackend{Static.False}, String}, __context__::GraphPPL.Context, __options__::GraphPPL.NodeCreationOptions{@NamedTuple{created_by::GraphPPL.var\"#95#96\"}}, ::typeof(hidden_markov_model), __interfaces__::@NamedTuple{y::GraphPPL.ProxyLabel{GraphPPL.VariableRef{GraphPPL.Model{MetaGraphsNext.MetaGraph{Int64, Graphs.SimpleGraphs.SimpleGraph{Int64}, GraphPPL.NodeLabel, GraphPPL.NodeData, GraphPPL.EdgeLabel, GraphPPL.Context, MetaGraphsNext.var\"#4#8\", Float64}, GraphPPL.PluginsCollection{Tuple{}}, RxInfer.ReactiveMPGraphPPLBackend{Static.False}, String}, GraphPPL.Context, GraphPPL.NodeCreationOptions{@NamedTuple{kind::Symbol, factorized::Bool}}, Tuple{Nothing}, Vector{Real}, Nothing}, Nothing, Static.True}, T::GraphPPL.ProxyLabel{GraphPPL.VariableRef{GraphPPL.Model{MetaGraphsNext.MetaGraph{Int64, Graphs.SimpleGraphs.SimpleGraph{Int64}, GraphPPL.NodeLabel, GraphPPL.NodeData, GraphPPL.EdgeLabel, GraphPPL.Context, MetaGraphsNext.var\"#4#8\", Float64}, GraphPPL.PluginsCollection{Tuple{}}, RxInfer.ReactiveMPGraphPPLBackend{Static.False}, String}, GraphPPL.Context, GraphPPL.NodeCreationOptions{@NamedTuple{kind::Symbol, factorized::Bool}}, Tuple{Nothing}, Int64, Nothing}, Nothing, Static.True}}, ::Static.StaticInt{2})",
      "    @ Main ~/.julia/packages/GraphPPL/xPNyo/src/model_macro.jl:742",
      " [12] add_terminated_submodel!(model::GraphPPL.Model{MetaGraphsNext.MetaGraph{Int64, Graphs.SimpleGraphs.SimpleGraph{Int64}, GraphPPL.NodeLabel, GraphPPL.NodeData, GraphPPL.EdgeLabel, GraphPPL.Context, MetaGraphsNext.var\"#4#8\", Float64}, GraphPPL.PluginsCollection{Tuple{}}, RxInfer.ReactiveMPGraphPPLBackend{Static.False}, String}, context::GraphPPL.Context, options::GraphPPL.NodeCreationOptions{@NamedTuple{created_by::GraphPPL.var\"#95#96\"}}, fform::Function, interfaces::@NamedTuple{y::GraphPPL.ProxyLabel{GraphPPL.VariableRef{GraphPPL.Model{MetaGraphsNext.MetaGraph{Int64, Graphs.SimpleGraphs.SimpleGraph{Int64}, GraphPPL.NodeLabel, GraphPPL.NodeData, GraphPPL.EdgeLabel, GraphPPL.Context, MetaGraphsNext.var\"#4#8\", Float64}, GraphPPL.PluginsCollection{Tuple{}}, RxInfer.ReactiveMPGraphPPLBackend{Static.False}, String}, GraphPPL.Context, GraphPPL.NodeCreationOptions{@NamedTuple{kind::Symbol, factorized::Bool}}, Tuple{Nothing}, Vector{Real}, Nothing}, Nothing, Static.True}, T::GraphPPL.ProxyLabel{GraphPPL.VariableRef{GraphPPL.Model{MetaGraphsNext.MetaGraph{Int64, Graphs.SimpleGraphs.SimpleGraph{Int64}, GraphPPL.NodeLabel, GraphPPL.NodeData, GraphPPL.EdgeLabel, GraphPPL.Context, MetaGraphsNext.var\"#4#8\", Float64}, GraphPPL.PluginsCollection{Tuple{}}, RxInfer.ReactiveMPGraphPPLBackend{Static.False}, String}, GraphPPL.Context, GraphPPL.NodeCreationOptions{@NamedTuple{kind::Symbol, factorized::Bool}}, Tuple{Nothing}, Int64, Nothing}, Nothing, Static.True}})",
      "    @ GraphPPL ~/.julia/packages/GraphPPL/xPNyo/src/graph_engine.jl:2118",
      " [13] add_terminated_submodel!(model::GraphPPL.Model{MetaGraphsNext.MetaGraph{Int64, Graphs.SimpleGraphs.SimpleGraph{Int64}, GraphPPL.NodeLabel, GraphPPL.NodeData, GraphPPL.EdgeLabel, GraphPPL.Context, MetaGraphsNext.var\"#4#8\", Float64}, GraphPPL.PluginsCollection{Tuple{}}, RxInfer.ReactiveMPGraphPPLBackend{Static.False}, String}, context::GraphPPL.Context, fform::Function, interfaces::@NamedTuple{y::GraphPPL.ProxyLabel{GraphPPL.VariableRef{GraphPPL.Model{MetaGraphsNext.MetaGraph{Int64, Graphs.SimpleGraphs.SimpleGraph{Int64}, GraphPPL.NodeLabel, GraphPPL.NodeData, GraphPPL.EdgeLabel, GraphPPL.Context, MetaGraphsNext.var\"#4#8\", Float64}, GraphPPL.PluginsCollection{Tuple{}}, RxInfer.ReactiveMPGraphPPLBackend{Static.False}, String}, GraphPPL.Context, GraphPPL.NodeCreationOptions{@NamedTuple{kind::Symbol, factorized::Bool}}, Tuple{Nothing}, Vector{Real}, Nothing}, Nothing, Static.True}, T::GraphPPL.ProxyLabel{GraphPPL.VariableRef{GraphPPL.Model{MetaGraphsNext.MetaGraph{Int64, Graphs.SimpleGraphs.SimpleGraph{Int64}, GraphPPL.NodeLabel, GraphPPL.NodeData, GraphPPL.EdgeLabel, GraphPPL.Context, MetaGraphsNext.var\"#4#8\", Float64}, GraphPPL.PluginsCollection{Tuple{}}, RxInfer.ReactiveMPGraphPPLBackend{Static.False}, String}, GraphPPL.Context, GraphPPL.NodeCreationOptions{@NamedTuple{kind::Symbol, factorized::Bool}}, Tuple{Nothing}, Int64, Nothing}, Nothing, Static.True}})",
      "    @ GraphPPL ~/.julia/packages/GraphPPL/xPNyo/src/graph_engine.jl:2114",
      " [14] add_toplevel_model!(model::GraphPPL.Model{MetaGraphsNext.MetaGraph{Int64, Graphs.SimpleGraphs.SimpleGraph{Int64}, GraphPPL.NodeLabel, GraphPPL.NodeData, GraphPPL.EdgeLabel, GraphPPL.Context, MetaGraphsNext.var\"#4#8\", Float64}, GraphPPL.PluginsCollection{Tuple{}}, RxInfer.ReactiveMPGraphPPLBackend{Static.False}, String}, context::GraphPPL.Context, fform::Function, interfaces::@NamedTuple{y::GraphPPL.ProxyLabel{GraphPPL.VariableRef{GraphPPL.Model{MetaGraphsNext.MetaGraph{Int64, Graphs.SimpleGraphs.SimpleGraph{Int64}, GraphPPL.NodeLabel, GraphPPL.NodeData, GraphPPL.EdgeLabel, GraphPPL.Context, MetaGraphsNext.var\"#4#8\", Float64}, GraphPPL.PluginsCollection{Tuple{}}, RxInfer.ReactiveMPGraphPPLBackend{Static.False}, String}, GraphPPL.Context, GraphPPL.NodeCreationOptions{@NamedTuple{kind::Symbol, factorized::Bool}}, Tuple{Nothing}, Vector{Real}, Nothing}, Nothing, Static.True}, T::GraphPPL.ProxyLabel{GraphPPL.VariableRef{GraphPPL.Model{MetaGraphsNext.MetaGraph{Int64, Graphs.SimpleGraphs.SimpleGraph{Int64}, GraphPPL.NodeLabel, GraphPPL.NodeData, GraphPPL.EdgeLabel, GraphPPL.Context, MetaGraphsNext.var\"#4#8\", Float64}, GraphPPL.PluginsCollection{Tuple{}}, RxInfer.ReactiveMPGraphPPLBackend{Static.False}, String}, GraphPPL.Context, GraphPPL.NodeCreationOptions{@NamedTuple{kind::Symbol, factorized::Bool}}, Tuple{Nothing}, Int64, Nothing}, Nothing, Static.True}})",
      "    @ GraphPPL ~/.julia/packages/GraphPPL/xPNyo/src/graph_engine.jl:2134",
      " [15] create_model(callback::RxInfer.var\"#53#55\"{@NamedTuple{y::Vector{Real}, T::Int64}}, generator::GraphPPL.ModelGenerator{typeof(hidden_markov_model), @Kwargs{}, GraphPPL.PluginsCollection{Tuple{}}, RxInfer.ReactiveMPGraphPPLBackend{Static.False}, String})",
      "    @ GraphPPL ~/.julia/packages/GraphPPL/xPNyo/src/model_generator.jl:159",
      " [16] __infer_create_factor_graph_model(generator::GraphPPL.ModelGenerator{typeof(hidden_markov_model), @Kwargs{}, GraphPPL.PluginsCollection{Tuple{}}, RxInfer.ReactiveMPGraphPPLBackend{Static.False}, String}, conditioned_on::@NamedTuple{y::Vector{Real}, T::Int64})",
      "    @ RxInfer ~/.julia/packages/RxInfer/dt0ny/src/model/model.jl:140",
      " [17] create_model(generator::RxInfer.ConditionedModelGenerator{GraphPPL.ModelGenerator{typeof(hidden_markov_model), @Kwargs{}, GraphPPL.PluginsCollection{Tuple{}}, RxInfer.ReactiveMPGraphPPLBackend{Static.False}, String}, @NamedTuple{y::Vector{Real}, T::Int64}})",
      "    @ RxInfer ~/.julia/packages/RxInfer/dt0ny/src/model/model.jl:128",
      " [18] top-level scope",
      "    @ In[6]:2"
     ]
    }
   ],
   "source": [
    "model_generator = hidden_markov_model() | (y = hpmm.Y[1:2], T = 2)\n",
    "model_to_plot = RxInfer.getmodel(RxInfer.create_model(model_generator))\n",
    "GraphViz.load(model_to_plot, strategy = :simple, layout=\"dot\", width=5.,height=5.)"
   ]
  },
  {
   "cell_type": "code",
   "execution_count": 16,
   "metadata": {},
   "outputs": [
    {
     "data": {
      "text/plain": [
       "GraphPPL.Model{MetaGraphsNext.MetaGraph{Int64, Graphs.SimpleGraphs.SimpleGraph{Int64}, GraphPPL.NodeLabel, GraphPPL.NodeData, GraphPPL.EdgeLabel, GraphPPL.Context, MetaGraphsNext.var\"#4#8\", Float64}, GraphPPL.PluginsCollection{Tuple{}}, RxInfer.ReactiveMPGraphPPLBackend{Static.False}, String}(Meta graph based on a Graphs.SimpleGraphs.SimpleGraph{Int64} with vertex labels of type GraphPPL.NodeLabel, vertex metadata of type GraphPPL.NodeData, edge metadata of type GraphPPL.EdgeLabel, graph metadata given by GraphPPL.Context(0, Main.hidden_markov_model, \"\", nothing, {Categorical{P} where P<:Real = 1, MarkovTransition = 1}, {}, {(Categorical{P} where P<:Real, 1) = Categorical{P} where P<:Real_3, (MarkovTransition, 1) = MarkovTransition_6}, {:wt = wt_4, :wpast = wpast_1, :constvar_2 = constvar_2}, {:y = ResizableArray{GraphPPL.NodeLabel,1}(GraphPPL.NodeLabel[#undef, y_5])}, {}, {}, Base.RefValue{Any}(wt_4)), and default weight 1.0, GraphPPL.PluginsCollection{Tuple{}}(()), RxInfer.ReactiveMPGraphPPLBackend{Static.False}(static(false)), \"function hidden_markov_model(y, T)\\n    wpast ~ Categorical(p1)\\n    wt ~ MarkovTransition(wpast, y[2])\\nend\", Base.RefValue{Int64}(6))"
      ]
     },
     "execution_count": 16,
     "metadata": {},
     "output_type": "execute_result"
    }
   ],
   "source": [
    "model_to_plot"
   ]
  },
  {
   "cell_type": "code",
   "execution_count": 17,
   "metadata": {},
   "outputs": [
    {
     "data": {
      "text/plain": [
       "Base.Iterators.Filter{GraphPPL.var\"#40#41\"{GraphPPL.Model{MetaGraphsNext.MetaGraph{Int64, Graphs.SimpleGraphs.SimpleGraph{Int64}, GraphPPL.NodeLabel, GraphPPL.NodeData, GraphPPL.EdgeLabel, GraphPPL.Context, MetaGraphsNext.var\"#4#8\", Float64}, GraphPPL.PluginsCollection{Tuple{}}, RxInfer.ReactiveMPGraphPPLBackend{Static.False}, String}}, Base.Generator{Base.OneTo{Int64}, MetaGraphsNext.var\"#20#21\"{MetaGraphsNext.MetaGraph{Int64, Graphs.SimpleGraphs.SimpleGraph{Int64}, GraphPPL.NodeLabel, GraphPPL.NodeData, GraphPPL.EdgeLabel, GraphPPL.Context, MetaGraphsNext.var\"#4#8\", Float64}}}}(GraphPPL.var\"#40#41\"{GraphPPL.Model{MetaGraphsNext.MetaGraph{Int64, Graphs.SimpleGraphs.SimpleGraph{Int64}, GraphPPL.NodeLabel, GraphPPL.NodeData, GraphPPL.EdgeLabel, GraphPPL.Context, MetaGraphsNext.var\"#4#8\", Float64}, GraphPPL.PluginsCollection{Tuple{}}, RxInfer.ReactiveMPGraphPPLBackend{Static.False}, String}}(GraphPPL.Model{MetaGraphsNext.MetaGraph{Int64, Graphs.SimpleGraphs.SimpleGraph{Int64}, GraphPPL.NodeLabel, GraphPPL.NodeData, GraphPPL.EdgeLabel, GraphPPL.Context, MetaGraphsNext.var\"#4#8\", Float64}, GraphPPL.PluginsCollection{Tuple{}}, RxInfer.ReactiveMPGraphPPLBackend{Static.False}, String}(Meta graph based on a Graphs.SimpleGraphs.SimpleGraph{Int64} with vertex labels of type GraphPPL.NodeLabel, vertex metadata of type GraphPPL.NodeData, edge metadata of type GraphPPL.EdgeLabel, graph metadata given by GraphPPL.Context(0, Main.hidden_markov_model, \"\", nothing, {Categorical{P} where P<:Real = 1, MarkovTransition = 1}, {}, {(Categorical{P} where P<:Real, 1) = Categorical{P} where P<:Real_3, (MarkovTransition, 1) = MarkovTransition_6}, {:wt = wt_4, :wpast = wpast_1, :constvar_2 = constvar_2}, {:y = ResizableArray{GraphPPL.NodeLabel,1}(GraphPPL.NodeLabel[#undef, y_5])}, {}, {}, Base.RefValue{Any}(wt_4)), and default weight 1.0, GraphPPL.PluginsCollection{Tuple{}}(()), RxInfer.ReactiveMPGraphPPLBackend{Static.False}(static(false)), \"function hidden_markov_model(y, T)\\n    wpast ~ Categorical(p1)\\n    wt ~ MarkovTransition(wpast, y[2])\\nend\", Base.RefValue{Int64}(6))), Base.Generator{Base.OneTo{Int64}, MetaGraphsNext.var\"#20#21\"{MetaGraphsNext.MetaGraph{Int64, Graphs.SimpleGraphs.SimpleGraph{Int64}, GraphPPL.NodeLabel, GraphPPL.NodeData, GraphPPL.EdgeLabel, GraphPPL.Context, MetaGraphsNext.var\"#4#8\", Float64}}}(MetaGraphsNext.var\"#20#21\"{MetaGraphsNext.MetaGraph{Int64, Graphs.SimpleGraphs.SimpleGraph{Int64}, GraphPPL.NodeLabel, GraphPPL.NodeData, GraphPPL.EdgeLabel, GraphPPL.Context, MetaGraphsNext.var\"#4#8\", Float64}}(Meta graph based on a Graphs.SimpleGraphs.SimpleGraph{Int64} with vertex labels of type GraphPPL.NodeLabel, vertex metadata of type GraphPPL.NodeData, edge metadata of type GraphPPL.EdgeLabel, graph metadata given by GraphPPL.Context(0, Main.hidden_markov_model, \"\", nothing, {Categorical{P} where P<:Real = 1, MarkovTransition = 1}, {}, {(Categorical{P} where P<:Real, 1) = Categorical{P} where P<:Real_3, (MarkovTransition, 1) = MarkovTransition_6}, {:wt = wt_4, :wpast = wpast_1, :constvar_2 = constvar_2}, {:y = ResizableArray{GraphPPL.NodeLabel,1}(GraphPPL.NodeLabel[#undef, y_5])}, {}, {}, Base.RefValue{Any}(wt_4)), and default weight 1.0), Base.OneTo(6)))"
      ]
     },
     "execution_count": 17,
     "metadata": {},
     "output_type": "execute_result"
    }
   ],
   "source": [
    "GraphPPL.variable_nodes(model_to_plot)"
   ]
  },
  {
   "cell_type": "code",
   "execution_count": 13,
   "metadata": {},
   "outputs": [
    {
     "ename": "LoadError",
     "evalue": "Half-edge has been found: wt_4. To terminate half-edges 'Uninformative' node can be used.",
     "output_type": "error",
     "traceback": [
      "Half-edge has been found: wt_4. To terminate half-edges 'Uninformative' node can be used.",
      "",
      "Stacktrace:",
      "  [1] error(s::LazyString)",
      "    @ Base ./error.jl:35",
      "  [2] (::RxInfer.var\"#61#65\"{RxInfer.ReactiveMPInferencePlugin{RxInfer.ReactiveMPInferenceOptions{RxInfer.LimitStackScheduler, Nothing, Nothing}}, GraphPPL.Model{MetaGraphsNext.MetaGraph{Int64, Graphs.SimpleGraphs.SimpleGraph{Int64}, GraphPPL.NodeLabel, GraphPPL.NodeData, GraphPPL.EdgeLabel, GraphPPL.Context, MetaGraphsNext.var\"#4#8\", Float64}, GraphPPL.PluginsCollection{Tuple{GraphPPL.VariationalConstraintsPlugin{GraphPPL.NoConstraints}, GraphPPL.MetaPlugin{GraphPPL.MetaSpecification}, RxInfer.InitializationPlugin{RxInfer.NoInit}, RxInfer.ReactiveMPInferencePlugin{RxInfer.ReactiveMPInferenceOptions{RxInfer.LimitStackScheduler, Nothing, Nothing}}, RxInfer.ReactiveMPFreeEnergyPlugin{RxInfer.BetheFreeEnergy{Real, SkipInitial, AsapScheduler}}}}, RxInfer.ReactiveMPGraphPPLBackend{Static.False}, String}})(label::GraphPPL.NodeLabel, variable::GraphPPL.NodeData)",
      "    @ RxInfer ~/.julia/packages/RxInfer/dt0ny/src/model/plugins/reactivemp_inference.jl:120",
      "  [3] variable_nodes(callback::RxInfer.var\"#61#65\"{RxInfer.ReactiveMPInferencePlugin{RxInfer.ReactiveMPInferenceOptions{RxInfer.LimitStackScheduler, Nothing, Nothing}}, GraphPPL.Model{MetaGraphsNext.MetaGraph{Int64, Graphs.SimpleGraphs.SimpleGraph{Int64}, GraphPPL.NodeLabel, GraphPPL.NodeData, GraphPPL.EdgeLabel, GraphPPL.Context, MetaGraphsNext.var\"#4#8\", Float64}, GraphPPL.PluginsCollection{Tuple{GraphPPL.VariationalConstraintsPlugin{GraphPPL.NoConstraints}, GraphPPL.MetaPlugin{GraphPPL.MetaSpecification}, RxInfer.InitializationPlugin{RxInfer.NoInit}, RxInfer.ReactiveMPInferencePlugin{RxInfer.ReactiveMPInferenceOptions{RxInfer.LimitStackScheduler, Nothing, Nothing}}, RxInfer.ReactiveMPFreeEnergyPlugin{RxInfer.BetheFreeEnergy{Real, SkipInitial, AsapScheduler}}}}, RxInfer.ReactiveMPGraphPPLBackend{Static.False}, String}}, model::GraphPPL.Model{MetaGraphsNext.MetaGraph{Int64, Graphs.SimpleGraphs.SimpleGraph{Int64}, GraphPPL.NodeLabel, GraphPPL.NodeData, GraphPPL.EdgeLabel, GraphPPL.Context, MetaGraphsNext.var\"#4#8\", Float64}, GraphPPL.PluginsCollection{Tuple{GraphPPL.VariationalConstraintsPlugin{GraphPPL.NoConstraints}, GraphPPL.MetaPlugin{GraphPPL.MetaSpecification}, RxInfer.InitializationPlugin{RxInfer.NoInit}, RxInfer.ReactiveMPInferencePlugin{RxInfer.ReactiveMPInferenceOptions{RxInfer.LimitStackScheduler, Nothing, Nothing}}, RxInfer.ReactiveMPFreeEnergyPlugin{RxInfer.BetheFreeEnergy{Real, SkipInitial, AsapScheduler}}}}, RxInfer.ReactiveMPGraphPPLBackend{Static.False}, String})",
      "    @ GraphPPL ~/.julia/packages/GraphPPL/xPNyo/src/graph_engine.jl:878",
      "  [4] postprocess_plugin",
      "    @ ~/.julia/packages/RxInfer/dt0ny/src/model/plugins/reactivemp_inference.jl:114 [inlined]",
      "  [5] (::GraphPPL.var\"#97#98\"{GraphPPL.Model{MetaGraphsNext.MetaGraph{Int64, Graphs.SimpleGraphs.SimpleGraph{Int64}, GraphPPL.NodeLabel, GraphPPL.NodeData, GraphPPL.EdgeLabel, GraphPPL.Context, MetaGraphsNext.var\"#4#8\", Float64}, GraphPPL.PluginsCollection{Tuple{GraphPPL.VariationalConstraintsPlugin{GraphPPL.NoConstraints}, GraphPPL.MetaPlugin{GraphPPL.MetaSpecification}, RxInfer.InitializationPlugin{RxInfer.NoInit}, RxInfer.ReactiveMPInferencePlugin{RxInfer.ReactiveMPInferenceOptions{RxInfer.LimitStackScheduler, Nothing, Nothing}}, RxInfer.ReactiveMPFreeEnergyPlugin{RxInfer.BetheFreeEnergy{Real, SkipInitial, AsapScheduler}}}}, RxInfer.ReactiveMPGraphPPLBackend{Static.False}, String}})(plugin::RxInfer.ReactiveMPInferencePlugin{RxInfer.ReactiveMPInferenceOptions{RxInfer.LimitStackScheduler, Nothing, Nothing}})",
      "    @ GraphPPL ~/.julia/packages/GraphPPL/xPNyo/src/graph_engine.jl:2136",
      "  [6] foreach(f::GraphPPL.var\"#97#98\"{GraphPPL.Model{MetaGraphsNext.MetaGraph{Int64, Graphs.SimpleGraphs.SimpleGraph{Int64}, GraphPPL.NodeLabel, GraphPPL.NodeData, GraphPPL.EdgeLabel, GraphPPL.Context, MetaGraphsNext.var\"#4#8\", Float64}, GraphPPL.PluginsCollection{Tuple{GraphPPL.VariationalConstraintsPlugin{GraphPPL.NoConstraints}, GraphPPL.MetaPlugin{GraphPPL.MetaSpecification}, RxInfer.InitializationPlugin{RxInfer.NoInit}, RxInfer.ReactiveMPInferencePlugin{RxInfer.ReactiveMPInferenceOptions{RxInfer.LimitStackScheduler, Nothing, Nothing}}, RxInfer.ReactiveMPFreeEnergyPlugin{RxInfer.BetheFreeEnergy{Real, SkipInitial, AsapScheduler}}}}, RxInfer.ReactiveMPGraphPPLBackend{Static.False}, String}}, itr::GraphPPL.PluginsCollection{Tuple{GraphPPL.VariationalConstraintsPlugin{GraphPPL.NoConstraints}, GraphPPL.MetaPlugin{GraphPPL.MetaSpecification}, RxInfer.InitializationPlugin{RxInfer.NoInit}, RxInfer.ReactiveMPInferencePlugin{RxInfer.ReactiveMPInferenceOptions{RxInfer.LimitStackScheduler, Nothing, Nothing}}, RxInfer.ReactiveMPFreeEnergyPlugin{RxInfer.BetheFreeEnergy{Real, SkipInitial, AsapScheduler}}}})",
      "    @ Base ./abstractarray.jl:3187",
      "  [7] add_toplevel_model!",
      "    @ ~/.julia/packages/GraphPPL/xPNyo/src/graph_engine.jl:2135 [inlined]",
      "  [8] create_model",
      "    @ ~/.julia/packages/GraphPPL/xPNyo/src/model_generator.jl:159 [inlined]",
      "  [9] __infer_create_factor_graph_model",
      "    @ ~/.julia/packages/RxInfer/dt0ny/src/model/model.jl:140 [inlined]",
      " [10] create_model(generator::RxInfer.ConditionedModelGenerator{GraphPPL.ModelGenerator{typeof(hidden_markov_model), @Kwargs{}, GraphPPL.PluginsCollection{Tuple{GraphPPL.VariationalConstraintsPlugin{GraphPPL.NoConstraints}, GraphPPL.MetaPlugin{GraphPPL.MetaSpecification}, RxInfer.InitializationPlugin{RxInfer.NoInit}, RxInfer.ReactiveMPInferencePlugin{RxInfer.ReactiveMPInferenceOptions{RxInfer.LimitStackScheduler, Nothing, Nothing}}, RxInfer.ReactiveMPFreeEnergyPlugin{RxInfer.BetheFreeEnergy{Real, SkipInitial, AsapScheduler}}}}, RxInfer.ReactiveMPGraphPPLBackend{Static.False}, String}, @NamedTuple{y::Vector{Real}, T::Int64}})",
      "    @ RxInfer ~/.julia/packages/RxInfer/dt0ny/src/model/model.jl:128",
      " [11] batch_inference(; model::GraphPPL.ModelGenerator{typeof(hidden_markov_model), @Kwargs{}, GraphPPL.PluginsCollection{Tuple{}}, RxInfer.ReactiveMPGraphPPLBackend{Static.False}, String}, data::@NamedTuple{y::Vector{Real}, T::Int64}, initialization::Nothing, constraints::Nothing, meta::Nothing, options::@NamedTuple{limit_stack_depth::Int64}, returnvars::Nothing, predictvars::Nothing, iterations::Int64, free_energy::Bool, free_energy_diagnostics::Tuple{RxInfer.ObjectiveDiagnosticCheckNaNs, RxInfer.ObjectiveDiagnosticCheckInfs}, allow_node_contraction::Bool, showprogress::Bool, callbacks::@NamedTuple{on_marginal_update::var\"#168#169\"}, addons::Nothing, postprocess::DefaultPostprocess, warn::Bool, catch_exception::Bool)",
      "    @ RxInfer ~/.julia/packages/RxInfer/dt0ny/src/inference/batch.jl:203",
      " [12] batch_inference",
      "    @ ~/.julia/packages/RxInfer/dt0ny/src/inference/batch.jl:96 [inlined]",
      " [13] #288",
      "    @ ~/.julia/packages/RxInfer/dt0ny/src/inference/inference.jl:532 [inlined]",
      " [14] with_session(f::RxInfer.var\"#288#290\"{GraphPPL.ModelGenerator{typeof(hidden_markov_model), @Kwargs{}, GraphPPL.PluginsCollection{Tuple{}}, RxInfer.ReactiveMPGraphPPLBackend{Static.False}, String}, @NamedTuple{y::Vector{Real}, T::Int64}, Nothing, Nothing, Nothing, Nothing, Nothing, @NamedTuple{limit_stack_depth::Int64}, Nothing, Nothing, Nothing, Nothing, Int64, Bool, Tuple{RxInfer.ObjectiveDiagnosticCheckNaNs, RxInfer.ObjectiveDiagnosticCheckInfs}, Bool, Bool, Bool, @NamedTuple{on_marginal_update::var\"#168#169\"}, Nothing, DefaultPostprocess, Nothing, Bool, Bool, Bool}, session::RxInfer.Session, label::Symbol)",
      "    @ RxInfer ~/.julia/packages/RxInfer/dt0ny/src/session.jl:253",
      " [15] #infer#287",
      "    @ ~/.julia/packages/RxInfer/dt0ny/src/inference/inference.jl:502 [inlined]",
      " [16] top-level scope",
      "    @ In[13]:1"
     ]
    }
   ],
   "source": [
    "a = infer(\n",
    "    model = hidden_markov_model(),\n",
    "    # constraints = hidden_markov_constraints,\n",
    "    data = (y = hpmm.Y[1:2],T=2),\n",
    "    options = (limit_stack_depth = 500,),\n",
    "    free_energy = true,\n",
    "    showprogress=true,\n",
    "    iterations = 2,    \n",
    "    callbacks = (\n",
    "        on_marginal_update = (model, name, update) -> println(\"$(name) has been updated: $(update)\"),\n",
    "    )\n",
    ")"
   ]
  },
  {
   "cell_type": "code",
   "execution_count": 39,
   "metadata": {},
   "outputs": [
    {
     "data": {
      "text/plain": [
       "6-element Vector{Float64}:\n",
       " -3.0861022542913177\n",
       " -2.463481614860057\n",
       " -1.8543946226945307\n",
       " -1.7368137675940374\n",
       " -1.5487123696438576\n",
       " -1.5710621015038633"
      ]
     },
     "execution_count": 39,
     "metadata": {},
     "output_type": "execute_result"
    }
   ],
   "source": [
    "A = reshape(Pt.mat, U*X, U*X)\n",
    "lnA = log.(A)\n",
    "qpast = Categorical(U*X).p\n",
    "lnA * qpast"
   ]
  },
  {
   "cell_type": "code",
   "execution_count": 42,
   "metadata": {},
   "outputs": [
    {
     "data": {
      "text/plain": [
       "6×6 Matrix{Float64}:\n",
       " -3.14162  -2.09949  -3.5893   -4.35421  -1.7042    -3.62779\n",
       " -2.67286  -2.54201  -2.63866  -1.45322  -2.40575   -3.06837\n",
       " -1.74954  -2.19569  -1.71553  -3.31184  -0.967687  -1.18607\n",
       " -1.71908  -1.83874  -1.87132  -1.37859  -2.47359   -1.13955\n",
       " -1.35841  -1.06659  -1.24505  -1.59103  -2.20078   -1.83041\n",
       " -1.28165  -1.69121  -1.27579  -1.34234  -1.8778    -1.95759"
      ]
     },
     "execution_count": 42,
     "metadata": {},
     "output_type": "execute_result"
    }
   ],
   "source": [
    "lnA"
   ]
  },
  {
   "cell_type": "markdown",
   "metadata": {},
   "source": [
    "# Rényi divergence\n",
    "\n",
    "Paneme tähele, et hiljem saaks parandada variatsioonilist mõõtu q, peame me rakendama Jenseni võrratust, aga seda saab teha vaid kumerate funktsioonidega. alpha <1 ei pruugi olla kumer."
   ]
  },
  {
   "cell_type": "code",
   "execution_count": 68,
   "metadata": {},
   "outputs": [
    {
     "data": {
      "text/plain": [
       "D_alpha (generic function with 1 method)"
      ]
     },
     "execution_count": 68,
     "metadata": {},
     "output_type": "execute_result"
    }
   ],
   "source": [
    "N = 4\n",
    "function D_half(q, p)\n",
    "    sum = 0\n",
    "    for i in 1:N\n",
    "        sum += sqrt(q[i] * p[i])\n",
    "    end\n",
    "    -2*log(sum)\n",
    "end\n",
    "\n",
    "function D_inf(q, p)\n",
    "    best = -Inf\n",
    "    for i in 1:N\n",
    "        ratio = q[i]/p[i]\n",
    "        if ratio > best\n",
    "            best = ratio\n",
    "        end\n",
    "    end\n",
    "    best\n",
    "end\n",
    "\n",
    "function D_alpha(alpha, q, p)\n",
    "    sum = 0\n",
    "    for i in 1:N\n",
    "        sum += q[i]^alpha / p[i]^(alpha-1)\n",
    "    end\n",
    "    1/(alpha-1) * log(sum)\n",
    "end"
   ]
  },
  {
   "cell_type": "code",
   "execution_count": 83,
   "metadata": {},
   "outputs": [],
   "source": [
    "q = [1/4, 1/4, 1/4, 1/4]\n",
    "p = [1/20, 9/20, 11/20, 1/20];"
   ]
  },
  {
   "cell_type": "code",
   "execution_count": 124,
   "metadata": {},
   "outputs": [
    {
     "data": {
      "text/plain": [
       "0.3"
      ]
     },
     "execution_count": 124,
     "metadata": {},
     "output_type": "execute_result"
    }
   ],
   "source": [
    "alpha = 0.3"
   ]
  },
  {
   "cell_type": "code",
   "execution_count": 125,
   "metadata": {},
   "outputs": [
    {
     "data": {
      "text/plain": [
       "3.595553277777912"
      ]
     },
     "execution_count": 125,
     "metadata": {},
     "output_type": "execute_result"
    }
   ],
   "source": [
    "D_alpha(alpha, [0.01,0.01,0.97,0.01], p) / D_alpha(alpha, [0.01,0.97,0.1,0.01], p)"
   ]
  },
  {
   "cell_type": "code",
   "execution_count": null,
   "metadata": {},
   "outputs": [
    {
     "data": {
      "text/plain": [
       "#212 (generic function with 1 method)"
      ]
     },
     "execution_count": 112,
     "metadata": {},
     "output_type": "execute_result"
    }
   ],
   "source": [
    "f = alpha -> D_alpha(alpha, [0.01,0.3,0.95,0.01], p) / D_alpha(alpha, [0.01,0.95,0.3,0.01], p)"
   ]
  },
  {
   "cell_type": "code",
   "execution_count": 103,
   "metadata": {},
   "outputs": [
    {
     "data": {
      "text/plain": [
       "-0.09136265829790435"
      ]
     },
     "execution_count": 103,
     "metadata": {},
     "output_type": "execute_result"
    }
   ],
   "source": [
    "D_alpha(alpha, q, p)"
   ]
  },
  {
   "cell_type": "code",
   "execution_count": 61,
   "metadata": {},
   "outputs": [
    {
     "data": {
      "text/plain": [
       "1.0"
      ]
     },
     "execution_count": 61,
     "metadata": {},
     "output_type": "execute_result"
    }
   ],
   "source": [
    "D_inf(p, p)"
   ]
  },
  {
   "cell_type": "code",
   "execution_count": 62,
   "metadata": {},
   "outputs": [
    {
     "data": {
      "text/plain": [
       "2.0"
      ]
     },
     "execution_count": 62,
     "metadata": {},
     "output_type": "execute_result"
    }
   ],
   "source": [
    "D_inf([0, 1, 0, 0], p)"
   ]
  },
  {
   "cell_type": "code",
   "execution_count": 63,
   "metadata": {},
   "outputs": [
    {
     "data": {
      "text/plain": [
       "2.0"
      ]
     },
     "execution_count": 63,
     "metadata": {},
     "output_type": "execute_result"
    }
   ],
   "source": [
    "D_inf(q, p)"
   ]
  },
  {
   "cell_type": "code",
   "execution_count": 111,
   "metadata": {},
   "outputs": [],
   "source": [
    "using Plots"
   ]
  },
  {
   "cell_type": "code",
   "execution_count": 114,
   "metadata": {},
   "outputs": [
    {
     "data": {
      "image/png": "[encoded data removed]",
      "image/svg+xml": [
       "<?xml version=\"1.0\" encoding=\"utf-8\"?>\n",
       "<svg xmlns=\"http://www.w3.org/2000/svg\" xmlns:xlink=\"http://www.w3.org/1999/xlink\" width=\"600\" height=\"400\" viewBox=\"0 0 2400 1600\">\n",
       "<defs>\n",
       "  <clipPath id=\"clip160\">\n",
       "    <rect x=\"0\" y=\"0\" width=\"2400\" height=\"1600\"/>\n",
       "  </clipPath>\n",
       "</defs>\n",
       "<path clip-path=\"url(#clip160)\" d=\"M0 1600 L2400 1600 L2400 8.88178e-14 L0 8.88178e-14  Z\" fill=\"#ffffff\" fill-rule=\"evenodd\" fill-opacity=\"1\"/>\n",
       "<defs>\n",
       "  <clipPath id=\"clip161\">\n",
       "    <rect x=\"480\" y=\"0\" width=\"1681\" height=\"1600\"/>\n",
       "  </clipPath>\n",
       "</defs>\n",
       "<path clip-path=\"url(#clip160)\" d=\"M154.029 1486.45 L2352.76 1486.45 L2352.76 47.2441 L154.029 47.2441  Z\" fill=\"#ffffff\" fill-rule=\"evenodd\" fill-opacity=\"1\"/>\n",
       "<defs>\n",
       "  <clipPath id=\"clip162\">\n",
       "    <rect x=\"154\" y=\"47\" width=\"2200\" height=\"1440\"/>\n",
       "  </clipPath>\n",
       "</defs>\n",
       "<polyline clip-path=\"url(#clip162)\" style=\"stroke:#000000; stroke-linecap:round; stroke-linejoin:round; stroke-width:2; stroke-opacity:0.1; fill:none\" points=\"216.257,1486.45 216.257,47.2441 \"/>\n",
       "<polyline clip-path=\"url(#clip162)\" style=\"stroke:#000000; stroke-linecap:round; stroke-linejoin:round; stroke-width:2; stroke-opacity:0.1; fill:none\" points=\"734.825,1486.45 734.825,47.2441 \"/>\n",
       "<polyline clip-path=\"url(#clip162)\" style=\"stroke:#000000; stroke-linecap:round; stroke-linejoin:round; stroke-width:2; stroke-opacity:0.1; fill:none\" points=\"1253.39,1486.45 1253.39,47.2441 \"/>\n",
       "<polyline clip-path=\"url(#clip162)\" style=\"stroke:#000000; stroke-linecap:round; stroke-linejoin:round; stroke-width:2; stroke-opacity:0.1; fill:none\" points=\"1771.96,1486.45 1771.96,47.2441 \"/>\n",
       "<polyline clip-path=\"url(#clip162)\" style=\"stroke:#000000; stroke-linecap:round; stroke-linejoin:round; stroke-width:2; stroke-opacity:0.1; fill:none\" points=\"2290.53,1486.45 2290.53,47.2441 \"/>\n",
       "<polyline clip-path=\"url(#clip162)\" style=\"stroke:#000000; stroke-linecap:round; stroke-linejoin:round; stroke-width:2; stroke-opacity:0.1; fill:none\" points=\"154.029,1445.72 2352.76,1445.72 \"/>\n",
       "<polyline clip-path=\"url(#clip162)\" style=\"stroke:#000000; stroke-linecap:round; stroke-linejoin:round; stroke-width:2; stroke-opacity:0.1; fill:none\" points=\"154.029,991.916 2352.76,991.916 \"/>\n",
       "<polyline clip-path=\"url(#clip162)\" style=\"stroke:#000000; stroke-linecap:round; stroke-linejoin:round; stroke-width:2; stroke-opacity:0.1; fill:none\" points=\"154.029,538.117 2352.76,538.117 \"/>\n",
       "<polyline clip-path=\"url(#clip162)\" style=\"stroke:#000000; stroke-linecap:round; stroke-linejoin:round; stroke-width:2; stroke-opacity:0.1; fill:none\" points=\"154.029,84.3178 2352.76,84.3178 \"/>\n",
       "<polyline clip-path=\"url(#clip160)\" style=\"stroke:#000000; stroke-linecap:round; stroke-linejoin:round; stroke-width:4; stroke-opacity:1; fill:none\" points=\"154.029,1486.45 2352.76,1486.45 \"/>\n",
       "<polyline clip-path=\"url(#clip160)\" style=\"stroke:#000000; stroke-linecap:round; stroke-linejoin:round; stroke-width:4; stroke-opacity:1; fill:none\" points=\"216.257,1486.45 216.257,1467.55 \"/>\n",
       "<polyline clip-path=\"url(#clip160)\" style=\"stroke:#000000; stroke-linecap:round; stroke-linejoin:round; stroke-width:4; stroke-opacity:1; fill:none\" points=\"734.825,1486.45 734.825,1467.55 \"/>\n",
       "<polyline clip-path=\"url(#clip160)\" style=\"stroke:#000000; stroke-linecap:round; stroke-linejoin:round; stroke-width:4; stroke-opacity:1; fill:none\" points=\"1253.39,1486.45 1253.39,1467.55 \"/>\n",
       "<polyline clip-path=\"url(#clip160)\" style=\"stroke:#000000; stroke-linecap:round; stroke-linejoin:round; stroke-width:4; stroke-opacity:1; fill:none\" points=\"1771.96,1486.45 1771.96,1467.55 \"/>\n",
       "<polyline clip-path=\"url(#clip160)\" style=\"stroke:#000000; stroke-linecap:round; stroke-linejoin:round; stroke-width:4; stroke-opacity:1; fill:none\" points=\"2290.53,1486.45 2290.53,1467.55 \"/>\n",
       "<path clip-path=\"url(#clip160)\" d=\"M178.56 1517.37 Q174.949 1517.37 173.121 1520.93 Q171.315 1524.47 171.315 1531.6 Q171.315 1538.71 173.121 1542.27 Q174.949 1545.82 178.56 1545.82 Q182.195 1545.82 184 1542.27 Q185.829 1538.71 185.829 1531.6 Q185.829 1524.47 184 1520.93 Q182.195 1517.37 178.56 1517.37 M178.56 1513.66 Q184.371 1513.66 187.426 1518.27 Q190.505 1522.85 190.505 1531.6 Q190.505 1540.33 187.426 1544.94 Q184.371 1549.52 178.56 1549.52 Q172.75 1549.52 169.672 1544.94 Q166.616 1540.33 166.616 1531.6 Q166.616 1522.85 169.672 1518.27 Q172.75 1513.66 178.56 1513.66 Z\" fill=\"#000000\" fill-rule=\"nonzero\" fill-opacity=\"1\" /><path clip-path=\"url(#clip160)\" d=\"M198.722 1542.97 L203.607 1542.97 L203.607 1548.85 L198.722 1548.85 L198.722 1542.97 Z\" fill=\"#000000\" fill-rule=\"nonzero\" fill-opacity=\"1\" /><path clip-path=\"url(#clip160)\" d=\"M223.792 1517.37 Q220.181 1517.37 218.352 1520.93 Q216.546 1524.47 216.546 1531.6 Q216.546 1538.71 218.352 1542.27 Q220.181 1545.82 223.792 1545.82 Q227.426 1545.82 229.231 1542.27 Q231.06 1538.71 231.06 1531.6 Q231.06 1524.47 229.231 1520.93 Q227.426 1517.37 223.792 1517.37 M223.792 1513.66 Q229.602 1513.66 232.657 1518.27 Q235.736 1522.85 235.736 1531.6 Q235.736 1540.33 232.657 1544.94 Q229.602 1549.52 223.792 1549.52 Q217.981 1549.52 214.903 1544.94 Q211.847 1540.33 211.847 1531.6 Q211.847 1522.85 214.903 1518.27 Q217.981 1513.66 223.792 1513.66 Z\" fill=\"#000000\" fill-rule=\"nonzero\" fill-opacity=\"1\" /><path clip-path=\"url(#clip160)\" d=\"M253.953 1517.37 Q250.342 1517.37 248.514 1520.93 Q246.708 1524.47 246.708 1531.6 Q246.708 1538.71 248.514 1542.27 Q250.342 1545.82 253.953 1545.82 Q257.588 1545.82 259.393 1542.27 Q261.222 1538.71 261.222 1531.6 Q261.222 1524.47 259.393 1520.93 Q257.588 1517.37 253.953 1517.37 M253.953 1513.66 Q259.764 1513.66 262.819 1518.27 Q265.898 1522.85 265.898 1531.6 Q265.898 1540.33 262.819 1544.94 Q259.764 1549.52 253.953 1549.52 Q248.143 1549.52 245.065 1544.94 Q242.009 1540.33 242.009 1531.6 Q242.009 1522.85 245.065 1518.27 Q248.143 1513.66 253.953 1513.66 Z\" fill=\"#000000\" fill-rule=\"nonzero\" fill-opacity=\"1\" /><path clip-path=\"url(#clip160)\" d=\"M697.626 1517.37 Q694.015 1517.37 692.186 1520.93 Q690.38 1524.47 690.38 1531.6 Q690.38 1538.71 692.186 1542.27 Q694.015 1545.82 697.626 1545.82 Q701.26 1545.82 703.066 1542.27 Q704.894 1538.71 704.894 1531.6 Q704.894 1524.47 703.066 1520.93 Q701.26 1517.37 697.626 1517.37 M697.626 1513.66 Q703.436 1513.66 706.491 1518.27 Q709.57 1522.85 709.57 1531.6 Q709.57 1540.33 706.491 1544.94 Q703.436 1549.52 697.626 1549.52 Q691.816 1549.52 688.737 1544.94 Q685.681 1540.33 685.681 1531.6 Q685.681 1522.85 688.737 1518.27 Q691.816 1513.66 697.626 1513.66 Z\" fill=\"#000000\" fill-rule=\"nonzero\" fill-opacity=\"1\" /><path clip-path=\"url(#clip160)\" d=\"M717.788 1542.97 L722.672 1542.97 L722.672 1548.85 L717.788 1548.85 L717.788 1542.97 Z\" fill=\"#000000\" fill-rule=\"nonzero\" fill-opacity=\"1\" /><path clip-path=\"url(#clip160)\" d=\"M736.885 1544.91 L753.204 1544.91 L753.204 1548.85 L731.26 1548.85 L731.26 1544.91 Q733.922 1542.16 738.505 1537.53 Q743.112 1532.88 744.292 1531.53 Q746.538 1529.01 747.417 1527.27 Q748.32 1525.51 748.32 1523.82 Q748.32 1521.07 746.376 1519.33 Q744.454 1517.6 741.352 1517.6 Q739.153 1517.6 736.7 1518.36 Q734.269 1519.13 731.491 1520.68 L731.491 1515.95 Q734.315 1514.82 736.769 1514.24 Q739.223 1513.66 741.26 1513.66 Q746.63 1513.66 749.825 1516.35 Q753.019 1519.03 753.019 1523.52 Q753.019 1525.65 752.209 1527.57 Q751.422 1529.47 749.315 1532.07 Q748.737 1532.74 745.635 1535.95 Q742.533 1539.15 736.885 1544.91 Z\" fill=\"#000000\" fill-rule=\"nonzero\" fill-opacity=\"1\" /><path clip-path=\"url(#clip160)\" d=\"M763.065 1514.29 L781.422 1514.29 L781.422 1518.22 L767.348 1518.22 L767.348 1526.7 Q768.366 1526.35 769.385 1526.19 Q770.403 1526 771.422 1526 Q777.209 1526 780.588 1529.17 Q783.968 1532.34 783.968 1537.76 Q783.968 1543.34 780.496 1546.44 Q777.023 1549.52 770.704 1549.52 Q768.528 1549.52 766.26 1549.15 Q764.014 1548.78 761.607 1548.04 L761.607 1543.34 Q763.69 1544.47 765.912 1545.03 Q768.135 1545.58 770.611 1545.58 Q774.616 1545.58 776.954 1543.48 Q779.292 1541.37 779.292 1537.76 Q779.292 1534.15 776.954 1532.04 Q774.616 1529.94 770.611 1529.94 Q768.736 1529.94 766.862 1530.35 Q765.01 1530.77 763.065 1531.65 L763.065 1514.29 Z\" fill=\"#000000\" fill-rule=\"nonzero\" fill-opacity=\"1\" /><path clip-path=\"url(#clip160)\" d=\"M1215.7 1517.37 Q1212.08 1517.37 1210.26 1520.93 Q1208.45 1524.47 1208.45 1531.6 Q1208.45 1538.71 1210.26 1542.27 Q1212.08 1545.82 1215.7 1545.82 Q1219.33 1545.82 1221.14 1542.27 Q1222.96 1538.71 1222.96 1531.6 Q1222.96 1524.47 1221.14 1520.93 Q1219.33 1517.37 1215.7 1517.37 M1215.7 1513.66 Q1221.51 1513.66 1224.56 1518.27 Q1227.64 1522.85 1227.64 1531.6 Q1227.64 1540.33 1224.56 1544.94 Q1221.51 1549.52 1215.7 1549.52 Q1209.89 1549.52 1206.81 1544.94 Q1203.75 1540.33 1203.75 1531.6 Q1203.75 1522.85 1206.81 1518.27 Q1209.89 1513.66 1215.7 1513.66 Z\" fill=\"#000000\" fill-rule=\"nonzero\" fill-opacity=\"1\" /><path clip-path=\"url(#clip160)\" d=\"M1235.86 1542.97 L1240.74 1542.97 L1240.74 1548.85 L1235.86 1548.85 L1235.86 1542.97 Z\" fill=\"#000000\" fill-rule=\"nonzero\" fill-opacity=\"1\" /><path clip-path=\"url(#clip160)\" d=\"M1250.97 1514.29 L1269.33 1514.29 L1269.33 1518.22 L1255.26 1518.22 L1255.26 1526.7 Q1256.27 1526.35 1257.29 1526.19 Q1258.31 1526 1259.33 1526 Q1265.12 1526 1268.5 1529.17 Q1271.88 1532.34 1271.88 1537.76 Q1271.88 1543.34 1268.4 1546.44 Q1264.93 1549.52 1258.61 1549.52 Q1256.44 1549.52 1254.17 1549.15 Q1251.92 1548.78 1249.52 1548.04 L1249.52 1543.34 Q1251.6 1544.47 1253.82 1545.03 Q1256.04 1545.58 1258.52 1545.58 Q1262.52 1545.58 1264.86 1543.48 Q1267.2 1541.37 1267.2 1537.76 Q1267.2 1534.15 1264.86 1532.04 Q1262.52 1529.94 1258.52 1529.94 Q1256.64 1529.94 1254.77 1530.35 Q1252.92 1530.77 1250.97 1531.65 L1250.97 1514.29 Z\" fill=\"#000000\" fill-rule=\"nonzero\" fill-opacity=\"1\" /><path clip-path=\"url(#clip160)\" d=\"M1291.09 1517.37 Q1287.48 1517.37 1285.65 1520.93 Q1283.84 1524.47 1283.84 1531.6 Q1283.84 1538.71 1285.65 1542.27 Q1287.48 1545.82 1291.09 1545.82 Q1294.72 1545.82 1296.53 1542.27 Q1298.36 1538.71 1298.36 1531.6 Q1298.36 1524.47 1296.53 1520.93 Q1294.72 1517.37 1291.09 1517.37 M1291.09 1513.66 Q1296.9 1513.66 1299.95 1518.27 Q1303.03 1522.85 1303.03 1531.6 Q1303.03 1540.33 1299.95 1544.94 Q1296.9 1549.52 1291.09 1549.52 Q1285.28 1549.52 1282.2 1544.94 Q1279.14 1540.33 1279.14 1531.6 Q1279.14 1522.85 1282.2 1518.27 Q1285.28 1513.66 1291.09 1513.66 Z\" fill=\"#000000\" fill-rule=\"nonzero\" fill-opacity=\"1\" /><path clip-path=\"url(#clip160)\" d=\"M1734.76 1517.37 Q1731.15 1517.37 1729.32 1520.93 Q1727.52 1524.47 1727.52 1531.6 Q1727.52 1538.71 1729.32 1542.27 Q1731.15 1545.82 1734.76 1545.82 Q1738.4 1545.82 1740.2 1542.27 Q1742.03 1538.71 1742.03 1531.6 Q1742.03 1524.47 1740.2 1520.93 Q1738.4 1517.37 1734.76 1517.37 M1734.76 1513.66 Q1740.57 1513.66 1743.63 1518.27 Q1746.71 1522.85 1746.71 1531.6 Q1746.71 1540.33 1743.63 1544.94 Q1740.57 1549.52 1734.76 1549.52 Q1728.95 1549.52 1725.87 1544.94 Q1722.82 1540.33 1722.82 1531.6 Q1722.82 1522.85 1725.87 1518.27 Q1728.95 1513.66 1734.76 1513.66 Z\" fill=\"#000000\" fill-rule=\"nonzero\" fill-opacity=\"1\" /><path clip-path=\"url(#clip160)\" d=\"M1754.92 1542.97 L1759.81 1542.97 L1759.81 1548.85 L1754.92 1548.85 L1754.92 1542.97 Z\" fill=\"#000000\" fill-rule=\"nonzero\" fill-opacity=\"1\" /><path clip-path=\"url(#clip160)\" d=\"M1768.81 1514.29 L1791.03 1514.29 L1791.03 1516.28 L1778.49 1548.85 L1773.6 1548.85 L1785.41 1518.22 L1768.81 1518.22 L1768.81 1514.29 Z\" fill=\"#000000\" fill-rule=\"nonzero\" fill-opacity=\"1\" /><path clip-path=\"url(#clip160)\" d=\"M1800.2 1514.29 L1818.56 1514.29 L1818.56 1518.22 L1804.48 1518.22 L1804.48 1526.7 Q1805.5 1526.35 1806.52 1526.19 Q1807.54 1526 1808.56 1526 Q1814.34 1526 1817.72 1529.17 Q1821.1 1532.34 1821.1 1537.76 Q1821.1 1543.34 1817.63 1546.44 Q1814.16 1549.52 1807.84 1549.52 Q1805.66 1549.52 1803.4 1549.15 Q1801.15 1548.78 1798.74 1548.04 L1798.74 1543.34 Q1800.83 1544.47 1803.05 1545.03 Q1805.27 1545.58 1807.75 1545.58 Q1811.75 1545.58 1814.09 1543.48 Q1816.43 1541.37 1816.43 1537.76 Q1816.43 1534.15 1814.09 1532.04 Q1811.75 1529.94 1807.75 1529.94 Q1805.87 1529.94 1804 1530.35 Q1802.15 1530.77 1800.2 1531.65 L1800.2 1514.29 Z\" fill=\"#000000\" fill-rule=\"nonzero\" fill-opacity=\"1\" /><path clip-path=\"url(#clip160)\" d=\"M2242.6 1544.91 L2250.24 1544.91 L2250.24 1518.55 L2241.93 1520.21 L2241.93 1515.95 L2250.19 1514.29 L2254.87 1514.29 L2254.87 1544.91 L2262.51 1544.91 L2262.51 1548.85 L2242.6 1548.85 L2242.6 1544.91 Z\" fill=\"#000000\" fill-rule=\"nonzero\" fill-opacity=\"1\" /><path clip-path=\"url(#clip160)\" d=\"M2271.95 1542.97 L2276.84 1542.97 L2276.84 1548.85 L2271.95 1548.85 L2271.95 1542.97 Z\" fill=\"#000000\" fill-rule=\"nonzero\" fill-opacity=\"1\" /><path clip-path=\"url(#clip160)\" d=\"M2297.02 1517.37 Q2293.41 1517.37 2291.58 1520.93 Q2289.78 1524.47 2289.78 1531.6 Q2289.78 1538.71 2291.58 1542.27 Q2293.41 1545.82 2297.02 1545.82 Q2300.66 1545.82 2302.46 1542.27 Q2304.29 1538.71 2304.29 1531.6 Q2304.29 1524.47 2302.46 1520.93 Q2300.66 1517.37 2297.02 1517.37 M2297.02 1513.66 Q2302.83 1513.66 2305.89 1518.27 Q2308.97 1522.85 2308.97 1531.6 Q2308.97 1540.33 2305.89 1544.94 Q2302.83 1549.52 2297.02 1549.52 Q2291.21 1549.52 2288.13 1544.94 Q2285.08 1540.33 2285.08 1531.6 Q2285.08 1522.85 2288.13 1518.27 Q2291.21 1513.66 2297.02 1513.66 Z\" fill=\"#000000\" fill-rule=\"nonzero\" fill-opacity=\"1\" /><path clip-path=\"url(#clip160)\" d=\"M2327.18 1517.37 Q2323.57 1517.37 2321.74 1520.93 Q2319.94 1524.47 2319.94 1531.6 Q2319.94 1538.71 2321.74 1542.27 Q2323.57 1545.82 2327.18 1545.82 Q2330.82 1545.82 2332.62 1542.27 Q2334.45 1538.71 2334.45 1531.6 Q2334.45 1524.47 2332.62 1520.93 Q2330.82 1517.37 2327.18 1517.37 M2327.18 1513.66 Q2332.99 1513.66 2336.05 1518.27 Q2339.13 1522.85 2339.13 1531.6 Q2339.13 1540.33 2336.05 1544.94 Q2332.99 1549.52 2327.18 1549.52 Q2321.37 1549.52 2318.29 1544.94 Q2315.24 1540.33 2315.24 1531.6 Q2315.24 1522.85 2318.29 1518.27 Q2321.37 1513.66 2327.18 1513.66 Z\" fill=\"#000000\" fill-rule=\"nonzero\" fill-opacity=\"1\" /><polyline clip-path=\"url(#clip160)\" style=\"stroke:#000000; stroke-linecap:round; stroke-linejoin:round; stroke-width:4; stroke-opacity:1; fill:none\" points=\"154.029,1486.45 154.029,47.2441 \"/>\n",
       "<polyline clip-path=\"url(#clip160)\" style=\"stroke:#000000; stroke-linecap:round; stroke-linejoin:round; stroke-width:4; stroke-opacity:1; fill:none\" points=\"154.029,1445.72 172.926,1445.72 \"/>\n",
       "<polyline clip-path=\"url(#clip160)\" style=\"stroke:#000000; stroke-linecap:round; stroke-linejoin:round; stroke-width:4; stroke-opacity:1; fill:none\" points=\"154.029,991.916 172.926,991.916 \"/>\n",
       "<polyline clip-path=\"url(#clip160)\" style=\"stroke:#000000; stroke-linecap:round; stroke-linejoin:round; stroke-width:4; stroke-opacity:1; fill:none\" points=\"154.029,538.117 172.926,538.117 \"/>\n",
       "<polyline clip-path=\"url(#clip160)\" style=\"stroke:#000000; stroke-linecap:round; stroke-linejoin:round; stroke-width:4; stroke-opacity:1; fill:none\" points=\"154.029,84.3178 172.926,84.3178 \"/>\n",
       "<path clip-path=\"url(#clip160)\" d=\"M51.6634 1459.06 L59.3023 1459.06 L59.3023 1432.69 L50.9921 1434.36 L50.9921 1430.1 L59.256 1428.44 L63.9319 1428.44 L63.9319 1459.06 L71.5707 1459.06 L71.5707 1463 L51.6634 1463 L51.6634 1459.06 Z\" fill=\"#000000\" fill-rule=\"nonzero\" fill-opacity=\"1\" /><path clip-path=\"url(#clip160)\" d=\"M81.0151 1457.12 L85.8993 1457.12 L85.8993 1463 L81.0151 1463 L81.0151 1457.12 Z\" fill=\"#000000\" fill-rule=\"nonzero\" fill-opacity=\"1\" /><path clip-path=\"url(#clip160)\" d=\"M106.084 1431.51 Q102.473 1431.51 100.645 1435.08 Q98.8391 1438.62 98.8391 1445.75 Q98.8391 1452.86 100.645 1456.42 Q102.473 1459.96 106.084 1459.96 Q109.719 1459.96 111.524 1456.42 Q113.353 1452.86 113.353 1445.75 Q113.353 1438.62 111.524 1435.08 Q109.719 1431.51 106.084 1431.51 M106.084 1427.81 Q111.895 1427.81 114.95 1432.42 Q118.029 1437 118.029 1445.75 Q118.029 1454.48 114.95 1459.08 Q111.895 1463.67 106.084 1463.67 Q100.274 1463.67 97.1956 1459.08 Q94.14 1454.48 94.14 1445.75 Q94.14 1437 97.1956 1432.42 Q100.274 1427.81 106.084 1427.81 Z\" fill=\"#000000\" fill-rule=\"nonzero\" fill-opacity=\"1\" /><path clip-path=\"url(#clip160)\" d=\"M52.8903 1005.26 L60.5291 1005.26 L60.5291 978.896 L52.219 980.562 L52.219 976.303 L60.4828 974.636 L65.1587 974.636 L65.1587 1005.26 L72.7976 1005.26 L72.7976 1009.2 L52.8903 1009.2 L52.8903 1005.26 Z\" fill=\"#000000\" fill-rule=\"nonzero\" fill-opacity=\"1\" /><path clip-path=\"url(#clip160)\" d=\"M82.242 1003.32 L87.1262 1003.32 L87.1262 1009.2 L82.242 1009.2 L82.242 1003.32 Z\" fill=\"#000000\" fill-rule=\"nonzero\" fill-opacity=\"1\" /><path clip-path=\"url(#clip160)\" d=\"M98.1215 1005.26 L105.76 1005.26 L105.76 978.896 L97.4502 980.562 L97.4502 976.303 L105.714 974.636 L110.39 974.636 L110.39 1005.26 L118.029 1005.26 L118.029 1009.2 L98.1215 1009.2 L98.1215 1005.26 Z\" fill=\"#000000\" fill-rule=\"nonzero\" fill-opacity=\"1\" /><path clip-path=\"url(#clip160)\" d=\"M53.2606 551.462 L60.8995 551.462 L60.8995 525.096 L52.5893 526.763 L52.5893 522.504 L60.8532 520.837 L65.5291 520.837 L65.5291 551.462 L73.1679 551.462 L73.1679 555.397 L53.2606 555.397 L53.2606 551.462 Z\" fill=\"#000000\" fill-rule=\"nonzero\" fill-opacity=\"1\" /><path clip-path=\"url(#clip160)\" d=\"M82.6123 549.518 L87.4966 549.518 L87.4966 555.397 L82.6123 555.397 L82.6123 549.518 Z\" fill=\"#000000\" fill-rule=\"nonzero\" fill-opacity=\"1\" /><path clip-path=\"url(#clip160)\" d=\"M101.709 551.462 L118.029 551.462 L118.029 555.397 L96.0845 555.397 L96.0845 551.462 Q98.7465 548.707 103.33 544.078 Q107.936 539.425 109.117 538.082 Q111.362 535.559 112.242 533.823 Q113.145 532.064 113.145 530.374 Q113.145 527.619 111.2 525.883 Q109.279 524.147 106.177 524.147 Q103.978 524.147 101.524 524.911 Q99.0937 525.675 96.316 527.226 L96.316 522.504 Q99.14 521.37 101.594 520.791 Q104.047 520.212 106.084 520.212 Q111.455 520.212 114.649 522.897 Q117.844 525.582 117.844 530.073 Q117.844 532.203 117.033 534.124 Q116.246 536.022 114.14 538.615 Q113.561 539.286 110.459 542.504 Q107.358 545.698 101.709 551.462 Z\" fill=\"#000000\" fill-rule=\"nonzero\" fill-opacity=\"1\" /><path clip-path=\"url(#clip160)\" d=\"M52.3116 97.6627 L59.9504 97.6627 L59.9504 71.2971 L51.6403 72.9637 L51.6403 68.7045 L59.9041 67.0378 L64.58 67.0378 L64.58 97.6627 L72.2189 97.6627 L72.2189 101.598 L52.3116 101.598 L52.3116 97.6627 Z\" fill=\"#000000\" fill-rule=\"nonzero\" fill-opacity=\"1\" /><path clip-path=\"url(#clip160)\" d=\"M81.6633 95.7182 L86.5475 95.7182 L86.5475 101.598 L81.6633 101.598 L81.6633 95.7182 Z\" fill=\"#000000\" fill-rule=\"nonzero\" fill-opacity=\"1\" /><path clip-path=\"url(#clip160)\" d=\"M110.899 82.9637 Q114.256 83.6813 116.131 85.9498 Q118.029 88.2183 118.029 91.5516 Q118.029 96.6673 114.51 99.4682 Q110.992 102.269 104.51 102.269 Q102.334 102.269 100.02 101.829 Q97.728 101.413 95.2743 100.556 L95.2743 96.0423 Q97.2187 97.1766 99.5335 97.7553 Q101.848 98.334 104.371 98.334 Q108.77 98.334 111.061 96.5979 Q113.376 94.8618 113.376 91.5516 Q113.376 88.4961 111.223 86.7831 Q109.094 85.047 105.274 85.047 L101.246 85.047 L101.246 81.2044 L105.459 81.2044 Q108.908 81.2044 110.737 79.8387 Q112.566 78.4498 112.566 75.8572 Q112.566 73.1952 110.668 71.7832 Q108.793 70.348 105.274 70.348 Q103.353 70.348 101.154 70.7647 Q98.9548 71.1813 96.316 72.061 L96.316 67.8943 Q98.978 67.1536 101.293 66.7832 Q103.631 66.4128 105.691 66.4128 Q111.015 66.4128 114.117 68.8434 Q117.219 71.2508 117.219 75.3711 Q117.219 78.2415 115.575 80.2322 Q113.932 82.1998 110.899 82.9637 Z\" fill=\"#000000\" fill-rule=\"nonzero\" fill-opacity=\"1\" /><polyline clip-path=\"url(#clip162)\" style=\"stroke:#009af9; stroke-linecap:round; stroke-linejoin:round; stroke-width:4; stroke-opacity:1; fill:none\" points=\"216.257,1445.72 257.742,1344.71 299.228,1241.74 340.713,1137.62 382.199,1033.23 423.684,929.563 465.169,827.683 506.655,728.685 548.14,633.683 589.626,543.768 631.111,459.975 672.597,383.248 714.082,314.411 755.567,254.137 797.053,202.93 838.538,161.114 880.024,128.831 921.509,106.041 962.994,92.5396 1004.48,87.9763 1045.97,91.8743 1087.45,103.659 1128.94,122.681 1170.42,148.246 1211.91,179.635 1253.39,216.123 1294.88,257.003 1336.36,301.592 1377.85,349.246 1419.33,399.369 1460.82,451.411 1502.3,504.877 1543.79,559.324 1585.28,614.36 1626.76,669.642 1668.25,724.873 1709.73,779.8 1751.22,834.207 1792.7,887.914 1834.19,940.773 1875.67,992.664 1917.16,1043.49 1958.64,1093.18 2000.13,1141.67 2041.62,1188.93 2083.1,1234.92 2124.59,1279.63 2166.07,1323.06 2207.56,1365.22 2249.04,1406.09 \"/>\n",
       "<path clip-path=\"url(#clip160)\" d=\"M227.32 198.898 L499.623 198.898 L499.623 95.2176 L227.32 95.2176  Z\" fill=\"#ffffff\" fill-rule=\"evenodd\" fill-opacity=\"1\"/>\n",
       "<polyline clip-path=\"url(#clip160)\" style=\"stroke:#000000; stroke-linecap:round; stroke-linejoin:round; stroke-width:4; stroke-opacity:1; fill:none\" points=\"227.32,198.898 499.623,198.898 499.623,95.2176 227.32,95.2176 227.32,198.898 \"/>\n",
       "<polyline clip-path=\"url(#clip160)\" style=\"stroke:#009af9; stroke-linecap:round; stroke-linejoin:round; stroke-width:4; stroke-opacity:1; fill:none\" points=\"251.75,147.058 398.332,147.058 \"/>\n",
       "<path clip-path=\"url(#clip160)\" d=\"M436.605 166.745 Q434.799 171.375 433.086 172.787 Q431.373 174.199 428.503 174.199 L425.1 174.199 L425.1 170.634 L427.6 170.634 Q429.359 170.634 430.332 169.8 Q431.304 168.967 432.484 165.865 L433.248 163.921 L422.762 138.412 L427.276 138.412 L435.378 158.689 L443.48 138.412 L447.993 138.412 L436.605 166.745 Z\" fill=\"#000000\" fill-rule=\"nonzero\" fill-opacity=\"1\" /><path clip-path=\"url(#clip160)\" d=\"M455.285 160.402 L462.924 160.402 L462.924 134.037 L454.614 135.703 L454.614 131.444 L462.878 129.778 L467.554 129.778 L467.554 160.402 L475.192 160.402 L475.192 164.338 L455.285 164.338 L455.285 160.402 Z\" fill=\"#000000\" fill-rule=\"nonzero\" fill-opacity=\"1\" /></svg>\n"
      ],
      "text/html": [
       "<?xml version=\"1.0\" encoding=\"utf-8\"?>\n",
       "<svg xmlns=\"http://www.w3.org/2000/svg\" xmlns:xlink=\"http://www.w3.org/1999/xlink\" width=\"600\" height=\"400\" viewBox=\"0 0 2400 1600\">\n",
       "<defs>\n",
       "  <clipPath id=\"clip210\">\n",
       "    <rect x=\"0\" y=\"0\" width=\"2400\" height=\"1600\"/>\n",
       "  </clipPath>\n",
       "</defs>\n",
       "<path clip-path=\"url(#clip210)\" d=\"M0 1600 L2400 1600 L2400 8.88178e-14 L0 8.88178e-14  Z\" fill=\"#ffffff\" fill-rule=\"evenodd\" fill-opacity=\"1\"/>\n",
       "<defs>\n",
       "  <clipPath id=\"clip211\">\n",
       "    <rect x=\"480\" y=\"0\" width=\"1681\" height=\"1600\"/>\n",
       "  </clipPath>\n",
       "</defs>\n",
       "<path clip-path=\"url(#clip210)\" d=\"M154.029 1486.45 L2352.76 1486.45 L2352.76 47.2441 L154.029 47.2441  Z\" fill=\"#ffffff\" fill-rule=\"evenodd\" fill-opacity=\"1\"/>\n",
       "<defs>\n",
       "  <clipPath id=\"clip212\">\n",
       "    <rect x=\"154\" y=\"47\" width=\"2200\" height=\"1440\"/>\n",
       "  </clipPath>\n",
       "</defs>\n",
       "<polyline clip-path=\"url(#clip212)\" style=\"stroke:#000000; stroke-linecap:round; stroke-linejoin:round; stroke-width:2; stroke-opacity:0.1; fill:none\" points=\"216.257,1486.45 216.257,47.2441 \"/>\n",
       "<polyline clip-path=\"url(#clip212)\" style=\"stroke:#000000; stroke-linecap:round; stroke-linejoin:round; stroke-width:2; stroke-opacity:0.1; fill:none\" points=\"734.825,1486.45 734.825,47.2441 \"/>\n",
       "<polyline clip-path=\"url(#clip212)\" style=\"stroke:#000000; stroke-linecap:round; stroke-linejoin:round; stroke-width:2; stroke-opacity:0.1; fill:none\" points=\"1253.39,1486.45 1253.39,47.2441 \"/>\n",
       "<polyline clip-path=\"url(#clip212)\" style=\"stroke:#000000; stroke-linecap:round; stroke-linejoin:round; stroke-width:2; stroke-opacity:0.1; fill:none\" points=\"1771.96,1486.45 1771.96,47.2441 \"/>\n",
       "<polyline clip-path=\"url(#clip212)\" style=\"stroke:#000000; stroke-linecap:round; stroke-linejoin:round; stroke-width:2; stroke-opacity:0.1; fill:none\" points=\"2290.53,1486.45 2290.53,47.2441 \"/>\n",
       "<polyline clip-path=\"url(#clip212)\" style=\"stroke:#000000; stroke-linecap:round; stroke-linejoin:round; stroke-width:2; stroke-opacity:0.1; fill:none\" points=\"154.029,1445.72 2352.76,1445.72 \"/>\n",
       "<polyline clip-path=\"url(#clip212)\" style=\"stroke:#000000; stroke-linecap:round; stroke-linejoin:round; stroke-width:2; stroke-opacity:0.1; fill:none\" points=\"154.029,991.916 2352.76,991.916 \"/>\n",
       "<polyline clip-path=\"url(#clip212)\" style=\"stroke:#000000; stroke-linecap:round; stroke-linejoin:round; stroke-width:2; stroke-opacity:0.1; fill:none\" points=\"154.029,538.117 2352.76,538.117 \"/>\n",
       "<polyline clip-path=\"url(#clip212)\" style=\"stroke:#000000; stroke-linecap:round; stroke-linejoin:round; stroke-width:2; stroke-opacity:0.1; fill:none\" points=\"154.029,84.3178 2352.76,84.3178 \"/>\n",
       "<polyline clip-path=\"url(#clip210)\" style=\"stroke:#000000; stroke-linecap:round; stroke-linejoin:round; stroke-width:4; stroke-opacity:1; fill:none\" points=\"154.029,1486.45 2352.76,1486.45 \"/>\n",
       "<polyline clip-path=\"url(#clip210)\" style=\"stroke:#000000; stroke-linecap:round; stroke-linejoin:round; stroke-width:4; stroke-opacity:1; fill:none\" points=\"216.257,1486.45 216.257,1467.55 \"/>\n",
       "<polyline clip-path=\"url(#clip210)\" style=\"stroke:#000000; stroke-linecap:round; stroke-linejoin:round; stroke-width:4; stroke-opacity:1; fill:none\" points=\"734.825,1486.45 734.825,1467.55 \"/>\n",
       "<polyline clip-path=\"url(#clip210)\" style=\"stroke:#000000; stroke-linecap:round; stroke-linejoin:round; stroke-width:4; stroke-opacity:1; fill:none\" points=\"1253.39,1486.45 1253.39,1467.55 \"/>\n",
       "<polyline clip-path=\"url(#clip210)\" style=\"stroke:#000000; stroke-linecap:round; stroke-linejoin:round; stroke-width:4; stroke-opacity:1; fill:none\" points=\"1771.96,1486.45 1771.96,1467.55 \"/>\n",
       "<polyline clip-path=\"url(#clip210)\" style=\"stroke:#000000; stroke-linecap:round; stroke-linejoin:round; stroke-width:4; stroke-opacity:1; fill:none\" points=\"2290.53,1486.45 2290.53,1467.55 \"/>\n",
       "<path clip-path=\"url(#clip210)\" d=\"M178.56 1517.37 Q174.949 1517.37 173.121 1520.93 Q171.315 1524.47 171.315 1531.6 Q171.315 1538.71 173.121 1542.27 Q174.949 1545.82 178.56 1545.82 Q182.195 1545.82 184 1542.27 Q185.829 1538.71 185.829 1531.6 Q185.829 1524.47 184 1520.93 Q182.195 1517.37 178.56 1517.37 M178.56 1513.66 Q184.371 1513.66 187.426 1518.27 Q190.505 1522.85 190.505 1531.6 Q190.505 1540.33 187.426 1544.94 Q184.371 1549.52 178.56 1549.52 Q172.75 1549.52 169.672 1544.94 Q166.616 1540.33 166.616 1531.6 Q166.616 1522.85 169.672 1518.27 Q172.75 1513.66 178.56 1513.66 Z\" fill=\"#000000\" fill-rule=\"nonzero\" fill-opacity=\"1\" /><path clip-path=\"url(#clip210)\" d=\"M198.722 1542.97 L203.607 1542.97 L203.607 1548.85 L198.722 1548.85 L198.722 1542.97 Z\" fill=\"#000000\" fill-rule=\"nonzero\" fill-opacity=\"1\" /><path clip-path=\"url(#clip210)\" d=\"M223.792 1517.37 Q220.181 1517.37 218.352 1520.93 Q216.546 1524.47 216.546 1531.6 Q216.546 1538.71 218.352 1542.27 Q220.181 1545.82 223.792 1545.82 Q227.426 1545.82 229.231 1542.27 Q231.06 1538.71 231.06 1531.6 Q231.06 1524.47 229.231 1520.93 Q227.426 1517.37 223.792 1517.37 M223.792 1513.66 Q229.602 1513.66 232.657 1518.27 Q235.736 1522.85 235.736 1531.6 Q235.736 1540.33 232.657 1544.94 Q229.602 1549.52 223.792 1549.52 Q217.981 1549.52 214.903 1544.94 Q211.847 1540.33 211.847 1531.6 Q211.847 1522.85 214.903 1518.27 Q217.981 1513.66 223.792 1513.66 Z\" fill=\"#000000\" fill-rule=\"nonzero\" fill-opacity=\"1\" /><path clip-path=\"url(#clip210)\" d=\"M253.953 1517.37 Q250.342 1517.37 248.514 1520.93 Q246.708 1524.47 246.708 1531.6 Q246.708 1538.71 248.514 1542.27 Q250.342 1545.82 253.953 1545.82 Q257.588 1545.82 259.393 1542.27 Q261.222 1538.71 261.222 1531.6 Q261.222 1524.47 259.393 1520.93 Q257.588 1517.37 253.953 1517.37 M253.953 1513.66 Q259.764 1513.66 262.819 1518.27 Q265.898 1522.85 265.898 1531.6 Q265.898 1540.33 262.819 1544.94 Q259.764 1549.52 253.953 1549.52 Q248.143 1549.52 245.065 1544.94 Q242.009 1540.33 242.009 1531.6 Q242.009 1522.85 245.065 1518.27 Q248.143 1513.66 253.953 1513.66 Z\" fill=\"#000000\" fill-rule=\"nonzero\" fill-opacity=\"1\" /><path clip-path=\"url(#clip210)\" d=\"M697.626 1517.37 Q694.015 1517.37 692.186 1520.93 Q690.38 1524.47 690.38 1531.6 Q690.38 1538.71 692.186 1542.27 Q694.015 1545.82 697.626 1545.82 Q701.26 1545.82 703.066 1542.27 Q704.894 1538.71 704.894 1531.6 Q704.894 1524.47 703.066 1520.93 Q701.26 1517.37 697.626 1517.37 M697.626 1513.66 Q703.436 1513.66 706.491 1518.27 Q709.57 1522.85 709.57 1531.6 Q709.57 1540.33 706.491 1544.94 Q703.436 1549.52 697.626 1549.52 Q691.816 1549.52 688.737 1544.94 Q685.681 1540.33 685.681 1531.6 Q685.681 1522.85 688.737 1518.27 Q691.816 1513.66 697.626 1513.66 Z\" fill=\"#000000\" fill-rule=\"nonzero\" fill-opacity=\"1\" /><path clip-path=\"url(#clip210)\" d=\"M717.788 1542.97 L722.672 1542.97 L722.672 1548.85 L717.788 1548.85 L717.788 1542.97 Z\" fill=\"#000000\" fill-rule=\"nonzero\" fill-opacity=\"1\" /><path clip-path=\"url(#clip210)\" d=\"M736.885 1544.91 L753.204 1544.91 L753.204 1548.85 L731.26 1548.85 L731.26 1544.91 Q733.922 1542.16 738.505 1537.53 Q743.112 1532.88 744.292 1531.53 Q746.538 1529.01 747.417 1527.27 Q748.32 1525.51 748.32 1523.82 Q748.32 1521.07 746.376 1519.33 Q744.454 1517.6 741.352 1517.6 Q739.153 1517.6 736.7 1518.36 Q734.269 1519.13 731.491 1520.68 L731.491 1515.95 Q734.315 1514.82 736.769 1514.24 Q739.223 1513.66 741.26 1513.66 Q746.63 1513.66 749.825 1516.35 Q753.019 1519.03 753.019 1523.52 Q753.019 1525.65 752.209 1527.57 Q751.422 1529.47 749.315 1532.07 Q748.737 1532.74 745.635 1535.95 Q742.533 1539.15 736.885 1544.91 Z\" fill=\"#000000\" fill-rule=\"nonzero\" fill-opacity=\"1\" /><path clip-path=\"url(#clip210)\" d=\"M763.065 1514.29 L781.422 1514.29 L781.422 1518.22 L767.348 1518.22 L767.348 1526.7 Q768.366 1526.35 769.385 1526.19 Q770.403 1526 771.422 1526 Q777.209 1526 780.588 1529.17 Q783.968 1532.34 783.968 1537.76 Q783.968 1543.34 780.496 1546.44 Q777.023 1549.52 770.704 1549.52 Q768.528 1549.52 766.26 1549.15 Q764.014 1548.78 761.607 1548.04 L761.607 1543.34 Q763.69 1544.47 765.912 1545.03 Q768.135 1545.58 770.611 1545.58 Q774.616 1545.58 776.954 1543.48 Q779.292 1541.37 779.292 1537.76 Q779.292 1534.15 776.954 1532.04 Q774.616 1529.94 770.611 1529.94 Q768.736 1529.94 766.862 1530.35 Q765.01 1530.77 763.065 1531.65 L763.065 1514.29 Z\" fill=\"#000000\" fill-rule=\"nonzero\" fill-opacity=\"1\" /><path clip-path=\"url(#clip210)\" d=\"M1215.7 1517.37 Q1212.08 1517.37 1210.26 1520.93 Q1208.45 1524.47 1208.45 1531.6 Q1208.45 1538.71 1210.26 1542.27 Q1212.08 1545.82 1215.7 1545.82 Q1219.33 1545.82 1221.14 1542.27 Q1222.96 1538.71 1222.96 1531.6 Q1222.96 1524.47 1221.14 1520.93 Q1219.33 1517.37 1215.7 1517.37 M1215.7 1513.66 Q1221.51 1513.66 1224.56 1518.27 Q1227.64 1522.85 1227.64 1531.6 Q1227.64 1540.33 1224.56 1544.94 Q1221.51 1549.52 1215.7 1549.52 Q1209.89 1549.52 1206.81 1544.94 Q1203.75 1540.33 1203.75 1531.6 Q1203.75 1522.85 1206.81 1518.27 Q1209.89 1513.66 1215.7 1513.66 Z\" fill=\"#000000\" fill-rule=\"nonzero\" fill-opacity=\"1\" /><path clip-path=\"url(#clip210)\" d=\"M1235.86 1542.97 L1240.74 1542.97 L1240.74 1548.85 L1235.86 1548.85 L1235.86 1542.97 Z\" fill=\"#000000\" fill-rule=\"nonzero\" fill-opacity=\"1\" /><path clip-path=\"url(#clip210)\" d=\"M1250.97 1514.29 L1269.33 1514.29 L1269.33 1518.22 L1255.26 1518.22 L1255.26 1526.7 Q1256.27 1526.35 1257.29 1526.19 Q1258.31 1526 1259.33 1526 Q1265.12 1526 1268.5 1529.17 Q1271.88 1532.34 1271.88 1537.76 Q1271.88 1543.34 1268.4 1546.44 Q1264.93 1549.52 1258.61 1549.52 Q1256.44 1549.52 1254.17 1549.15 Q1251.92 1548.78 1249.52 1548.04 L1249.52 1543.34 Q1251.6 1544.47 1253.82 1545.03 Q1256.04 1545.58 1258.52 1545.58 Q1262.52 1545.58 1264.86 1543.48 Q1267.2 1541.37 1267.2 1537.76 Q1267.2 1534.15 1264.86 1532.04 Q1262.52 1529.94 1258.52 1529.94 Q1256.64 1529.94 1254.77 1530.35 Q1252.92 1530.77 1250.97 1531.65 L1250.97 1514.29 Z\" fill=\"#000000\" fill-rule=\"nonzero\" fill-opacity=\"1\" /><path clip-path=\"url(#clip210)\" d=\"M1291.09 1517.37 Q1287.48 1517.37 1285.65 1520.93 Q1283.84 1524.47 1283.84 1531.6 Q1283.84 1538.71 1285.65 1542.27 Q1287.48 1545.82 1291.09 1545.82 Q1294.72 1545.82 1296.53 1542.27 Q1298.36 1538.71 1298.36 1531.6 Q1298.36 1524.47 1296.53 1520.93 Q1294.72 1517.37 1291.09 1517.37 M1291.09 1513.66 Q1296.9 1513.66 1299.95 1518.27 Q1303.03 1522.85 1303.03 1531.6 Q1303.03 1540.33 1299.95 1544.94 Q1296.9 1549.52 1291.09 1549.52 Q1285.28 1549.52 1282.2 1544.94 Q1279.14 1540.33 1279.14 1531.6 Q1279.14 1522.85 1282.2 1518.27 Q1285.28 1513.66 1291.09 1513.66 Z\" fill=\"#000000\" fill-rule=\"nonzero\" fill-opacity=\"1\" /><path clip-path=\"url(#clip210)\" d=\"M1734.76 1517.37 Q1731.15 1517.37 1729.32 1520.93 Q1727.52 1524.47 1727.52 1531.6 Q1727.52 1538.71 1729.32 1542.27 Q1731.15 1545.82 1734.76 1545.82 Q1738.4 1545.82 1740.2 1542.27 Q1742.03 1538.71 1742.03 1531.6 Q1742.03 1524.47 1740.2 1520.93 Q1738.4 1517.37 1734.76 1517.37 M1734.76 1513.66 Q1740.57 1513.66 1743.63 1518.27 Q1746.71 1522.85 1746.71 1531.6 Q1746.71 1540.33 1743.63 1544.94 Q1740.57 1549.52 1734.76 1549.52 Q1728.95 1549.52 1725.87 1544.94 Q1722.82 1540.33 1722.82 1531.6 Q1722.82 1522.85 1725.87 1518.27 Q1728.95 1513.66 1734.76 1513.66 Z\" fill=\"#000000\" fill-rule=\"nonzero\" fill-opacity=\"1\" /><path clip-path=\"url(#clip210)\" d=\"M1754.92 1542.97 L1759.81 1542.97 L1759.81 1548.85 L1754.92 1548.85 L1754.92 1542.97 Z\" fill=\"#000000\" fill-rule=\"nonzero\" fill-opacity=\"1\" /><path clip-path=\"url(#clip210)\" d=\"M1768.81 1514.29 L1791.03 1514.29 L1791.03 1516.28 L1778.49 1548.85 L1773.6 1548.85 L1785.41 1518.22 L1768.81 1518.22 L1768.81 1514.29 Z\" fill=\"#000000\" fill-rule=\"nonzero\" fill-opacity=\"1\" /><path clip-path=\"url(#clip210)\" d=\"M1800.2 1514.29 L1818.56 1514.29 L1818.56 1518.22 L1804.48 1518.22 L1804.48 1526.7 Q1805.5 1526.35 1806.52 1526.19 Q1807.54 1526 1808.56 1526 Q1814.34 1526 1817.72 1529.17 Q1821.1 1532.34 1821.1 1537.76 Q1821.1 1543.34 1817.63 1546.44 Q1814.16 1549.52 1807.84 1549.52 Q1805.66 1549.52 1803.4 1549.15 Q1801.15 1548.78 1798.74 1548.04 L1798.74 1543.34 Q1800.83 1544.47 1803.05 1545.03 Q1805.27 1545.58 1807.75 1545.58 Q1811.75 1545.58 1814.09 1543.48 Q1816.43 1541.37 1816.43 1537.76 Q1816.43 1534.15 1814.09 1532.04 Q1811.75 1529.94 1807.75 1529.94 Q1805.87 1529.94 1804 1530.35 Q1802.15 1530.77 1800.2 1531.65 L1800.2 1514.29 Z\" fill=\"#000000\" fill-rule=\"nonzero\" fill-opacity=\"1\" /><path clip-path=\"url(#clip210)\" d=\"M2242.6 1544.91 L2250.24 1544.91 L2250.24 1518.55 L2241.93 1520.21 L2241.93 1515.95 L2250.19 1514.29 L2254.87 1514.29 L2254.87 1544.91 L2262.51 1544.91 L2262.51 1548.85 L2242.6 1548.85 L2242.6 1544.91 Z\" fill=\"#000000\" fill-rule=\"nonzero\" fill-opacity=\"1\" /><path clip-path=\"url(#clip210)\" d=\"M2271.95 1542.97 L2276.84 1542.97 L2276.84 1548.85 L2271.95 1548.85 L2271.95 1542.97 Z\" fill=\"#000000\" fill-rule=\"nonzero\" fill-opacity=\"1\" /><path clip-path=\"url(#clip210)\" d=\"M2297.02 1517.37 Q2293.41 1517.37 2291.58 1520.93 Q2289.78 1524.47 2289.78 1531.6 Q2289.78 1538.71 2291.58 1542.27 Q2293.41 1545.82 2297.02 1545.82 Q2300.66 1545.82 2302.46 1542.27 Q2304.29 1538.71 2304.29 1531.6 Q2304.29 1524.47 2302.46 1520.93 Q2300.66 1517.37 2297.02 1517.37 M2297.02 1513.66 Q2302.83 1513.66 2305.89 1518.27 Q2308.97 1522.85 2308.97 1531.6 Q2308.97 1540.33 2305.89 1544.94 Q2302.83 1549.52 2297.02 1549.52 Q2291.21 1549.52 2288.13 1544.94 Q2285.08 1540.33 2285.08 1531.6 Q2285.08 1522.85 2288.13 1518.27 Q2291.21 1513.66 2297.02 1513.66 Z\" fill=\"#000000\" fill-rule=\"nonzero\" fill-opacity=\"1\" /><path clip-path=\"url(#clip210)\" d=\"M2327.18 1517.37 Q2323.57 1517.37 2321.74 1520.93 Q2319.94 1524.47 2319.94 1531.6 Q2319.94 1538.71 2321.74 1542.27 Q2323.57 1545.82 2327.18 1545.82 Q2330.82 1545.82 2332.62 1542.27 Q2334.45 1538.71 2334.45 1531.6 Q2334.45 1524.47 2332.62 1520.93 Q2330.82 1517.37 2327.18 1517.37 M2327.18 1513.66 Q2332.99 1513.66 2336.05 1518.27 Q2339.13 1522.85 2339.13 1531.6 Q2339.13 1540.33 2336.05 1544.94 Q2332.99 1549.52 2327.18 1549.52 Q2321.37 1549.52 2318.29 1544.94 Q2315.24 1540.33 2315.24 1531.6 Q2315.24 1522.85 2318.29 1518.27 Q2321.37 1513.66 2327.18 1513.66 Z\" fill=\"#000000\" fill-rule=\"nonzero\" fill-opacity=\"1\" /><polyline clip-path=\"url(#clip210)\" style=\"stroke:#000000; stroke-linecap:round; stroke-linejoin:round; stroke-width:4; stroke-opacity:1; fill:none\" points=\"154.029,1486.45 154.029,47.2441 \"/>\n",
       "<polyline clip-path=\"url(#clip210)\" style=\"stroke:#000000; stroke-linecap:round; stroke-linejoin:round; stroke-width:4; stroke-opacity:1; fill:none\" points=\"154.029,1445.72 172.926,1445.72 \"/>\n",
       "<polyline clip-path=\"url(#clip210)\" style=\"stroke:#000000; stroke-linecap:round; stroke-linejoin:round; stroke-width:4; stroke-opacity:1; fill:none\" points=\"154.029,991.916 172.926,991.916 \"/>\n",
       "<polyline clip-path=\"url(#clip210)\" style=\"stroke:#000000; stroke-linecap:round; stroke-linejoin:round; stroke-width:4; stroke-opacity:1; fill:none\" points=\"154.029,538.117 172.926,538.117 \"/>\n",
       "<polyline clip-path=\"url(#clip210)\" style=\"stroke:#000000; stroke-linecap:round; stroke-linejoin:round; stroke-width:4; stroke-opacity:1; fill:none\" points=\"154.029,84.3178 172.926,84.3178 \"/>\n",
       "<path clip-path=\"url(#clip210)\" d=\"M51.6634 1459.06 L59.3023 1459.06 L59.3023 1432.69 L50.9921 1434.36 L50.9921 1430.1 L59.256 1428.44 L63.9319 1428.44 L63.9319 1459.06 L71.5707 1459.06 L71.5707 1463 L51.6634 1463 L51.6634 1459.06 Z\" fill=\"#000000\" fill-rule=\"nonzero\" fill-opacity=\"1\" /><path clip-path=\"url(#clip210)\" d=\"M81.0151 1457.12 L85.8993 1457.12 L85.8993 1463 L81.0151 1463 L81.0151 1457.12 Z\" fill=\"#000000\" fill-rule=\"nonzero\" fill-opacity=\"1\" /><path clip-path=\"url(#clip210)\" d=\"M106.084 1431.51 Q102.473 1431.51 100.645 1435.08 Q98.8391 1438.62 98.8391 1445.75 Q98.8391 1452.86 100.645 1456.42 Q102.473 1459.96 106.084 1459.96 Q109.719 1459.96 111.524 1456.42 Q113.353 1452.86 113.353 1445.75 Q113.353 1438.62 111.524 1435.08 Q109.719 1431.51 106.084 1431.51 M106.084 1427.81 Q111.895 1427.81 114.95 1432.42 Q118.029 1437 118.029 1445.75 Q118.029 1454.48 114.95 1459.08 Q111.895 1463.67 106.084 1463.67 Q100.274 1463.67 97.1956 1459.08 Q94.14 1454.48 94.14 1445.75 Q94.14 1437 97.1956 1432.42 Q100.274 1427.81 106.084 1427.81 Z\" fill=\"#000000\" fill-rule=\"nonzero\" fill-opacity=\"1\" /><path clip-path=\"url(#clip210)\" d=\"M52.8903 1005.26 L60.5291 1005.26 L60.5291 978.896 L52.219 980.562 L52.219 976.303 L60.4828 974.636 L65.1587 974.636 L65.1587 1005.26 L72.7976 1005.26 L72.7976 1009.2 L52.8903 1009.2 L52.8903 1005.26 Z\" fill=\"#000000\" fill-rule=\"nonzero\" fill-opacity=\"1\" /><path clip-path=\"url(#clip210)\" d=\"M82.242 1003.32 L87.1262 1003.32 L87.1262 1009.2 L82.242 1009.2 L82.242 1003.32 Z\" fill=\"#000000\" fill-rule=\"nonzero\" fill-opacity=\"1\" /><path clip-path=\"url(#clip210)\" d=\"M98.1215 1005.26 L105.76 1005.26 L105.76 978.896 L97.4502 980.562 L97.4502 976.303 L105.714 974.636 L110.39 974.636 L110.39 1005.26 L118.029 1005.26 L118.029 1009.2 L98.1215 1009.2 L98.1215 1005.26 Z\" fill=\"#000000\" fill-rule=\"nonzero\" fill-opacity=\"1\" /><path clip-path=\"url(#clip210)\" d=\"M53.2606 551.462 L60.8995 551.462 L60.8995 525.096 L52.5893 526.763 L52.5893 522.504 L60.8532 520.837 L65.5291 520.837 L65.5291 551.462 L73.1679 551.462 L73.1679 555.397 L53.2606 555.397 L53.2606 551.462 Z\" fill=\"#000000\" fill-rule=\"nonzero\" fill-opacity=\"1\" /><path clip-path=\"url(#clip210)\" d=\"M82.6123 549.518 L87.4966 549.518 L87.4966 555.397 L82.6123 555.397 L82.6123 549.518 Z\" fill=\"#000000\" fill-rule=\"nonzero\" fill-opacity=\"1\" /><path clip-path=\"url(#clip210)\" d=\"M101.709 551.462 L118.029 551.462 L118.029 555.397 L96.0845 555.397 L96.0845 551.462 Q98.7465 548.707 103.33 544.078 Q107.936 539.425 109.117 538.082 Q111.362 535.559 112.242 533.823 Q113.145 532.064 113.145 530.374 Q113.145 527.619 111.2 525.883 Q109.279 524.147 106.177 524.147 Q103.978 524.147 101.524 524.911 Q99.0937 525.675 96.316 527.226 L96.316 522.504 Q99.14 521.37 101.594 520.791 Q104.047 520.212 106.084 520.212 Q111.455 520.212 114.649 522.897 Q117.844 525.582 117.844 530.073 Q117.844 532.203 117.033 534.124 Q116.246 536.022 114.14 538.615 Q113.561 539.286 110.459 542.504 Q107.358 545.698 101.709 551.462 Z\" fill=\"#000000\" fill-rule=\"nonzero\" fill-opacity=\"1\" /><path clip-path=\"url(#clip210)\" d=\"M52.3116 97.6627 L59.9504 97.6627 L59.9504 71.2971 L51.6403 72.9637 L51.6403 68.7045 L59.9041 67.0378 L64.58 67.0378 L64.58 97.6627 L72.2189 97.6627 L72.2189 101.598 L52.3116 101.598 L52.3116 97.6627 Z\" fill=\"#000000\" fill-rule=\"nonzero\" fill-opacity=\"1\" /><path clip-path=\"url(#clip210)\" d=\"M81.6633 95.7182 L86.5475 95.7182 L86.5475 101.598 L81.6633 101.598 L81.6633 95.7182 Z\" fill=\"#000000\" fill-rule=\"nonzero\" fill-opacity=\"1\" /><path clip-path=\"url(#clip210)\" d=\"M110.899 82.9637 Q114.256 83.6813 116.131 85.9498 Q118.029 88.2183 118.029 91.5516 Q118.029 96.6673 114.51 99.4682 Q110.992 102.269 104.51 102.269 Q102.334 102.269 100.02 101.829 Q97.728 101.413 95.2743 100.556 L95.2743 96.0423 Q97.2187 97.1766 99.5335 97.7553 Q101.848 98.334 104.371 98.334 Q108.77 98.334 111.061 96.5979 Q113.376 94.8618 113.376 91.5516 Q113.376 88.4961 111.223 86.7831 Q109.094 85.047 105.274 85.047 L101.246 85.047 L101.246 81.2044 L105.459 81.2044 Q108.908 81.2044 110.737 79.8387 Q112.566 78.4498 112.566 75.8572 Q112.566 73.1952 110.668 71.7832 Q108.793 70.348 105.274 70.348 Q103.353 70.348 101.154 70.7647 Q98.9548 71.1813 96.316 72.061 L96.316 67.8943 Q98.978 67.1536 101.293 66.7832 Q103.631 66.4128 105.691 66.4128 Q111.015 66.4128 114.117 68.8434 Q117.219 71.2508 117.219 75.3711 Q117.219 78.2415 115.575 80.2322 Q113.932 82.1998 110.899 82.9637 Z\" fill=\"#000000\" fill-rule=\"nonzero\" fill-opacity=\"1\" /><polyline clip-path=\"url(#clip212)\" style=\"stroke:#009af9; stroke-linecap:round; stroke-linejoin:round; stroke-width:4; stroke-opacity:1; fill:none\" points=\"216.257,1445.72 257.742,1344.71 299.228,1241.74 340.713,1137.62 382.199,1033.23 423.684,929.563 465.169,827.683 506.655,728.685 548.14,633.683 589.626,543.768 631.111,459.975 672.597,383.248 714.082,314.411 755.567,254.137 797.053,202.93 838.538,161.114 880.024,128.831 921.509,106.041 962.994,92.5396 1004.48,87.9763 1045.97,91.8743 1087.45,103.659 1128.94,122.681 1170.42,148.246 1211.91,179.635 1253.39,216.123 1294.88,257.003 1336.36,301.592 1377.85,349.246 1419.33,399.369 1460.82,451.411 1502.3,504.877 1543.79,559.324 1585.28,614.36 1626.76,669.642 1668.25,724.873 1709.73,779.8 1751.22,834.207 1792.7,887.914 1834.19,940.773 1875.67,992.664 1917.16,1043.49 1958.64,1093.18 2000.13,1141.67 2041.62,1188.93 2083.1,1234.92 2124.59,1279.63 2166.07,1323.06 2207.56,1365.22 2249.04,1406.09 \"/>\n",
       "<path clip-path=\"url(#clip210)\" d=\"M227.32 198.898 L499.623 198.898 L499.623 95.2176 L227.32 95.2176  Z\" fill=\"#ffffff\" fill-rule=\"evenodd\" fill-opacity=\"1\"/>\n",
       "<polyline clip-path=\"url(#clip210)\" style=\"stroke:#000000; stroke-linecap:round; stroke-linejoin:round; stroke-width:4; stroke-opacity:1; fill:none\" points=\"227.32,198.898 499.623,198.898 499.623,95.2176 227.32,95.2176 227.32,198.898 \"/>\n",
       "<polyline clip-path=\"url(#clip210)\" style=\"stroke:#009af9; stroke-linecap:round; stroke-linejoin:round; stroke-width:4; stroke-opacity:1; fill:none\" points=\"251.75,147.058 398.332,147.058 \"/>\n",
       "<path clip-path=\"url(#clip210)\" d=\"M436.605 166.745 Q434.799 171.375 433.086 172.787 Q431.373 174.199 428.503 174.199 L425.1 174.199 L425.1 170.634 L427.6 170.634 Q429.359 170.634 430.332 169.8 Q431.304 168.967 432.484 165.865 L433.248 163.921 L422.762 138.412 L427.276 138.412 L435.378 158.689 L443.48 138.412 L447.993 138.412 L436.605 166.745 Z\" fill=\"#000000\" fill-rule=\"nonzero\" fill-opacity=\"1\" /><path clip-path=\"url(#clip210)\" d=\"M455.285 160.402 L462.924 160.402 L462.924 134.037 L454.614 135.703 L454.614 131.444 L462.878 129.778 L467.554 129.778 L467.554 160.402 L475.192 160.402 L475.192 164.338 L455.285 164.338 L455.285 160.402 Z\" fill=\"#000000\" fill-rule=\"nonzero\" fill-opacity=\"1\" /></svg>\n"
      ]
     },
     "execution_count": 114,
     "metadata": {},
     "output_type": "execute_result"
    }
   ],
   "source": [
    "plot(f, 0:0.02:1) "
   ]
  },
  {
   "cell_type": "code",
   "execution_count": null,
   "metadata": {},
   "outputs": [],
   "source": [
    "a = infer(\n",
    "    model = hidden_markov_model(),\n",
    "    constraints = hidden_markov_constraints,\n",
    "    initialization = init,\n",
    "    data = (y = hpmm.Y[1:T],),\n",
    "    options = (limit_stack_depth = 500,),\n",
    "    free_energy = true,\n",
    "    showprogress=true,\n",
    "    iterations = 20,    \n",
    "    warn = false,\n",
    "    callbacks = (\n",
    "        on_marginal_update = (model, name, update) -> begin\n",
    "            open(\"txts/$(string(time()-base_time)).txt\",\"a\") do io\n",
    "                println(io,\"$(update)\")\n",
    "            end\n",
    "        end,\n",
    "    )\n",
    ")\n",
    "\n",
    "model_generator = hidden_markov_model() | (y = hpmm.Y,)\n",
    "model_to_plot = RxInfer.getmodel(RxInfer.create_model(model_generator))\n",
    "GraphViz.load(model_to_plot, strategy = :simple, layout=\"dot\", width=5.,height=5.)"
   ]
  }
 ],
 "metadata": {
  "kernelspec": {
   "display_name": "Julia 1.11.2",
   "language": "julia",
   "name": "julia-1.11"
  },
  "language_info": {
   "file_extension": ".jl",
   "mimetype": "application/julia",
   "name": "julia",
   "version": "1.11.2"
  }
 },
 "nbformat": 4,
 "nbformat_minor": 2
}
